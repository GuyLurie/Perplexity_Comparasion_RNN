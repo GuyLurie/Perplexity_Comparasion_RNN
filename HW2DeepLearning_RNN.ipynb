{
 "nbformat": 4,
 "nbformat_minor": 0,
 "metadata": {
  "colab": {
   "provenance": [],
   "gpuType": "T4"
  },
  "kernelspec": {
   "name": "python3",
   "display_name": "Python 3"
  },
  "language_info": {
   "name": "python"
  },
  "accelerator": "GPU"
 },
 "cells": [
  {
   "cell_type": "markdown",
   "source": [
    "### Data Exploration"
   ],
   "metadata": {
    "id": "l_y_Z4t7_l5M"
   }
  },
  {
   "cell_type": "markdown",
   "source": [
    "data description: Penn Tree Bank (PTB) dataset Marcus et al.(1993), which consists of 929k training words, 73k validation words, and 82k test words. It has 10k words in its vocabulary.\n"
   ],
   "metadata": {
    "id": "Cb5TURW1_pbk"
   }
  },
  {
   "cell_type": "code",
   "source": [
    "# prompt: download ./PTB/ folder from drive\n",
    "\n",
    "import os\n",
    "import shutil\n",
    "from google.colab import drive, files\n",
    "\n",
    "drive.mount('/content/drive')\n",
    "source_path = '/content/drive/MyDrive/Deep Learning/PTB'\n",
    "# Specify the destination path on your Colab environment\n",
    "destination_path = \"/content/PTB\"\n",
    "\n",
    "# Create the destination folder if it doesn't exist\n",
    "os.makedirs(destination_path, exist_ok=True)\n",
    "\n",
    "for filename in os.listdir(source_path):\n",
    "  source_file_path = os.path.join(source_path, filename)\n",
    "  destination_file_path = os.path.join(destination_path, filename)\n",
    "  shutil.copy(source_file_path, destination_file_path)\n",
    "\n",
    "#dismount\n",
    "drive.flush_and_unmount()"
   ],
   "metadata": {
    "colab": {
     "base_uri": "https://localhost:8080/"
    },
    "id": "U9ABAu4W0VQt",
    "outputId": "476c18ff-2825-4343-acfc-035525e29194"
   },
   "execution_count": null,
   "outputs": [
    {
     "output_type": "stream",
     "name": "stdout",
     "text": [
      "Mounted at /content/drive\n"
     ]
    }
   ]
  },
  {
   "cell_type": "code",
   "source": [
    "with open('/content/PTB/ptb.train.txt', 'rb') as h:\n",
    "  train_txt = h.read()\n",
    "\n",
    "with open('/content/PTB/ptb.valid.txt', 'rb') as h:\n",
    "  valid_txt = h.read()\n",
    "\n",
    "with open('/content/PTB/ptb.test.txt', 'rb') as h:\n",
    "  test_txt = h.read()"
   ],
   "metadata": {
    "id": "shXneR4q2YP3"
   },
   "execution_count": null,
   "outputs": []
  },
  {
   "cell_type": "code",
   "source": [
    "print(type(train_txt))"
   ],
   "metadata": {
    "colab": {
     "base_uri": "https://localhost:8080/"
    },
    "id": "t1yrqJuCAin4",
    "outputId": "eae48bcc-21ef-4ded-82a4-1e27b2abb2b5"
   },
   "execution_count": null,
   "outputs": [
    {
     "output_type": "stream",
     "name": "stdout",
     "text": [
      "<class 'bytes'>\n"
     ]
    }
   ]
  },
  {
   "cell_type": "code",
   "source": [
    "# turn .txt into strings:\n",
    "train_str = train_txt.decode('utf-8').strip()\n",
    "valid_str = valid_txt.decode('utf-8').strip()\n",
    "test_str = test_txt.decode('utf-8').strip()"
   ],
   "metadata": {
    "id": "lHu6AMwFAxkP"
   },
   "execution_count": null,
   "outputs": []
  },
  {
   "cell_type": "code",
   "source": [
    "print(\"train length:\", len(train_str))\n",
    "print(\"valid length:\", len(valid_str))\n",
    "print(\"test length:\", len(test_str))\n",
    "\n",
    "train_txt[:1000]"
   ],
   "metadata": {
    "colab": {
     "base_uri": "https://localhost:8080/"
    },
    "id": "Q7fIkwukCIIa",
    "outputId": "8e4a7ba6-8501-40d0-e017-4101aaca85a1"
   },
   "execution_count": null,
   "outputs": [
    {
     "output_type": "stream",
     "name": "stdout",
     "text": [
      "train length: 5101615\n",
      "valid length: 399779\n",
      "test length: 449942\n"
     ]
    },
    {
     "output_type": "execute_result",
     "data": {
      "text/plain": [
       "b' aer banknote berlitz calloway centrust cluett fromstein gitano guterman hydro-quebec ipo kia memotec mlx nahb punts rake regatta rubens sim snack-food ssangyong swapo wachter \\n pierre <unk> N years old will join the board as a nonexecutive director nov. N \\n mr. <unk> is chairman of <unk> n.v. the dutch publishing group \\n rudolph <unk> N years old and former chairman of consolidated gold fields plc was named a nonexecutive director of this british industrial conglomerate \\n a form of asbestos once used to make kent cigarette filters has caused a high percentage of cancer deaths among a group of workers exposed to it more than N years ago researchers reported \\n the asbestos fiber <unk> is unusually <unk> once it enters the <unk> with even brief exposures to it causing symptoms that show up decades later researchers said \\n <unk> inc. the unit of new york-based <unk> corp. that makes kent cigarettes stopped using <unk> in its <unk> cigarette filters in N \\n although preliminary findings wer'"
      ]
     },
     "metadata": {},
     "execution_count": 7
    }
   ]
  },
  {
   "cell_type": "markdown",
   "source": [
    "### Data Preprocessing"
   ],
   "metadata": {
    "id": "JX2dSX04FvYs"
   }
  },
  {
   "cell_type": "code",
   "source": [
    "# replace \\n with <eos>\n",
    "train_str = train_str.replace('\\n','<eos>')\n",
    "valid_str = valid_str.replace('\\n','<eos>')\n",
    "test_str = test_str.replace('\\n','<eos>')"
   ],
   "metadata": {
    "id": "NSoTshc9CY6i"
   },
   "execution_count": null,
   "outputs": []
  },
  {
   "cell_type": "code",
   "source": [
    "from collections import Counter\n",
    "\n",
    "# Creating word2int and int2word dictionaries\n",
    "all_txt = train_str + valid_str + test_str\n",
    "txt_words = all_txt.split()\n",
    "word_counts = Counter(txt_words).most_common()\n",
    "word2int = {w:ii for ii, (w,c) in enumerate(word_counts)}\n",
    "int2word = {ii:w for w, ii in word2int.items()}\n",
    "\n",
    "print(word_counts[:10])\n",
    "print(len(word2int))"
   ],
   "metadata": {
    "colab": {
     "base_uri": "https://localhost:8080/"
    },
    "id": "f9LuXA4ICgyQ",
    "outputId": "328b0366-89bf-41fa-ae70-4e124cbeda1f"
   },
   "execution_count": null,
   "outputs": [
    {
     "output_type": "stream",
     "name": "stdout",
     "text": [
      "[('the', 59421), ('<unk>', 53298), ('<eos>', 49196), ('N', 37606), ('of', 28427), ('to', 27430), ('a', 24755), ('in', 21032), ('and', 20404), (\"'s\", 11555)]\n",
      "10002\n"
     ]
    }
   ]
  },
  {
   "cell_type": "code",
   "source": [
    "import numpy as np\n",
    "# Encoding words as integers\n",
    "encoded_train = np.array([word2int[w] for w in train_str.split()])\n",
    "encoded_valid = np.array([word2int[w] for w in valid_str.split()])\n",
    "encoded_test = np.array([word2int[w] for w in test_str.split()])\n",
    "\n",
    "# Asserting equality between encoded data to original data\n",
    "print(encoded_train[:10])\n",
    "decoded_attempt = ' '.join([str(int2word[w]) for w in encoded_train[:10]])\n",
    "print(decoded_attempt)\n",
    "print(train_str[:len(decoded_attempt)])"
   ],
   "metadata": {
    "colab": {
     "base_uri": "https://localhost:8080/"
    },
    "id": "6cd7byF4EDtz",
    "outputId": "1ef3cc3d-05f2-49fa-9528-d34f0d670bd5"
   },
   "execution_count": null,
   "outputs": [
    {
     "output_type": "stream",
     "name": "stdout",
     "text": [
      "[6503 6151 7924 8539 2353 8540 6918 8541 8542 7394]\n",
      "aer banknote berlitz calloway centrust cluett fromstein gitano guterman hydro-quebec\n",
      "aer banknote berlitz calloway centrust cluett fromstein gitano guterman hydro-quebec\n"
     ]
    }
   ]
  },
  {
   "cell_type": "code",
   "source": [
    "# Creating labels\n",
    "train_labels = np.append(encoded_train[1:],word2int['<eos>'])\n",
    "valid_labels = np.append(encoded_valid[1:],word2int['<eos>'])\n",
    "test_labels = np.append(encoded_test[1:],word2int['<eos>'])\n",
    "\n",
    "\n",
    "\n",
    "# created a bug:\n",
    "# test_labels = [encoded_test[1:]] + [word2int['<eos>']]\n",
    "\n",
    "print(\"First 10 instances in train \\ labels\")\n",
    "print(encoded_train[:10])\n",
    "print(train_labels[:10])\n",
    "print()\n",
    "\n",
    "print(\"Last 2 instances in train \\ labels\")\n",
    "print(encoded_train[-2:])\n",
    "print(train_labels[-2:])\n",
    "print()\n",
    "\n",
    "print(\"Length of encoded_train, train_labels\")\n",
    "print(len(encoded_train))\n",
    "print(len(train_labels))"
   ],
   "metadata": {
    "colab": {
     "base_uri": "https://localhost:8080/"
    },
    "id": "E_JvELATDdAh",
    "outputId": "3e10cc09-384a-489f-df7a-bd619ea07614"
   },
   "execution_count": null,
   "outputs": [
    {
     "output_type": "stream",
     "name": "stdout",
     "text": [
      "First 10 instances in train \\ labels\n",
      "[6503 6151 7924 8539 2353 8540 6918 8541 8542 7394]\n",
      "[6151 7924 8539 2353 8540 6918 8541 8542 7394 7925]\n",
      "\n",
      "Last 2 instances in train \\ labels\n",
      "[23  1]\n",
      "[1 2]\n",
      "\n",
      "Length of encoded_train, train_labels\n",
      "929588\n",
      "929588\n"
     ]
    }
   ]
  },
  {
   "cell_type": "code",
   "source": [
    "import torch\n",
    "from torch.utils.data import Dataset, DataLoader\n",
    "\n",
    "class SequenceDataset(Dataset):\n",
    "    def __init__(self, x_input,labels, seq_length, batch_size):\n",
    "        self.x_input = x_input\n",
    "        self.seq_length = seq_length\n",
    "        self.batch_size = batch_size\n",
    "        self.num_batches = len(x_input) // seq_length\n",
    "        self.stride = len(x_input) // batch_size  # How far apart starting points are for batches\n",
    "        self.labels = labels\n",
    "\n",
    "\n",
    "    def __len__(self):\n",
    "        return self.num_batches  # One sequence per batch\n",
    "\n",
    "    def __getitem__(self, idx):\n",
    "        # print(\"__getitem__ call number: \", idx)\n",
    "        # Calculate the start of the sequence for this batch\n",
    "        start_idx = (((idx%self.batch_size)) * self.stride) + (idx//batch_size)*(self.seq_length)\n",
    "        # Get the sequence\n",
    "        input_sequence = self.x_input[start_idx:start_idx + self.seq_length]\n",
    "        label_sequence = self.labels[start_idx:start_idx + self.seq_length]\n",
    "        sequence = (input_sequence, label_sequence)\n",
    "\n",
    "        return sequence"
   ],
   "metadata": {
    "id": "mmSAUm7nXvjz"
   },
   "execution_count": null,
   "outputs": []
  },
  {
   "cell_type": "code",
   "source": [
    "# To imitate the behavior described using torch.optim.lr_scheduler.CosineAnnealingLR, you need to carefully adjust its parameters. However, the behavior you're describing is a custom exponential decay rather than a cosine annealing schedule. To simulate this using PyTorch, you may want to use a custom learning rate scheduler instead.\n",
    "# Here’s how you can implement the described behavior:\n",
    "\n",
    "# 1. Using torch.optim.lr_scheduler.LambdaLR\n",
    "# The LambdaLR scheduler allows you to define a custom learning rate schedule as a lambda function.\n",
    "\n",
    "import torch\n",
    "from torch.optim import SGD\n",
    "from torch.optim.lr_scheduler import LambdaLR\n",
    "\n",
    "# Example optimizer\n",
    "model = torch.nn.Linear(10, 1)  # Dummy model\n",
    "optimizer = SGD(model.parameters(), lr=1.0)  # Initial LR = 1.0\n",
    "\n",
    "# Define the custom learning rate decay function\n",
    "def lr_lambda(epoch):\n",
    "    if epoch <= 6:\n",
    "        return 1.0  # No change for the first 6 epochs\n",
    "    else:\n",
    "        return (1.0 / (1.5 ** (epoch - 6)))  # Decrease by factor of 1.5 per epoch after epoch 6\n",
    "\n",
    "# Use LambdaLR\n",
    "scheduler = LambdaLR(optimizer, lr_lambda)\n",
    "\n",
    "# Simulate training loop\n",
    "for epoch in range(40):\n",
    "    # Training step (placeholder)\n",
    "    optimizer.step()\n",
    "\n",
    "    # Print current learning rate\n",
    "    print(f\"Epoch {epoch + 1}, LR: {scheduler.get_last_lr()[0]:.6f}\")\n",
    "\n",
    "    # Step the scheduler\n",
    "    scheduler.step()"
   ],
   "metadata": {
    "colab": {
     "base_uri": "https://localhost:8080/"
    },
    "id": "3Jc1MVxCgzGu",
    "outputId": "c72cf8a2-3d30-45ea-9fee-e97c854758a6"
   },
   "execution_count": null,
   "outputs": [
    {
     "output_type": "stream",
     "name": "stdout",
     "text": [
      "Epoch 1, LR: 1.000000\n",
      "Epoch 2, LR: 1.000000\n",
      "Epoch 3, LR: 1.000000\n",
      "Epoch 4, LR: 1.000000\n",
      "Epoch 5, LR: 1.000000\n",
      "Epoch 6, LR: 1.000000\n",
      "Epoch 7, LR: 1.000000\n",
      "Epoch 8, LR: 0.666667\n",
      "Epoch 9, LR: 0.444444\n",
      "Epoch 10, LR: 0.296296\n",
      "Epoch 11, LR: 0.197531\n",
      "Epoch 12, LR: 0.131687\n",
      "Epoch 13, LR: 0.087791\n",
      "Epoch 14, LR: 0.058528\n",
      "Epoch 15, LR: 0.039018\n",
      "Epoch 16, LR: 0.026012\n",
      "Epoch 17, LR: 0.017342\n",
      "Epoch 18, LR: 0.011561\n",
      "Epoch 19, LR: 0.007707\n",
      "Epoch 20, LR: 0.005138\n",
      "Epoch 21, LR: 0.003425\n",
      "Epoch 22, LR: 0.002284\n",
      "Epoch 23, LR: 0.001522\n",
      "Epoch 24, LR: 0.001015\n",
      "Epoch 25, LR: 0.000677\n",
      "Epoch 26, LR: 0.000451\n",
      "Epoch 27, LR: 0.000301\n",
      "Epoch 28, LR: 0.000200\n",
      "Epoch 29, LR: 0.000134\n",
      "Epoch 30, LR: 0.000089\n",
      "Epoch 31, LR: 0.000059\n",
      "Epoch 32, LR: 0.000040\n",
      "Epoch 33, LR: 0.000026\n",
      "Epoch 34, LR: 0.000018\n",
      "Epoch 35, LR: 0.000012\n",
      "Epoch 36, LR: 0.000008\n",
      "Epoch 37, LR: 0.000005\n",
      "Epoch 38, LR: 0.000003\n",
      "Epoch 39, LR: 0.000002\n",
      "Epoch 40, LR: 0.000002\n"
     ]
    }
   ]
  },
  {
   "cell_type": "code",
   "source": [
    "import torch\n",
    "import torch.nn as nn\n",
    "import torch.optim as optim\n",
    "from torch.utils.data import TensorDataset, DataLoader\n",
    "from tqdm import tqdm\n",
    "import os\n",
    "\n",
    "class hw2LSTM(nn.Module):\n",
    "\n",
    "    # reason: in the Penn Treebank (PTB) dataset, it is common to treat the text\n",
    "    # as a single continuous stream of words when training language models\n",
    "\n",
    "    def __init__(self, batch_size,seq_length, hidden_dim, n_layers, vocab_size, embedding_dim, dropout_p, device, rnn_type = \"LSTM\",checkpoint = None):\n",
    "        super(hw2LSTM, self).__init__()  # Pass the current class and self\n",
    "        self.embedding = nn.Embedding(vocab_size,embedding_dim)\n",
    "        self.dropout = nn.Dropout(dropout_p)\n",
    "        if rnn_type == \"LSTM\":\n",
    "            self.rnn = nn.LSTM(embedding_dim, hidden_dim, n_layers, dropout=dropout_p, batch_first=True)\n",
    "        elif rnn_type == \"GRU\":\n",
    "            self.rnn = nn.GRU(embedding_dim, hidden_dim, n_layers, dropout=dropout_p, batch_first=True)\n",
    "\n",
    "        self.fc = nn.Linear(hidden_dim,vocab_size)\n",
    "\n",
    "        self.apply(self.init_weights)\n",
    "        self.batch_size = batch_size\n",
    "        self.hidden_dim = hidden_dim\n",
    "        self.n_layers = n_layers\n",
    "        self.vocab_size = vocab_size\n",
    "        self.seq_length = seq_length\n",
    "        self.embedding_dim = embedding_dim\n",
    "        self.dropout_p = dropout_p\n",
    "        self.device = device\n",
    "        self.rnn_type = rnn_type\n",
    "\n",
    "        if checkpoint is not None:\n",
    "            print(\"Loading checkpoint...\")\n",
    "            checkpoint = torch.load(checkpoint, map_location=torch.device('cpu'))\n",
    "            self.load_state_dict(checkpoint)\n",
    "            self.to(device)\n",
    "            print(\"Checkpoint loaded successfully.\")\n",
    "\n",
    "\n",
    "\n",
    "    def init_weights(self,m):\n",
    "        # LSTM parameters are initialized uniformly in [−0.05, 0.05].\n",
    "         if type(m) == nn.LSTM or type(m) == nn.GRU:\n",
    "            for name, param in m.named_parameters():\n",
    "                if 'weight' in name:\n",
    "                    nn.init.uniform_(param.data, -0.05, 0.05)\n",
    "                elif 'bias' in name:\n",
    "                    nn.init.constant_(param.data, 0) # convention\n",
    "\n",
    "\n",
    "    def forward(self,x,hidden):\n",
    "        embedded = self.embedding(x) # batch_size*seq_length,embedding\n",
    "        embedded = self.dropout(embedded)\n",
    "        out, hidden = self.rnn(embedded, hidden) # batch_size, seq_length, hidden_dim\n",
    "        out = out.contiguous().view(-1,self.hidden_dim) # batch_size*seq_length , hidden_dim\n",
    "        out = self.fc(out) # batch_size*seq_length , vocab_size\n",
    "        return out, hidden\n",
    "\n",
    "def lr_lambda(epoch):\n",
    "    if epoch <= 6:\n",
    "        return 1.0  # No change for the first 6 epochs\n",
    "    else:\n",
    "        return (1.0 / (1.2 ** (epoch - 6)))  # Decrease by factor of 1.2 per epoch after epoch 6\n",
    "\n",
    "def init_hidden(net, batch_size, n_layers, hidden_dim):\n",
    "    cuda = torch.cuda.is_available()\n",
    "    device = torch.device(\"cuda\" if cuda else \"cpu\")\n",
    "\n",
    "    # hidden0 should tuple each in size (n_layers,batchsize,hidden_dim)\n",
    "    weight = next(net.parameters()).data\n",
    "\n",
    "    # If theres multiple seqs per batch\n",
    "    if net.rnn_type == \"LSTM\":\n",
    "    # Initialize hidden state as a tuple (h_t, c_t)\n",
    "        hidden = (\n",
    "        weight.new_zeros(n_layers, batch_size, hidden_dim).to(device),\n",
    "        weight.new_zeros(n_layers, batch_size, hidden_dim).to(device),\n",
    "      )\n",
    "    elif net.rnn_type == \"GRU\":\n",
    "    # Initialize hidden state as a single tensor\n",
    "        hidden = weight.new_zeros(n_layers, batch_size, hidden_dim).to(device)\n",
    "\n",
    "    return hidden\n",
    "\n",
    "def train(model,train_x,train_y,val_x,val_y,batch_size,learning_rate, n_epoches, clip,validate_and_print_every,model_name):\n",
    "    count = 0\n",
    "    best_valid_perplexity = float('inf')\n",
    "\n",
    "    # checkpoints\n",
    "    checkpoint_dir = f'Perplexity_Comparasion_RNN/models/checkpoints/{model_name}'\n",
    "    os.makedirs(checkpoint_dir, exist_ok=True)\n",
    "\n",
    "    # Zero accumulated gradients\n",
    "    model.zero_grad()\n",
    "\n",
    "    # Criterion and Optimizer\n",
    "    criterion = nn.CrossEntropyLoss()\n",
    "    optimizer = optim.SGD(model.parameters(), lr=learning_rate)\n",
    "    scheduler = LambdaLR(optimizer, lr_lambda)\n",
    "\n",
    "\n",
    "    train_dataset = SequenceDataset(torch.from_numpy(train_x), torch.from_numpy(train_y), model.seq_length, batch_size)\n",
    "    train_loader = DataLoader(train_dataset, batch_size=batch_size, shuffle=False, drop_last=True)\n",
    "\n",
    "    # use device\n",
    "    cuda = torch.cuda.is_available()\n",
    "    device = torch.device(\"cuda\" if cuda else \"cpu\")\n",
    "    model = model.to(device)\n",
    "    criterion = criterion.to(device)\n",
    "\n",
    "    # Loss & Perplexity\n",
    "    per_epoch_train_losses = []\n",
    "    per_epoch_train_perplexities = []\n",
    "    per_epoch_valid_losses = []\n",
    "    per_epoch_valid_perplexities = []\n",
    "\n",
    "    # epoch_loop\n",
    "    for epoch in tqdm(range(n_epoches)):\n",
    "      model.train()\n",
    "      valid_losses = []\n",
    "      valid_perplexities = []\n",
    "\n",
    "      # batch_loop\n",
    "      # Initiate hidden once. Afterwards - the final hidden states of the current minibatch\n",
    "      # is used as the initial hidden state of the subsequent minibatch\n",
    "      hidden = init_hidden(model,batch_size,model.n_layers,model.hidden_dim)\n",
    "\n",
    "      # batch_loop\n",
    "      for inputs, labels in train_loader:\n",
    "          count += 1\n",
    "\n",
    "          # Throw last batch\n",
    "          # if inputs.shape[0] != batch_size or labels.shape[0] != batch_size:\n",
    "          #       continue  # Skip this batch if it's smaller\n",
    "\n",
    "          model.zero_grad()\n",
    "\n",
    "\n",
    "          inputs, labels = inputs.to(device), labels.to(device)\n",
    "          if model.rnn_type == \"LSTM\":\n",
    "            hidden = tuple([each.detach() for each in hidden])\n",
    "          elif model.rnn_type == \"GRU\":\n",
    "            hidden = hidden.detach()\n",
    "          out, hidden = model(inputs,hidden)\n",
    "          labels = labels.view(-1)\n",
    "          loss = criterion(out, labels)\n",
    "          loss.backward()\n",
    "          # We clip the norm of the gradients (normalized by minibatch size) at 5.\n",
    "          nn.utils.clip_grad_norm_(model.parameters(), clip)\n",
    "          # Note - I couldnt find if clip_grad_norm_ normalizes the gradients internally by batch_size.\n",
    "          optimizer.step()\n",
    "\n",
    "          if count % validate_and_print_every == 0:\n",
    "            ###\n",
    "            train_perplexity = torch.exp(loss).item()\n",
    "            ###\n",
    "            print(\"Epoch: {}/{}...\".format(epoch+1, n_epoches),\n",
    "                \"Step: {}...\".format(count),\n",
    "                \"Loss: {:.4f}...\".format(loss.item()),\n",
    "                \"Last train batch Perplexity: {:.4f}...\".format(train_perplexity))\n",
    "                # \"Avarage val Loss: {:.4f}...\".format(valid_loss/len(val_loader)),\n",
    "                # \"Avarage val Perplexity: {:.4f}\".format(average_valid_perplexity))\n",
    "\n",
    "      # Validation\n",
    "      model.eval()\n",
    "\n",
    "      valid_losses = []\n",
    "      valid_perplexities_avarage = []\n",
    "      val_h = init_hidden(model,batch_size,model.n_layers,model.hidden_dim)\n",
    "      val_dataset = SequenceDataset(torch.from_numpy(val_x), torch.from_numpy(val_y), model.seq_length, batch_size)\n",
    "      val_loader = DataLoader(val_dataset, batch_size=batch_size, shuffle=False, drop_last=True)\n",
    "\n",
    "      # Iterate throught validation data\n",
    "      for inputs, labels in val_loader:\n",
    "          # if inputs.shape[0] != batch_size or labels.shape[0] != batch_size:\n",
    "          #     continue\n",
    "          if model.rnn_type == \"LSTM\":\n",
    "            val_h = tuple([each.detach() for each in val_h])\n",
    "          elif model.rnn_type == \"GRU\":\n",
    "            val_h = val_h.detach()\n",
    "          inputs, labels = inputs.to(device), labels.to(device)\n",
    "          out, val_h = model(inputs, val_h)\n",
    "          labels = labels.view(-1)\n",
    "          val_loss = criterion(out, labels)\n",
    "          valid_losses.append(val_loss.item())\n",
    "\n",
    "          valid_perplexity = torch.exp(val_loss).item()\n",
    "          valid_perplexities_avarage.append(valid_perplexity)\n",
    "\n",
    "      # valid_losses.append(valid_loss/len(val_loader))\n",
    "      avarage_valid_loss = sum(valid_losses)/len(valid_losses)\n",
    "      average_valid_perplexity = sum(valid_perplexities_avarage)/len(valid_perplexities_avarage)\n",
    "      valid_perplexities.append(average_valid_perplexity)\n",
    "\n",
    "      # Iterate through train data\n",
    "      epoch_train_losses = []\n",
    "      epoch_train_perplexities = []\n",
    "      hidden = init_hidden(model,batch_size,model.n_layers,model.hidden_dim)\n",
    "      for inputs, labels in train_loader:\n",
    "          if model.rnn_type == \"LSTM\":\n",
    "            hidden = tuple([each.detach() for each in hidden])\n",
    "          elif model.rnn_type == \"GRU\":\n",
    "            hidden = hidden.detach()\n",
    "          inputs, labels = inputs.to(device), labels.to(device)\n",
    "          out, hidden = model(inputs, hidden)\n",
    "          labels = labels.view(-1)\n",
    "          loss = criterion(out, labels)\n",
    "          epoch_train_losses.append(loss.item())\n",
    "          epoch_train_perplexity = torch.exp(loss).item()\n",
    "          epoch_train_perplexities.append(epoch_train_perplexity)\n",
    "\n",
    "      avarage_train_loss = sum(epoch_train_losses)/len(epoch_train_losses)\n",
    "      avarage_train_perplexity = sum(epoch_train_perplexities)/len(epoch_train_perplexities)\n",
    "      model.train()\n",
    "\n",
    "      if average_valid_perplexity < best_valid_perplexity:\n",
    "        best_valid_perplexity = average_valid_perplexity\n",
    "        torch.save(model.state_dict(), os.path.join(checkpoint_dir, 'best_validation_model.pt'))\n",
    "\n",
    "      tqdm.write(\n",
    "                f'Epoch: {epoch + 1:02}, Train Loss: {avarage_train_loss:.3f}, Valid Loss: {avarage_valid_loss:.3f}, Train Perplexity: {avarage_train_perplexity:.3f}, Valid Perplexity: {average_valid_perplexity:.3f}')\n",
    "\n",
    "      per_epoch_train_losses.append(avarage_train_loss)\n",
    "      per_epoch_train_perplexities.append(avarage_train_perplexity)\n",
    "      per_epoch_valid_losses.append(avarage_valid_loss)\n",
    "      per_epoch_valid_perplexities.append(average_valid_perplexity)\n",
    "    return per_epoch_train_losses, per_epoch_valid_losses, per_epoch_train_perplexities, per_epoch_valid_perplexities\n"
   ],
   "metadata": {
    "id": "RN4Fxl-7-RQT"
   },
   "execution_count": null,
   "outputs": []
  },
  {
   "cell_type": "code",
   "source": [
    "hidden_dim = 200\n",
    "embedding_dim = 512\n",
    "batch_size = 20\n",
    "dropout_p = 0.3\n",
    "learning_rate = 1\n",
    "clip = 3\n",
    "print_every = 300\n",
    "vocab_size = len(word2int)\n",
    "print(vocab_size)\n",
    "n_layers = 2\n",
    "n_epoches = 40\n",
    "seq_length = 35"
   ],
   "metadata": {
    "id": "eqSoqI9LSXYB",
    "colab": {
     "base_uri": "https://localhost:8080/"
    },
    "outputId": "0c866243-120e-4c47-8f5a-640328972028"
   },
   "execution_count": null,
   "outputs": [
    {
     "output_type": "stream",
     "name": "stdout",
     "text": [
      "10002\n"
     ]
    }
   ]
  },
  {
   "cell_type": "code",
   "source": [
    "device = torch.device(\"cuda\" if torch.cuda.is_available() else \"cpu\")\n",
    "model_name = \"LSTM_dropout_0.3\"\n",
    "lstm_model = hw2LSTM(batch_size,seq_length, hidden_dim, n_layers, vocab_size, embedding_dim, dropout_p, device)\n",
    "per_epoch_train_losses, per_epoch_valid_losses, per_epoch_train_perplexities, per_epoch_valid_perplexities = train(model= lstm_model, train_x= encoded_train,train_y=train_labels,val_x = encoded_valid, val_y = valid_labels,batch_size= batch_size,learning_rate= learning_rate, n_epoches= n_epoches, clip= clip, validate_and_print_every= print_every,model_name=model_name)\n",
    "# train(lstm_model,x,y,batch_size,learning_rate, n_epoches, clip"
   ],
   "metadata": {
    "colab": {
     "base_uri": "https://localhost:8080/"
    },
    "id": "jzga3-5Wi0fe",
    "outputId": "b68ba63a-bc1c-4cac-d4c6-23081e9b5466"
   },
   "execution_count": null,
   "outputs": [
    {
     "output_type": "stream",
     "name": "stderr",
     "text": [
      "\r  0%|          | 0/40 [00:00<?, ?it/s]"
     ]
    },
    {
     "output_type": "stream",
     "name": "stdout",
     "text": [
      "Epoch: 1/40... Step: 300... Loss: 6.3997... Last train batch Perplexity: 601.6764...\n",
      "Epoch: 1/40... Step: 600... Loss: 6.2827... Last train batch Perplexity: 535.2275...\n",
      "Epoch: 1/40... Step: 900... Loss: 6.0616... Last train batch Perplexity: 429.0668...\n",
      "Epoch: 1/40... Step: 1200... Loss: 5.4043... Last train batch Perplexity: 222.3631...\n"
     ]
    },
    {
     "output_type": "stream",
     "name": "stderr",
     "text": [
      "  2%|▎         | 1/40 [00:14<09:19, 14.35s/it]"
     ]
    },
    {
     "output_type": "stream",
     "name": "stdout",
     "text": [
      "Epoch: 01, Train Loss: 5.869, Valid Loss: 5.871, Train Perplexity: 358.748, Valid Perplexity: 359.033\n",
      "Epoch: 2/40... Step: 1500... Loss: 5.7397... Last train batch Perplexity: 310.9570...\n",
      "Epoch: 2/40... Step: 1800... Loss: 5.6660... Last train batch Perplexity: 288.8789...\n",
      "Epoch: 2/40... Step: 2100... Loss: 5.4901... Last train batch Perplexity: 242.2782...\n",
      "Epoch: 2/40... Step: 2400... Loss: 5.3772... Last train batch Perplexity: 216.4198...\n"
     ]
    },
    {
     "output_type": "stream",
     "name": "stderr",
     "text": [
      "  5%|▌         | 2/40 [00:27<08:48, 13.90s/it]"
     ]
    },
    {
     "output_type": "stream",
     "name": "stdout",
     "text": [
      "Epoch: 02, Train Loss: 5.531, Valid Loss: 5.569, Train Perplexity: 256.586, Valid Perplexity: 265.659\n",
      "Epoch: 3/40... Step: 2700... Loss: 5.4815... Last train batch Perplexity: 240.2069...\n",
      "Epoch: 3/40... Step: 3000... Loss: 5.6842... Last train batch Perplexity: 294.1968...\n",
      "Epoch: 3/40... Step: 3300... Loss: 5.5390... Last train batch Perplexity: 254.4256...\n",
      "Epoch: 3/40... Step: 3600... Loss: 5.4545... Last train batch Perplexity: 233.8043...\n",
      "Epoch: 3/40... Step: 3900... Loss: 5.6115... Last train batch Perplexity: 273.5451...\n"
     ]
    },
    {
     "output_type": "stream",
     "name": "stderr",
     "text": [
      "  8%|▊         | 3/40 [00:41<08:26, 13.68s/it]"
     ]
    },
    {
     "output_type": "stream",
     "name": "stdout",
     "text": [
      "Epoch: 03, Train Loss: 5.352, Valid Loss: 5.419, Train Perplexity: 214.734, Valid Perplexity: 228.896\n",
      "Epoch: 4/40... Step: 4200... Loss: 5.2419... Last train batch Perplexity: 189.0203...\n",
      "Epoch: 4/40... Step: 4500... Loss: 5.3916... Last train batch Perplexity: 219.5443...\n",
      "Epoch: 4/40... Step: 4800... Loss: 5.2548... Last train batch Perplexity: 191.4902...\n",
      "Epoch: 4/40... Step: 5100... Loss: 5.5326... Last train batch Perplexity: 252.7990...\n"
     ]
    },
    {
     "output_type": "stream",
     "name": "stderr",
     "text": [
      " 10%|█         | 4/40 [00:56<08:28, 14.13s/it]"
     ]
    },
    {
     "output_type": "stream",
     "name": "stdout",
     "text": [
      "Epoch: 04, Train Loss: 5.210, Valid Loss: 5.301, Train Perplexity: 186.520, Valid Perplexity: 203.566\n",
      "Epoch: 5/40... Step: 5400... Loss: 5.1526... Last train batch Perplexity: 172.8790...\n",
      "Epoch: 5/40... Step: 5700... Loss: 5.4054... Last train batch Perplexity: 222.5986...\n",
      "Epoch: 5/40... Step: 6000... Loss: 5.0751... Last train batch Perplexity: 159.9928...\n",
      "Epoch: 5/40... Step: 6300... Loss: 4.8701... Last train batch Perplexity: 130.3303...\n",
      "Epoch: 5/40... Step: 6600... Loss: 5.3607... Last train batch Perplexity: 212.8747...\n"
     ]
    },
    {
     "output_type": "stream",
     "name": "stderr",
     "text": [
      " 12%|█▎        | 5/40 [01:10<08:21, 14.34s/it]"
     ]
    },
    {
     "output_type": "stream",
     "name": "stdout",
     "text": [
      "Epoch: 05, Train Loss: 5.111, Valid Loss: 5.225, Train Perplexity: 168.997, Valid Perplexity: 188.816\n",
      "Epoch: 6/40... Step: 6900... Loss: 5.3232... Last train batch Perplexity: 205.0435...\n",
      "Epoch: 6/40... Step: 7200... Loss: 4.7875... Last train batch Perplexity: 120.0061...\n",
      "Epoch: 6/40... Step: 7500... Loss: 5.4841... Last train batch Perplexity: 240.8256...\n",
      "Epoch: 6/40... Step: 7800... Loss: 5.0712... Last train batch Perplexity: 159.3615...\n"
     ]
    },
    {
     "output_type": "stream",
     "name": "stderr",
     "text": [
      " 15%|█▌        | 6/40 [01:26<08:18, 14.66s/it]"
     ]
    },
    {
     "output_type": "stream",
     "name": "stdout",
     "text": [
      "Epoch: 06, Train Loss: 5.033, Valid Loss: 5.166, Train Perplexity: 156.420, Valid Perplexity: 178.101\n",
      "Epoch: 7/40... Step: 8100... Loss: 5.2496... Last train batch Perplexity: 190.4910...\n",
      "Epoch: 7/40... Step: 8400... Loss: 5.0868... Last train batch Perplexity: 161.8724...\n",
      "Epoch: 7/40... Step: 8700... Loss: 4.9422... Last train batch Perplexity: 140.0822...\n",
      "Epoch: 7/40... Step: 9000... Loss: 4.9416... Last train batch Perplexity: 139.9934...\n"
     ]
    },
    {
     "output_type": "stream",
     "name": "stderr",
     "text": [
      " 18%|█▊        | 7/40 [01:41<08:05, 14.73s/it]"
     ]
    },
    {
     "output_type": "stream",
     "name": "stdout",
     "text": [
      "Epoch: 07, Train Loss: 4.968, Valid Loss: 5.120, Train Perplexity: 146.611, Valid Perplexity: 170.182\n",
      "Epoch: 8/40... Step: 9300... Loss: 5.2533... Last train batch Perplexity: 191.1972...\n",
      "Epoch: 8/40... Step: 9600... Loss: 4.8610... Last train batch Perplexity: 129.1567...\n",
      "Epoch: 8/40... Step: 9900... Loss: 5.1465... Last train batch Perplexity: 171.8329...\n",
      "Epoch: 8/40... Step: 10200... Loss: 5.2418... Last train batch Perplexity: 189.0158...\n",
      "Epoch: 8/40... Step: 10500... Loss: 4.7936... Last train batch Perplexity: 120.7344...\n"
     ]
    },
    {
     "output_type": "stream",
     "name": "stderr",
     "text": [
      " 20%|██        | 8/40 [01:55<07:45, 14.55s/it]"
     ]
    },
    {
     "output_type": "stream",
     "name": "stdout",
     "text": [
      "Epoch: 08, Train Loss: 4.907, Valid Loss: 5.076, Train Perplexity: 138.065, Valid Perplexity: 162.856\n",
      "Epoch: 9/40... Step: 10800... Loss: 5.1512... Last train batch Perplexity: 172.6317...\n",
      "Epoch: 9/40... Step: 11100... Loss: 4.8036... Last train batch Perplexity: 121.9504...\n",
      "Epoch: 9/40... Step: 11400... Loss: 5.0003... Last train batch Perplexity: 148.4651...\n",
      "Epoch: 9/40... Step: 11700... Loss: 4.5891... Last train batch Perplexity: 98.4092...\n"
     ]
    },
    {
     "output_type": "stream",
     "name": "stderr",
     "text": [
      " 22%|██▎       | 9/40 [02:09<07:28, 14.47s/it]"
     ]
    },
    {
     "output_type": "stream",
     "name": "stdout",
     "text": [
      "Epoch: 09, Train Loss: 4.857, Valid Loss: 5.043, Train Perplexity: 131.281, Valid Perplexity: 157.600\n",
      "Epoch: 10/40... Step: 12000... Loss: 4.9361... Last train batch Perplexity: 139.2242...\n",
      "Epoch: 10/40... Step: 12300... Loss: 4.8518... Last train batch Perplexity: 127.9744...\n",
      "Epoch: 10/40... Step: 12600... Loss: 5.2209... Last train batch Perplexity: 185.1025...\n",
      "Epoch: 10/40... Step: 12900... Loss: 5.3544... Last train batch Perplexity: 211.5265...\n",
      "Epoch: 10/40... Step: 13200... Loss: 4.8509... Last train batch Perplexity: 127.8587...\n"
     ]
    },
    {
     "output_type": "stream",
     "name": "stderr",
     "text": [
      " 25%|██▌       | 10/40 [02:23<07:08, 14.27s/it]"
     ]
    },
    {
     "output_type": "stream",
     "name": "stdout",
     "text": [
      "Epoch: 10, Train Loss: 4.812, Valid Loss: 5.014, Train Perplexity: 125.574, Valid Perplexity: 153.110\n",
      "Epoch: 11/40... Step: 13500... Loss: 5.1197... Last train batch Perplexity: 167.2784...\n",
      "Epoch: 11/40... Step: 13800... Loss: 4.9311... Last train batch Perplexity: 138.5282...\n",
      "Epoch: 11/40... Step: 14100... Loss: 4.6581... Last train batch Perplexity: 105.4312...\n",
      "Epoch: 11/40... Step: 14400... Loss: 4.7399... Last train batch Perplexity: 114.4202...\n"
     ]
    },
    {
     "output_type": "stream",
     "name": "stderr",
     "text": [
      " 28%|██▊       | 11/40 [02:37<06:50, 14.17s/it]"
     ]
    },
    {
     "output_type": "stream",
     "name": "stdout",
     "text": [
      "Epoch: 11, Train Loss: 4.768, Valid Loss: 4.990, Train Perplexity: 120.178, Valid Perplexity: 149.586\n",
      "Epoch: 12/40... Step: 14700... Loss: 4.7843... Last train batch Perplexity: 119.6129...\n",
      "Epoch: 12/40... Step: 15000... Loss: 4.6190... Last train batch Perplexity: 101.3945...\n",
      "Epoch: 12/40... Step: 15300... Loss: 5.0623... Last train batch Perplexity: 157.9539...\n",
      "Epoch: 12/40... Step: 15600... Loss: 5.1380... Last train batch Perplexity: 170.3757...\n",
      "Epoch: 12/40... Step: 15900... Loss: 5.0041... Last train batch Perplexity: 149.0244...\n"
     ]
    },
    {
     "output_type": "stream",
     "name": "stderr",
     "text": [
      " 30%|███       | 12/40 [02:51<06:36, 14.15s/it]"
     ]
    },
    {
     "output_type": "stream",
     "name": "stdout",
     "text": [
      "Epoch: 12, Train Loss: 4.729, Valid Loss: 4.966, Train Perplexity: 115.675, Valid Perplexity: 146.049\n",
      "Epoch: 13/40... Step: 16200... Loss: 4.9299... Last train batch Perplexity: 138.3718...\n",
      "Epoch: 13/40... Step: 16500... Loss: 4.8052... Last train batch Perplexity: 122.1439...\n",
      "Epoch: 13/40... Step: 16800... Loss: 4.8240... Last train batch Perplexity: 124.4583...\n",
      "Epoch: 13/40... Step: 17100... Loss: 4.9929... Last train batch Perplexity: 147.3680...\n"
     ]
    },
    {
     "output_type": "stream",
     "name": "stderr",
     "text": [
      " 32%|███▎      | 13/40 [03:05<06:21, 14.14s/it]"
     ]
    },
    {
     "output_type": "stream",
     "name": "stdout",
     "text": [
      "Epoch: 13, Train Loss: 4.697, Valid Loss: 4.949, Train Perplexity: 112.032, Valid Perplexity: 143.618\n",
      "Epoch: 14/40... Step: 17400... Loss: 5.0098... Last train batch Perplexity: 149.8772...\n",
      "Epoch: 14/40... Step: 17700... Loss: 5.1049... Last train batch Perplexity: 164.8285...\n",
      "Epoch: 14/40... Step: 18000... Loss: 4.8014... Last train batch Perplexity: 121.6794...\n",
      "Epoch: 14/40... Step: 18300... Loss: 4.8187... Last train batch Perplexity: 123.8027...\n"
     ]
    },
    {
     "output_type": "stream",
     "name": "stderr",
     "text": [
      " 35%|███▌      | 14/40 [03:19<06:06, 14.10s/it]"
     ]
    },
    {
     "output_type": "stream",
     "name": "stdout",
     "text": [
      "Epoch: 14, Train Loss: 4.662, Valid Loss: 4.929, Train Perplexity: 108.117, Valid Perplexity: 140.707\n",
      "Epoch: 15/40... Step: 18600... Loss: 4.9596... Last train batch Perplexity: 142.5423...\n",
      "Epoch: 15/40... Step: 18900... Loss: 4.7416... Last train batch Perplexity: 114.6204...\n",
      "Epoch: 15/40... Step: 19200... Loss: 4.7945... Last train batch Perplexity: 120.8479...\n",
      "Epoch: 15/40... Step: 19500... Loss: 4.7720... Last train batch Perplexity: 118.1565...\n",
      "Epoch: 15/40... Step: 19800... Loss: 4.5427... Last train batch Perplexity: 93.9467...\n"
     ]
    },
    {
     "output_type": "stream",
     "name": "stderr",
     "text": [
      " 38%|███▊      | 15/40 [03:33<05:52, 14.08s/it]"
     ]
    },
    {
     "output_type": "stream",
     "name": "stdout",
     "text": [
      "Epoch: 15, Train Loss: 4.632, Valid Loss: 4.913, Train Perplexity: 104.974, Valid Perplexity: 138.634\n",
      "Epoch: 16/40... Step: 20100... Loss: 5.0124... Last train batch Perplexity: 150.2618...\n",
      "Epoch: 16/40... Step: 20400... Loss: 5.1221... Last train batch Perplexity: 167.6934...\n",
      "Epoch: 16/40... Step: 20700... Loss: 4.9360... Last train batch Perplexity: 139.2108...\n",
      "Epoch: 16/40... Step: 21000... Loss: 4.5223... Last train batch Perplexity: 92.0445...\n"
     ]
    },
    {
     "output_type": "stream",
     "name": "stderr",
     "text": [
      " 40%|████      | 16/40 [03:48<05:40, 14.20s/it]"
     ]
    },
    {
     "output_type": "stream",
     "name": "stdout",
     "text": [
      "Epoch: 16, Train Loss: 4.607, Valid Loss: 4.901, Train Perplexity: 102.393, Valid Perplexity: 137.011\n",
      "Epoch: 17/40... Step: 21300... Loss: 4.7614... Last train batch Perplexity: 116.9039...\n",
      "Epoch: 17/40... Step: 21600... Loss: 4.4268... Last train batch Perplexity: 83.6656...\n",
      "Epoch: 17/40... Step: 21900... Loss: 4.2651... Last train batch Perplexity: 71.1738...\n",
      "Epoch: 17/40... Step: 22200... Loss: 4.9616... Last train batch Perplexity: 142.8189...\n",
      "Epoch: 17/40... Step: 22500... Loss: 4.3269... Last train batch Perplexity: 75.7056...\n"
     ]
    },
    {
     "output_type": "stream",
     "name": "stderr",
     "text": [
      " 42%|████▎     | 17/40 [04:01<05:23, 14.09s/it]"
     ]
    },
    {
     "output_type": "stream",
     "name": "stdout",
     "text": [
      "Epoch: 17, Train Loss: 4.579, Valid Loss: 4.888, Train Perplexity: 99.630, Valid Perplexity: 135.251\n",
      "Epoch: 18/40... Step: 22800... Loss: 4.7280... Last train batch Perplexity: 113.0719...\n",
      "Epoch: 18/40... Step: 23100... Loss: 5.0967... Last train batch Perplexity: 163.4880...\n",
      "Epoch: 18/40... Step: 23400... Loss: 4.8862... Last train batch Perplexity: 132.4483...\n",
      "Epoch: 18/40... Step: 23700... Loss: 5.0167... Last train batch Perplexity: 150.9137...\n"
     ]
    },
    {
     "output_type": "stream",
     "name": "stderr",
     "text": [
      " 45%|████▌     | 18/40 [04:15<05:08, 14.01s/it]"
     ]
    },
    {
     "output_type": "stream",
     "name": "stdout",
     "text": [
      "Epoch: 18, Train Loss: 4.560, Valid Loss: 4.883, Train Perplexity: 97.776, Valid Perplexity: 134.587\n",
      "Epoch: 19/40... Step: 24000... Loss: 4.6304... Last train batch Perplexity: 102.5576...\n",
      "Epoch: 19/40... Step: 24300... Loss: 4.8177... Last train batch Perplexity: 123.6827...\n",
      "Epoch: 19/40... Step: 24600... Loss: 4.8472... Last train batch Perplexity: 127.3781...\n",
      "Epoch: 19/40... Step: 24900... Loss: 4.9874... Last train batch Perplexity: 146.5518...\n",
      "Epoch: 19/40... Step: 25200... Loss: 4.9448... Last train batch Perplexity: 140.4462...\n"
     ]
    },
    {
     "output_type": "stream",
     "name": "stderr",
     "text": [
      " 48%|████▊     | 19/40 [04:29<04:53, 13.97s/it]"
     ]
    },
    {
     "output_type": "stream",
     "name": "stdout",
     "text": [
      "Epoch: 19, Train Loss: 4.535, Valid Loss: 4.871, Train Perplexity: 95.309, Valid Perplexity: 132.951\n",
      "Epoch: 20/40... Step: 25500... Loss: 4.6757... Last train batch Perplexity: 107.3066...\n",
      "Epoch: 20/40... Step: 25800... Loss: 4.9265... Last train batch Perplexity: 137.8928...\n",
      "Epoch: 20/40... Step: 26100... Loss: 4.6919... Last train batch Perplexity: 109.0654...\n",
      "Epoch: 20/40... Step: 26400... Loss: 4.5783... Last train batch Perplexity: 97.3474...\n"
     ]
    },
    {
     "output_type": "stream",
     "name": "stderr",
     "text": [
      " 50%|█████     | 20/40 [04:43<04:38, 13.94s/it]"
     ]
    },
    {
     "output_type": "stream",
     "name": "stdout",
     "text": [
      "Epoch: 20, Train Loss: 4.512, Valid Loss: 4.858, Train Perplexity: 93.171, Valid Perplexity: 131.317\n",
      "Epoch: 21/40... Step: 26700... Loss: 4.8394... Last train batch Perplexity: 126.3914...\n",
      "Epoch: 21/40... Step: 27000... Loss: 4.5426... Last train batch Perplexity: 93.9322...\n",
      "Epoch: 21/40... Step: 27300... Loss: 3.8672... Last train batch Perplexity: 47.8096...\n",
      "Epoch: 21/40... Step: 27600... Loss: 4.5322... Last train batch Perplexity: 92.9606...\n"
     ]
    },
    {
     "output_type": "stream",
     "name": "stderr",
     "text": [
      " 52%|█████▎    | 21/40 [04:57<04:24, 13.94s/it]"
     ]
    },
    {
     "output_type": "stream",
     "name": "stdout",
     "text": [
      "Epoch: 21, Train Loss: 4.494, Valid Loss: 4.851, Train Perplexity: 91.464, Valid Perplexity: 130.454\n",
      "Epoch: 22/40... Step: 27900... Loss: 4.6448... Last train batch Perplexity: 104.0388...\n",
      "Epoch: 22/40... Step: 28200... Loss: 4.6695... Last train batch Perplexity: 106.6497...\n",
      "Epoch: 22/40... Step: 28500... Loss: 4.8273... Last train batch Perplexity: 124.8771...\n",
      "Epoch: 22/40... Step: 28800... Loss: 4.9759... Last train batch Perplexity: 144.8784...\n",
      "Epoch: 22/40... Step: 29100... Loss: 4.5992... Last train batch Perplexity: 99.4042...\n"
     ]
    },
    {
     "output_type": "stream",
     "name": "stderr",
     "text": [
      " 55%|█████▌    | 22/40 [05:11<04:11, 13.98s/it]"
     ]
    },
    {
     "output_type": "stream",
     "name": "stdout",
     "text": [
      "Epoch: 22, Train Loss: 4.475, Valid Loss: 4.845, Train Perplexity: 89.753, Valid Perplexity: 129.616\n",
      "Epoch: 23/40... Step: 29400... Loss: 4.7846... Last train batch Perplexity: 119.6585...\n",
      "Epoch: 23/40... Step: 29700... Loss: 4.9802... Last train batch Perplexity: 145.5048...\n",
      "Epoch: 23/40... Step: 30000... Loss: 4.6759... Last train batch Perplexity: 107.3313...\n",
      "Epoch: 23/40... Step: 30300... Loss: 4.8609... Last train batch Perplexity: 129.1340...\n"
     ]
    },
    {
     "output_type": "stream",
     "name": "stderr",
     "text": [
      " 57%|█████▊    | 23/40 [05:25<03:58, 14.00s/it]"
     ]
    },
    {
     "output_type": "stream",
     "name": "stdout",
     "text": [
      "Epoch: 23, Train Loss: 4.456, Valid Loss: 4.840, Train Perplexity: 88.055, Valid Perplexity: 129.047\n",
      "Epoch: 24/40... Step: 30600... Loss: 4.4783... Last train batch Perplexity: 88.0844...\n",
      "Epoch: 24/40... Step: 30900... Loss: 4.5547... Last train batch Perplexity: 95.0786...\n",
      "Epoch: 24/40... Step: 31200... Loss: 4.6634... Last train batch Perplexity: 105.9995...\n",
      "Epoch: 24/40... Step: 31500... Loss: 4.9468... Last train batch Perplexity: 140.7228...\n",
      "Epoch: 24/40... Step: 31800... Loss: 4.6270... Last train batch Perplexity: 102.2107...\n"
     ]
    },
    {
     "output_type": "stream",
     "name": "stderr",
     "text": [
      " 60%|██████    | 24/40 [05:39<03:43, 14.00s/it]"
     ]
    },
    {
     "output_type": "stream",
     "name": "stdout",
     "text": [
      "Epoch: 24, Train Loss: 4.442, Valid Loss: 4.834, Train Perplexity: 86.901, Valid Perplexity: 128.363\n",
      "Epoch: 25/40... Step: 32100... Loss: 4.5542... Last train batch Perplexity: 95.0299...\n",
      "Epoch: 25/40... Step: 32400... Loss: 4.9843... Last train batch Perplexity: 146.1056...\n",
      "Epoch: 25/40... Step: 32700... Loss: 4.4085... Last train batch Perplexity: 82.1466...\n",
      "Epoch: 25/40... Step: 33000... Loss: 4.4524... Last train batch Perplexity: 85.8351...\n"
     ]
    },
    {
     "output_type": "stream",
     "name": "stderr",
     "text": [
      " 62%|██████▎   | 25/40 [05:53<03:29, 13.95s/it]"
     ]
    },
    {
     "output_type": "stream",
     "name": "stdout",
     "text": [
      "Epoch: 25, Train Loss: 4.421, Valid Loss: 4.823, Train Perplexity: 85.062, Valid Perplexity: 126.912\n",
      "Epoch: 26/40... Step: 33300... Loss: 4.3898... Last train batch Perplexity: 80.6281...\n",
      "Epoch: 26/40... Step: 33600... Loss: 4.7679... Last train batch Perplexity: 117.6708...\n",
      "Epoch: 26/40... Step: 33900... Loss: 4.4286... Last train batch Perplexity: 83.8148...\n",
      "Epoch: 26/40... Step: 34200... Loss: 4.3499... Last train batch Perplexity: 77.4672...\n",
      "Epoch: 26/40... Step: 34500... Loss: 4.9829... Last train batch Perplexity: 145.8979...\n"
     ]
    },
    {
     "output_type": "stream",
     "name": "stderr",
     "text": [
      " 65%|██████▌   | 26/40 [06:07<03:14, 13.90s/it]"
     ]
    },
    {
     "output_type": "stream",
     "name": "stdout",
     "text": [
      "Epoch: 26, Train Loss: 4.408, Valid Loss: 4.824, Train Perplexity: 83.978, Valid Perplexity: 127.171\n",
      "Epoch: 27/40... Step: 34800... Loss: 4.3492... Last train batch Perplexity: 77.4202...\n",
      "Epoch: 27/40... Step: 35100... Loss: 4.9065... Last train batch Perplexity: 135.1672...\n",
      "Epoch: 27/40... Step: 35400... Loss: 4.6767... Last train batch Perplexity: 107.4131...\n",
      "Epoch: 27/40... Step: 35700... Loss: 4.1930... Last train batch Perplexity: 66.2180...\n"
     ]
    },
    {
     "output_type": "stream",
     "name": "stderr",
     "text": [
      " 68%|██████▊   | 27/40 [06:20<03:00, 13.88s/it]"
     ]
    },
    {
     "output_type": "stream",
     "name": "stdout",
     "text": [
      "Epoch: 27, Train Loss: 4.396, Valid Loss: 4.819, Train Perplexity: 82.996, Valid Perplexity: 126.534\n",
      "Epoch: 28/40... Step: 36000... Loss: 4.7936... Last train batch Perplexity: 120.7332...\n",
      "Epoch: 28/40... Step: 36300... Loss: 4.6944... Last train batch Perplexity: 109.3339...\n",
      "Epoch: 28/40... Step: 36600... Loss: 4.4220... Last train batch Perplexity: 83.2667...\n",
      "Epoch: 28/40... Step: 36900... Loss: 4.0568... Last train batch Perplexity: 57.7893...\n"
     ]
    },
    {
     "output_type": "stream",
     "name": "stderr",
     "text": [
      " 70%|███████   | 28/40 [06:34<02:46, 13.87s/it]"
     ]
    },
    {
     "output_type": "stream",
     "name": "stdout",
     "text": [
      "Epoch: 28, Train Loss: 4.378, Valid Loss: 4.810, Train Perplexity: 81.465, Valid Perplexity: 125.371\n",
      "Epoch: 29/40... Step: 37200... Loss: 4.6490... Last train batch Perplexity: 104.4759...\n",
      "Epoch: 29/40... Step: 37500... Loss: 4.6959... Last train batch Perplexity: 109.4954...\n",
      "Epoch: 29/40... Step: 37800... Loss: 4.3452... Last train batch Perplexity: 77.1109...\n",
      "Epoch: 29/40... Step: 38100... Loss: 4.7642... Last train batch Perplexity: 117.2327...\n",
      "Epoch: 29/40... Step: 38400... Loss: 4.5974... Last train batch Perplexity: 99.2283...\n"
     ]
    },
    {
     "output_type": "stream",
     "name": "stderr",
     "text": [
      " 72%|███████▎  | 29/40 [06:48<02:32, 13.86s/it]"
     ]
    },
    {
     "output_type": "stream",
     "name": "stdout",
     "text": [
      "Epoch: 29, Train Loss: 4.367, Valid Loss: 4.808, Train Perplexity: 80.642, Valid Perplexity: 125.045\n",
      "Epoch: 30/40... Step: 38700... Loss: 4.5407... Last train batch Perplexity: 93.7564...\n",
      "Epoch: 30/40... Step: 39000... Loss: 4.5170... Last train batch Perplexity: 91.5630...\n",
      "Epoch: 30/40... Step: 39300... Loss: 4.6632... Last train batch Perplexity: 105.9705...\n",
      "Epoch: 30/40... Step: 39600... Loss: 4.6173... Last train batch Perplexity: 101.2230...\n"
     ]
    },
    {
     "output_type": "stream",
     "name": "stderr",
     "text": [
      " 75%|███████▌  | 30/40 [07:02<02:18, 13.86s/it]"
     ]
    },
    {
     "output_type": "stream",
     "name": "stdout",
     "text": [
      "Epoch: 30, Train Loss: 4.353, Valid Loss: 4.805, Train Perplexity: 79.499, Valid Perplexity: 124.696\n",
      "Epoch: 31/40... Step: 39900... Loss: 4.1607... Last train batch Perplexity: 64.1133...\n",
      "Epoch: 31/40... Step: 40200... Loss: 4.7577... Last train batch Perplexity: 116.4749...\n",
      "Epoch: 31/40... Step: 40500... Loss: 4.6709... Last train batch Perplexity: 106.7958...\n",
      "Epoch: 31/40... Step: 40800... Loss: 4.7767... Last train batch Perplexity: 118.7176...\n",
      "Epoch: 31/40... Step: 41100... Loss: 4.6579... Last train batch Perplexity: 105.4118...\n"
     ]
    },
    {
     "output_type": "stream",
     "name": "stderr",
     "text": [
      " 78%|███████▊  | 31/40 [07:16<02:04, 13.88s/it]"
     ]
    },
    {
     "output_type": "stream",
     "name": "stdout",
     "text": [
      "Epoch: 31, Train Loss: 4.341, Valid Loss: 4.801, Train Perplexity: 78.569, Valid Perplexity: 124.293\n",
      "Epoch: 32/40... Step: 41400... Loss: 4.6560... Last train batch Perplexity: 105.2112...\n",
      "Epoch: 32/40... Step: 41700... Loss: 4.4872... Last train batch Perplexity: 88.8710...\n",
      "Epoch: 32/40... Step: 42000... Loss: 4.6327... Last train batch Perplexity: 102.7870...\n",
      "Epoch: 32/40... Step: 42300... Loss: 4.5943... Last train batch Perplexity: 98.9233...\n"
     ]
    },
    {
     "output_type": "stream",
     "name": "stderr",
     "text": [
      " 80%|████████  | 32/40 [07:30<01:51, 13.92s/it]"
     ]
    },
    {
     "output_type": "stream",
     "name": "stdout",
     "text": [
      "Epoch: 32, Train Loss: 4.325, Valid Loss: 4.795, Train Perplexity: 77.270, Valid Perplexity: 123.486\n",
      "Epoch: 33/40... Step: 42600... Loss: 4.6439... Last train batch Perplexity: 103.9446...\n",
      "Epoch: 33/40... Step: 42900... Loss: 4.5200... Last train batch Perplexity: 91.8345...\n",
      "Epoch: 33/40... Step: 43200... Loss: 4.2745... Last train batch Perplexity: 71.8431...\n",
      "Epoch: 33/40... Step: 43500... Loss: 3.9091... Last train batch Perplexity: 49.8516...\n"
     ]
    },
    {
     "output_type": "stream",
     "name": "stderr",
     "text": [
      " 82%|████████▎ | 33/40 [07:44<01:37, 13.96s/it]"
     ]
    },
    {
     "output_type": "stream",
     "name": "stdout",
     "text": [
      "Epoch: 33, Train Loss: 4.313, Valid Loss: 4.791, Train Perplexity: 76.354, Valid Perplexity: 123.036\n",
      "Epoch: 34/40... Step: 43800... Loss: 4.6500... Last train batch Perplexity: 104.5849...\n",
      "Epoch: 34/40... Step: 44100... Loss: 4.1993... Last train batch Perplexity: 66.6385...\n",
      "Epoch: 34/40... Step: 44400... Loss: 4.5227... Last train batch Perplexity: 92.0850...\n",
      "Epoch: 34/40... Step: 44700... Loss: 4.3750... Last train batch Perplexity: 79.4378...\n",
      "Epoch: 34/40... Step: 45000... Loss: 4.0065... Last train batch Perplexity: 54.9557...\n"
     ]
    },
    {
     "output_type": "stream",
     "name": "stderr",
     "text": [
      " 85%|████████▌ | 34/40 [07:58<01:23, 13.96s/it]"
     ]
    },
    {
     "output_type": "stream",
     "name": "stdout",
     "text": [
      "Epoch: 34, Train Loss: 4.299, Valid Loss: 4.786, Train Perplexity: 75.300, Valid Perplexity: 122.410\n",
      "Epoch: 35/40... Step: 45300... Loss: 4.7104... Last train batch Perplexity: 111.0994...\n",
      "Epoch: 35/40... Step: 45600... Loss: 4.1809... Last train batch Perplexity: 65.4245...\n",
      "Epoch: 35/40... Step: 45900... Loss: 4.4371... Last train batch Perplexity: 84.5304...\n",
      "Epoch: 35/40... Step: 46200... Loss: 4.0862... Last train batch Perplexity: 59.5129...\n"
     ]
    },
    {
     "output_type": "stream",
     "name": "stderr",
     "text": [
      " 88%|████████▊ | 35/40 [08:12<01:09, 13.89s/it]"
     ]
    },
    {
     "output_type": "stream",
     "name": "stdout",
     "text": [
      "Epoch: 35, Train Loss: 4.290, Valid Loss: 4.788, Train Perplexity: 74.680, Valid Perplexity: 122.684\n",
      "Epoch: 36/40... Step: 46500... Loss: 4.5034... Last train batch Perplexity: 90.3214...\n",
      "Epoch: 36/40... Step: 46800... Loss: 4.5560... Last train batch Perplexity: 95.2025...\n",
      "Epoch: 36/40... Step: 47100... Loss: 4.4379... Last train batch Perplexity: 84.5979...\n",
      "Epoch: 36/40... Step: 47400... Loss: 4.5191... Last train batch Perplexity: 91.7486...\n",
      "Epoch: 36/40... Step: 47700... Loss: 4.3508... Last train batch Perplexity: 77.5417...\n"
     ]
    },
    {
     "output_type": "stream",
     "name": "stderr",
     "text": [
      " 90%|█████████ | 36/40 [08:25<00:55, 13.86s/it]"
     ]
    },
    {
     "output_type": "stream",
     "name": "stdout",
     "text": [
      "Epoch: 36, Train Loss: 4.282, Valid Loss: 4.790, Train Perplexity: 74.042, Valid Perplexity: 122.953\n",
      "Epoch: 37/40... Step: 48000... Loss: 4.6467... Last train batch Perplexity: 104.2385...\n",
      "Epoch: 37/40... Step: 48300... Loss: 4.3271... Last train batch Perplexity: 75.7206...\n",
      "Epoch: 37/40... Step: 48600... Loss: 4.2514... Last train batch Perplexity: 70.2020...\n",
      "Epoch: 37/40... Step: 48900... Loss: 4.5904... Last train batch Perplexity: 98.5305...\n"
     ]
    },
    {
     "output_type": "stream",
     "name": "stderr",
     "text": [
      " 92%|█████████▎| 37/40 [08:39<00:41, 13.86s/it]"
     ]
    },
    {
     "output_type": "stream",
     "name": "stdout",
     "text": [
      "Epoch: 37, Train Loss: 4.266, Valid Loss: 4.781, Train Perplexity: 72.911, Valid Perplexity: 121.911\n",
      "Epoch: 38/40... Step: 49200... Loss: 4.1522... Last train batch Perplexity: 63.5749...\n",
      "Epoch: 38/40... Step: 49500... Loss: 4.3370... Last train batch Perplexity: 76.4745...\n",
      "Epoch: 38/40... Step: 49800... Loss: 4.5744... Last train batch Perplexity: 96.9676...\n",
      "Epoch: 38/40... Step: 50100... Loss: 4.5129... Last train batch Perplexity: 91.1870...\n",
      "Epoch: 38/40... Step: 50400... Loss: 4.6625... Last train batch Perplexity: 105.8954...\n"
     ]
    },
    {
     "output_type": "stream",
     "name": "stderr",
     "text": [
      " 95%|█████████▌| 38/40 [08:53<00:27, 13.86s/it]"
     ]
    },
    {
     "output_type": "stream",
     "name": "stdout",
     "text": [
      "Epoch: 38, Train Loss: 4.259, Valid Loss: 4.780, Train Perplexity: 72.372, Valid Perplexity: 121.783\n",
      "Epoch: 39/40... Step: 50700... Loss: 4.7332... Last train batch Perplexity: 113.6536...\n",
      "Epoch: 39/40... Step: 51000... Loss: 4.0107... Last train batch Perplexity: 55.1835...\n",
      "Epoch: 39/40... Step: 51300... Loss: 4.3879... Last train batch Perplexity: 80.4715...\n",
      "Epoch: 39/40... Step: 51600... Loss: 4.3433... Last train batch Perplexity: 76.9574...\n"
     ]
    },
    {
     "output_type": "stream",
     "name": "stderr",
     "text": [
      " 98%|█████████▊| 39/40 [09:07<00:13, 13.86s/it]"
     ]
    },
    {
     "output_type": "stream",
     "name": "stdout",
     "text": [
      "Epoch: 39, Train Loss: 4.250, Valid Loss: 4.779, Train Perplexity: 71.742, Valid Perplexity: 121.651\n",
      "Epoch: 40/40... Step: 51900... Loss: 4.5819... Last train batch Perplexity: 97.7006...\n",
      "Epoch: 40/40... Step: 52200... Loss: 4.2361... Last train batch Perplexity: 69.1407...\n",
      "Epoch: 40/40... Step: 52500... Loss: 4.1158... Last train batch Perplexity: 61.3023...\n",
      "Epoch: 40/40... Step: 52800... Loss: 4.1888... Last train batch Perplexity: 65.9453...\n"
     ]
    },
    {
     "output_type": "stream",
     "name": "stderr",
     "text": [
      "100%|██████████| 40/40 [09:21<00:00, 14.03s/it]"
     ]
    },
    {
     "output_type": "stream",
     "name": "stdout",
     "text": [
      "Epoch: 40, Train Loss: 4.241, Valid Loss: 4.777, Train Perplexity: 71.076, Valid Perplexity: 121.491\n"
     ]
    },
    {
     "output_type": "stream",
     "name": "stderr",
     "text": [
      "\n"
     ]
    }
   ]
  },
  {
   "cell_type": "code",
   "source": [
    "import matplotlib.pyplot as plt\n",
    "\n",
    "def plot_losses(train_losses, val_losses, learning_rate, dropout, loss_or_preplexity = \"Loss\", model_type = \"LSTM\"):\n",
    "    \"\"\"\n",
    "    Plots training and validation losses.\n",
    "\n",
    "    Parameters:\n",
    "        train_losses (list of list): Training losses for each batch in each epoch.\n",
    "        val_losses (list of list): Validation losses for each batch in each epoch.\n",
    "        batch_level (bool): If True, plot batch-level losses. Otherwise, plot epoch-level losses.\n",
    "    \"\"\"\n",
    "    # Compute epoch-level losses by averaging\n",
    "    # train_epoch_losses = [sum(epoch) / len(epoch) for epoch in train_losses]\n",
    "    # val_epoch_losses = [sum(epoch) / len(epoch) for epoch in val_losses]\n",
    "\n",
    "    # Plot epoch-level losses\n",
    "    plt.figure(figsize=(10, 6))\n",
    "    # plt.plot(train_epoch_losses[2:], label='Training Loss', marker='o')\n",
    "    # plt.plot(val_epoch_losses[2:], label='Validation Loss', marker='o')\n",
    "    plt.plot(train_losses, label='Training Loss', marker='o')\n",
    "    plt.plot(val_losses, label='Validation Loss', marker='o')\n",
    "    plt.xlabel('Epoch')\n",
    "    plt.ylabel(loss_or_preplexity)\n",
    "    plt.title(f'{model_type}: Epoch-Level {loss_or_preplexity}, Learning Rate: {learning_rate}, Dropout: {dropout}')\n",
    "\n",
    "    plt.legend()\n",
    "    plt.grid()\n",
    "    plt.show()\n",
    "\n",
    "# print(\"train_losses: \", len(train_losses[0]))\n",
    "# print(\"valid_losses: \", len(valid_losses[0]))\n",
    "\n",
    "plot_losses(per_epoch_train_losses, per_epoch_valid_losses, learning_rate= learning_rate, dropout= dropout_p)"
   ],
   "metadata": {
    "id": "DKq4XftrxzBL",
    "colab": {
     "base_uri": "https://localhost:8080/",
     "height": 564
    },
    "outputId": "d2399aa2-2641-418c-966f-ed8515b07245"
   },
   "execution_count": null,
   "outputs": [
    {
     "output_type": "display_data",
     "data": {
      "text/plain": [
       "<Figure size 1000x600 with 1 Axes>"
      ],
      "image/png": "[encoded data removed]"
     },
     "metadata": {}
    }
   ]
  },
  {
   "cell_type": "code",
   "source": [
    "plot_losses(per_epoch_train_perplexities, per_epoch_valid_perplexities, learning_rate= learning_rate, dropout= dropout_p,loss_or_preplexity = \"Perplexity\")"
   ],
   "metadata": {
    "id": "jJTCTN4B5JON",
    "colab": {
     "base_uri": "https://localhost:8080/",
     "height": 564
    },
    "outputId": "f1a5f958-1418-4d5f-c080-242acec3e1f1"
   },
   "execution_count": null,
   "outputs": [
    {
     "output_type": "display_data",
     "data": {
      "text/plain": [
       "<Figure size 1000x600 with 1 Axes>"
      ],
      "image/png": "[encoded data removed]"
     },
     "metadata": {}
    }
   ]
  },
  {
   "cell_type": "code",
   "source": [
    "# plot_losses(per_epoch_train_losses, per_epoch_valid_losses, batch_level=True)"
   ],
   "metadata": {
    "id": "XsUO-EFi59qe"
   },
   "execution_count": null,
   "outputs": []
  },
  {
   "cell_type": "code",
   "source": [
    "dropout_p = 0\n",
    "model_name = \"LSTM_no_dropout\"\n",
    "\n",
    "lstm = hw2LSTM(batch_size,seq_length, hidden_dim, n_layers, vocab_size, embedding_dim, dropout_p,device)\n",
    "no_dropout = train(model= lstm, train_x= encoded_train,train_y=train_labels,val_x = encoded_valid, val_y = valid_labels,batch_size= batch_size,learning_rate= learning_rate, n_epoches= n_epoches, clip= clip, validate_and_print_every= print_every,model_name=model_name)\n"
   ],
   "metadata": {
    "colab": {
     "base_uri": "https://localhost:8080/"
    },
    "id": "rPy4voVzirqN",
    "outputId": "6e7c8c54-0b38-42d5-874f-b40f3b908725"
   },
   "execution_count": null,
   "outputs": [
    {
     "output_type": "stream",
     "name": "stderr",
     "text": [
      "\r  0%|          | 0/40 [00:00<?, ?it/s]"
     ]
    },
    {
     "output_type": "stream",
     "name": "stdout",
     "text": [
      "Epoch: 1/40... Step: 300... Loss: 6.3678... Last train batch Perplexity: 582.7689...\n",
      "Epoch: 1/40... Step: 600... Loss: 6.2986... Last train batch Perplexity: 543.8055...\n",
      "Epoch: 1/40... Step: 900... Loss: 6.0102... Last train batch Perplexity: 407.5753...\n",
      "Epoch: 1/40... Step: 1200... Loss: 5.3090... Last train batch Perplexity: 202.1533...\n"
     ]
    },
    {
     "output_type": "stream",
     "name": "stderr",
     "text": [
      "  2%|▎         | 1/40 [00:13<08:57, 13.79s/it]"
     ]
    },
    {
     "output_type": "stream",
     "name": "stdout",
     "text": [
      "Epoch: 01, Train Loss: 5.777, Valid Loss: 5.787, Train Perplexity: 327.587, Valid Perplexity: 329.919\n",
      "Epoch: 2/40... Step: 1500... Loss: 5.6365... Last train batch Perplexity: 280.4834...\n",
      "Epoch: 2/40... Step: 1800... Loss: 5.5505... Last train batch Perplexity: 257.3558...\n",
      "Epoch: 2/40... Step: 2100... Loss: 5.3453... Last train batch Perplexity: 209.6237...\n",
      "Epoch: 2/40... Step: 2400... Loss: 5.2006... Last train batch Perplexity: 181.3811...\n"
     ]
    },
    {
     "output_type": "stream",
     "name": "stderr",
     "text": [
      "  5%|▌         | 2/40 [00:27<08:47, 13.88s/it]"
     ]
    },
    {
     "output_type": "stream",
     "name": "stdout",
     "text": [
      "Epoch: 02, Train Loss: 5.403, Valid Loss: 5.473, Train Perplexity: 226.114, Valid Perplexity: 241.481\n",
      "Epoch: 3/40... Step: 2700... Loss: 5.3187... Last train batch Perplexity: 204.1163...\n",
      "Epoch: 3/40... Step: 3000... Loss: 5.4804... Last train batch Perplexity: 239.9388...\n",
      "Epoch: 3/40... Step: 3300... Loss: 5.3057... Last train batch Perplexity: 201.4814...\n",
      "Epoch: 3/40... Step: 3600... Loss: 5.2337... Last train batch Perplexity: 187.4773...\n",
      "Epoch: 3/40... Step: 3900... Loss: 5.3617... Last train batch Perplexity: 213.0946...\n"
     ]
    },
    {
     "output_type": "stream",
     "name": "stderr",
     "text": [
      "  8%|▊         | 3/40 [00:41<08:35, 13.93s/it]"
     ]
    },
    {
     "output_type": "stream",
     "name": "stdout",
     "text": [
      "Epoch: 03, Train Loss: 5.184, Valid Loss: 5.315, Train Perplexity: 181.871, Valid Perplexity: 206.319\n",
      "Epoch: 4/40... Step: 4200... Loss: 5.0289... Last train batch Perplexity: 152.7616...\n",
      "Epoch: 4/40... Step: 4500... Loss: 5.1323... Last train batch Perplexity: 169.4141...\n",
      "Epoch: 4/40... Step: 4800... Loss: 4.9850... Last train batch Perplexity: 146.2027...\n",
      "Epoch: 4/40... Step: 5100... Loss: 5.2901... Last train batch Perplexity: 198.3623...\n"
     ]
    },
    {
     "output_type": "stream",
     "name": "stderr",
     "text": [
      " 10%|█         | 4/40 [00:55<08:21, 13.93s/it]"
     ]
    },
    {
     "output_type": "stream",
     "name": "stdout",
     "text": [
      "Epoch: 04, Train Loss: 5.024, Valid Loss: 5.210, Train Perplexity: 155.109, Valid Perplexity: 186.093\n",
      "Epoch: 5/40... Step: 5400... Loss: 4.8539... Last train batch Perplexity: 128.2381...\n",
      "Epoch: 5/40... Step: 5700... Loss: 5.1256... Last train batch Perplexity: 168.2743...\n",
      "Epoch: 5/40... Step: 6000... Loss: 4.8127... Last train batch Perplexity: 123.0614...\n",
      "Epoch: 5/40... Step: 6300... Loss: 4.5799... Last train batch Perplexity: 97.5024...\n",
      "Epoch: 5/40... Step: 6600... Loss: 5.0541... Last train batch Perplexity: 156.6591...\n"
     ]
    },
    {
     "output_type": "stream",
     "name": "stderr",
     "text": [
      " 12%|█▎        | 5/40 [01:09<08:05, 13.88s/it]"
     ]
    },
    {
     "output_type": "stream",
     "name": "stdout",
     "text": [
      "Epoch: 05, Train Loss: 4.899, Valid Loss: 5.144, Train Perplexity: 136.974, Valid Perplexity: 174.320\n",
      "Epoch: 6/40... Step: 6900... Loss: 4.9904... Last train batch Perplexity: 147.0009...\n",
      "Epoch: 6/40... Step: 7200... Loss: 4.4516... Last train batch Perplexity: 85.7607...\n",
      "Epoch: 6/40... Step: 7500... Loss: 5.1413... Last train batch Perplexity: 170.9302...\n",
      "Epoch: 6/40... Step: 7800... Loss: 4.8340... Last train batch Perplexity: 125.7090...\n"
     ]
    },
    {
     "output_type": "stream",
     "name": "stderr",
     "text": [
      " 15%|█▌        | 6/40 [01:23<07:50, 13.84s/it]"
     ]
    },
    {
     "output_type": "stream",
     "name": "stdout",
     "text": [
      "Epoch: 06, Train Loss: 4.799, Valid Loss: 5.100, Train Perplexity: 124.033, Valid Perplexity: 166.981\n",
      "Epoch: 7/40... Step: 8100... Loss: 4.9061... Last train batch Perplexity: 135.1099...\n",
      "Epoch: 7/40... Step: 8400... Loss: 4.7536... Last train batch Perplexity: 115.9977...\n",
      "Epoch: 7/40... Step: 8700... Loss: 4.5259... Last train batch Perplexity: 92.3752...\n",
      "Epoch: 7/40... Step: 9000... Loss: 4.5586... Last train batch Perplexity: 95.4512...\n"
     ]
    },
    {
     "output_type": "stream",
     "name": "stderr",
     "text": [
      " 18%|█▊        | 7/40 [01:36<07:35, 13.81s/it]"
     ]
    },
    {
     "output_type": "stream",
     "name": "stdout",
     "text": [
      "Epoch: 07, Train Loss: 4.704, Valid Loss: 5.065, Train Perplexity: 112.957, Valid Perplexity: 161.250\n",
      "Epoch: 8/40... Step: 9300... Loss: 4.8483... Last train batch Perplexity: 127.5207...\n",
      "Epoch: 8/40... Step: 9600... Loss: 4.4379... Last train batch Perplexity: 84.6003...\n",
      "Epoch: 8/40... Step: 9900... Loss: 4.7468... Last train batch Perplexity: 115.2145...\n",
      "Epoch: 8/40... Step: 10200... Loss: 4.8582... Last train batch Perplexity: 128.7980...\n",
      "Epoch: 8/40... Step: 10500... Loss: 4.3750... Last train batch Perplexity: 79.4408...\n"
     ]
    },
    {
     "output_type": "stream",
     "name": "stderr",
     "text": [
      " 20%|██        | 8/40 [01:50<07:21, 13.81s/it]"
     ]
    },
    {
     "output_type": "stream",
     "name": "stdout",
     "text": [
      "Epoch: 08, Train Loss: 4.624, Valid Loss: 5.043, Train Perplexity: 104.342, Valid Perplexity: 157.788\n",
      "Epoch: 9/40... Step: 10800... Loss: 4.7572... Last train batch Perplexity: 116.4219...\n",
      "Epoch: 9/40... Step: 11100... Loss: 4.4383... Last train batch Perplexity: 84.6289...\n",
      "Epoch: 9/40... Step: 11400... Loss: 4.5938... Last train batch Perplexity: 98.8648...\n",
      "Epoch: 9/40... Step: 11700... Loss: 4.2318... Last train batch Perplexity: 68.8398...\n"
     ]
    },
    {
     "output_type": "stream",
     "name": "stderr",
     "text": [
      " 22%|██▎       | 9/40 [02:04<07:08, 13.83s/it]"
     ]
    },
    {
     "output_type": "stream",
     "name": "stdout",
     "text": [
      "Epoch: 09, Train Loss: 4.557, Valid Loss: 5.029, Train Perplexity: 97.575, Valid Perplexity: 155.691\n",
      "Epoch: 10/40... Step: 12000... Loss: 4.4550... Last train batch Perplexity: 86.0583...\n",
      "Epoch: 10/40... Step: 12300... Loss: 4.3643... Last train batch Perplexity: 78.5930...\n",
      "Epoch: 10/40... Step: 12600... Loss: 4.7375... Last train batch Perplexity: 114.1473...\n",
      "Epoch: 10/40... Step: 12900... Loss: 4.9543... Last train batch Perplexity: 141.7874...\n",
      "Epoch: 10/40... Step: 13200... Loss: 4.4025... Last train batch Perplexity: 81.6532...\n"
     ]
    },
    {
     "output_type": "stream",
     "name": "stderr",
     "text": [
      " 25%|██▌       | 10/40 [02:18<06:54, 13.82s/it]"
     ]
    },
    {
     "output_type": "stream",
     "name": "stdout",
     "text": [
      "Epoch: 10, Train Loss: 4.496, Valid Loss: 5.022, Train Perplexity: 91.822, Valid Perplexity: 154.773\n",
      "Epoch: 11/40... Step: 13500... Loss: 4.6792... Last train batch Perplexity: 107.6797...\n",
      "Epoch: 11/40... Step: 13800... Loss: 4.5886... Last train batch Perplexity: 98.3571...\n",
      "Epoch: 11/40... Step: 14100... Loss: 4.1667... Last train batch Perplexity: 64.5025...\n",
      "Epoch: 11/40... Step: 14400... Loss: 4.2511... Last train batch Perplexity: 70.1854...\n"
     ]
    },
    {
     "output_type": "stream",
     "name": "stderr",
     "text": [
      " 28%|██▊       | 11/40 [02:32<06:39, 13.78s/it]"
     ]
    },
    {
     "output_type": "stream",
     "name": "stdout",
     "text": [
      "Epoch: 11, Train Loss: 4.443, Valid Loss: 5.023, Train Perplexity: 87.175, Valid Perplexity: 155.097\n",
      "Epoch: 12/40... Step: 14700... Loss: 4.3127... Last train batch Perplexity: 74.6445...\n",
      "Epoch: 12/40... Step: 15000... Loss: 4.2096... Last train batch Perplexity: 67.3319...\n",
      "Epoch: 12/40... Step: 15300... Loss: 4.5865... Last train batch Perplexity: 98.1489...\n",
      "Epoch: 12/40... Step: 15600... Loss: 4.6226... Last train batch Perplexity: 101.7564...\n",
      "Epoch: 12/40... Step: 15900... Loss: 4.5022... Last train batch Perplexity: 90.2134...\n"
     ]
    },
    {
     "output_type": "stream",
     "name": "stderr",
     "text": [
      " 30%|███       | 12/40 [02:45<06:25, 13.78s/it]"
     ]
    },
    {
     "output_type": "stream",
     "name": "stdout",
     "text": [
      "Epoch: 12, Train Loss: 4.396, Valid Loss: 5.029, Train Perplexity: 83.208, Valid Perplexity: 155.980\n",
      "Epoch: 13/40... Step: 16200... Loss: 4.4593... Last train batch Perplexity: 86.4263...\n",
      "Epoch: 13/40... Step: 16500... Loss: 4.3034... Last train batch Perplexity: 73.9532...\n",
      "Epoch: 13/40... Step: 16800... Loss: 4.2963... Last train batch Perplexity: 73.4274...\n",
      "Epoch: 13/40... Step: 17100... Loss: 4.5172... Last train batch Perplexity: 91.5796...\n"
     ]
    },
    {
     "output_type": "stream",
     "name": "stderr",
     "text": [
      " 32%|███▎      | 13/40 [02:59<06:12, 13.81s/it]"
     ]
    },
    {
     "output_type": "stream",
     "name": "stdout",
     "text": [
      "Epoch: 13, Train Loss: 4.351, Valid Loss: 5.035, Train Perplexity: 79.590, Valid Perplexity: 157.077\n",
      "Epoch: 14/40... Step: 17400... Loss: 4.5700... Last train batch Perplexity: 96.5409...\n",
      "Epoch: 14/40... Step: 17700... Loss: 4.5311... Last train batch Perplexity: 92.8581...\n",
      "Epoch: 14/40... Step: 18000... Loss: 4.1092... Last train batch Perplexity: 60.8982...\n",
      "Epoch: 14/40... Step: 18300... Loss: 4.2615... Last train batch Perplexity: 70.9133...\n"
     ]
    },
    {
     "output_type": "stream",
     "name": "stderr",
     "text": [
      " 35%|███▌      | 14/40 [03:13<06:00, 13.87s/it]"
     ]
    },
    {
     "output_type": "stream",
     "name": "stdout",
     "text": [
      "Epoch: 14, Train Loss: 4.309, Valid Loss: 5.041, Train Perplexity: 76.332, Valid Perplexity: 158.023\n",
      "Epoch: 15/40... Step: 18600... Loss: 4.3950... Last train batch Perplexity: 81.0458...\n",
      "Epoch: 15/40... Step: 18900... Loss: 4.2004... Last train batch Perplexity: 66.7106...\n",
      "Epoch: 15/40... Step: 19200... Loss: 4.2676... Last train batch Perplexity: 71.3504...\n",
      "Epoch: 15/40... Step: 19500... Loss: 4.1465... Last train batch Perplexity: 63.2112...\n",
      "Epoch: 15/40... Step: 19800... Loss: 4.0395... Last train batch Perplexity: 56.7975...\n"
     ]
    },
    {
     "output_type": "stream",
     "name": "stderr",
     "text": [
      " 38%|███▊      | 15/40 [03:27<05:46, 13.85s/it]"
     ]
    },
    {
     "output_type": "stream",
     "name": "stdout",
     "text": [
      "Epoch: 15, Train Loss: 4.273, Valid Loss: 5.051, Train Perplexity: 73.688, Valid Perplexity: 159.603\n",
      "Epoch: 16/40... Step: 20100... Loss: 4.4799... Last train batch Perplexity: 88.2270...\n",
      "Epoch: 16/40... Step: 20400... Loss: 4.6059... Last train batch Perplexity: 100.0707...\n",
      "Epoch: 16/40... Step: 20700... Loss: 4.3566... Last train batch Perplexity: 77.9942...\n",
      "Epoch: 16/40... Step: 21000... Loss: 3.9106... Last train batch Perplexity: 49.9283...\n"
     ]
    },
    {
     "output_type": "stream",
     "name": "stderr",
     "text": [
      " 40%|████      | 16/40 [03:41<05:31, 13.81s/it]"
     ]
    },
    {
     "output_type": "stream",
     "name": "stdout",
     "text": [
      "Epoch: 16, Train Loss: 4.246, Valid Loss: 5.064, Train Perplexity: 71.737, Valid Perplexity: 161.839\n",
      "Epoch: 17/40... Step: 21300... Loss: 4.3267... Last train batch Perplexity: 75.6924...\n",
      "Epoch: 17/40... Step: 21600... Loss: 3.9053... Last train batch Perplexity: 49.6661...\n",
      "Epoch: 17/40... Step: 21900... Loss: 3.6969... Last train batch Perplexity: 40.3219...\n",
      "Epoch: 17/40... Step: 22200... Loss: 4.3797... Last train batch Perplexity: 79.8154...\n",
      "Epoch: 17/40... Step: 22500... Loss: 3.8233... Last train batch Perplexity: 45.7571...\n"
     ]
    },
    {
     "output_type": "stream",
     "name": "stderr",
     "text": [
      " 42%|████▎     | 17/40 [03:55<05:16, 13.78s/it]"
     ]
    },
    {
     "output_type": "stream",
     "name": "stdout",
     "text": [
      "Epoch: 17, Train Loss: 4.213, Valid Loss: 5.075, Train Perplexity: 69.419, Valid Perplexity: 163.648\n",
      "Epoch: 18/40... Step: 22800... Loss: 4.1040... Last train batch Perplexity: 60.5816...\n",
      "Epoch: 18/40... Step: 23100... Loss: 4.4523... Last train batch Perplexity: 85.8271...\n",
      "Epoch: 18/40... Step: 23400... Loss: 4.3225... Last train batch Perplexity: 75.3766...\n",
      "Epoch: 18/40... Step: 23700... Loss: 4.3485... Last train batch Perplexity: 77.3596...\n"
     ]
    },
    {
     "output_type": "stream",
     "name": "stderr",
     "text": [
      " 45%|████▌     | 18/40 [04:08<05:02, 13.75s/it]"
     ]
    },
    {
     "output_type": "stream",
     "name": "stdout",
     "text": [
      "Epoch: 18, Train Loss: 4.187, Valid Loss: 5.087, Train Perplexity: 67.619, Valid Perplexity: 165.842\n",
      "Epoch: 19/40... Step: 24000... Loss: 4.0562... Last train batch Perplexity: 57.7541...\n",
      "Epoch: 19/40... Step: 24300... Loss: 4.1662... Last train batch Perplexity: 64.4724...\n",
      "Epoch: 19/40... Step: 24600... Loss: 4.1921... Last train batch Perplexity: 66.1596...\n",
      "Epoch: 19/40... Step: 24900... Loss: 4.4331... Last train batch Perplexity: 84.1961...\n",
      "Epoch: 19/40... Step: 25200... Loss: 4.3576... Last train batch Perplexity: 78.0703...\n"
     ]
    },
    {
     "output_type": "stream",
     "name": "stderr",
     "text": [
      " 48%|████▊     | 19/40 [04:22<04:48, 13.73s/it]"
     ]
    },
    {
     "output_type": "stream",
     "name": "stdout",
     "text": [
      "Epoch: 19, Train Loss: 4.155, Valid Loss: 5.099, Train Perplexity: 65.561, Valid Perplexity: 167.798\n",
      "Epoch: 20/40... Step: 25500... Loss: 4.0457... Last train batch Perplexity: 57.1502...\n",
      "Epoch: 20/40... Step: 25800... Loss: 4.2365... Last train batch Perplexity: 69.1619...\n",
      "Epoch: 20/40... Step: 26100... Loss: 4.0977... Last train batch Perplexity: 60.2041...\n",
      "Epoch: 20/40... Step: 26400... Loss: 3.9483... Last train batch Perplexity: 51.8466...\n"
     ]
    },
    {
     "output_type": "stream",
     "name": "stderr",
     "text": [
      " 50%|█████     | 20/40 [04:36<04:34, 13.72s/it]"
     ]
    },
    {
     "output_type": "stream",
     "name": "stdout",
     "text": [
      "Epoch: 20, Train Loss: 4.128, Valid Loss: 5.109, Train Perplexity: 63.791, Valid Perplexity: 169.527\n",
      "Epoch: 21/40... Step: 26700... Loss: 4.2987... Last train batch Perplexity: 73.6026...\n",
      "Epoch: 21/40... Step: 27000... Loss: 3.9819... Last train batch Perplexity: 53.6197...\n",
      "Epoch: 21/40... Step: 27300... Loss: 3.3625... Last train batch Perplexity: 28.8599...\n",
      "Epoch: 21/40... Step: 27600... Loss: 3.8368... Last train batch Perplexity: 46.3756...\n"
     ]
    },
    {
     "output_type": "stream",
     "name": "stderr",
     "text": [
      " 52%|█████▎    | 21/40 [04:49<04:20, 13.72s/it]"
     ]
    },
    {
     "output_type": "stream",
     "name": "stdout",
     "text": [
      "Epoch: 21, Train Loss: 4.099, Valid Loss: 5.118, Train Perplexity: 62.015, Valid Perplexity: 171.194\n",
      "Epoch: 22/40... Step: 27900... Loss: 4.0602... Last train batch Perplexity: 57.9879...\n",
      "Epoch: 22/40... Step: 28200... Loss: 4.0841... Last train batch Perplexity: 59.3865...\n",
      "Epoch: 22/40... Step: 28500... Loss: 4.2164... Last train batch Perplexity: 67.7894...\n",
      "Epoch: 22/40... Step: 28800... Loss: 4.3657... Last train batch Perplexity: 78.7069...\n",
      "Epoch: 22/40... Step: 29100... Loss: 4.0669... Last train batch Perplexity: 58.3765...\n"
     ]
    },
    {
     "output_type": "stream",
     "name": "stderr",
     "text": [
      " 55%|█████▌    | 22/40 [05:03<04:06, 13.71s/it]"
     ]
    },
    {
     "output_type": "stream",
     "name": "stdout",
     "text": [
      "Epoch: 22, Train Loss: 4.080, Valid Loss: 5.133, Train Perplexity: 60.841, Valid Perplexity: 173.693\n",
      "Epoch: 23/40... Step: 29400... Loss: 4.1172... Last train batch Perplexity: 61.3852...\n",
      "Epoch: 23/40... Step: 29700... Loss: 4.3612... Last train batch Perplexity: 78.3500...\n",
      "Epoch: 23/40... Step: 30000... Loss: 4.0555... Last train batch Perplexity: 57.7141...\n",
      "Epoch: 23/40... Step: 30300... Loss: 4.1377... Last train batch Perplexity: 62.6558...\n"
     ]
    },
    {
     "output_type": "stream",
     "name": "stderr",
     "text": [
      " 57%|█████▊    | 23/40 [05:17<03:53, 13.72s/it]"
     ]
    },
    {
     "output_type": "stream",
     "name": "stdout",
     "text": [
      "Epoch: 23, Train Loss: 4.054, Valid Loss: 5.147, Train Perplexity: 59.247, Valid Perplexity: 176.260\n",
      "Epoch: 24/40... Step: 30600... Loss: 3.7362... Last train batch Perplexity: 41.9399...\n",
      "Epoch: 24/40... Step: 30900... Loss: 3.8521... Last train batch Perplexity: 47.0914...\n",
      "Epoch: 24/40... Step: 31200... Loss: 4.0154... Last train batch Perplexity: 55.4433...\n",
      "Epoch: 24/40... Step: 31500... Loss: 4.3070... Last train batch Perplexity: 74.2159...\n",
      "Epoch: 24/40... Step: 31800... Loss: 3.9202... Last train batch Perplexity: 50.4094...\n"
     ]
    },
    {
     "output_type": "stream",
     "name": "stderr",
     "text": [
      " 60%|██████    | 24/40 [05:31<03:40, 13.76s/it]"
     ]
    },
    {
     "output_type": "stream",
     "name": "stdout",
     "text": [
      "Epoch: 24, Train Loss: 4.026, Valid Loss: 5.155, Train Perplexity: 57.656, Valid Perplexity: 177.721\n",
      "Epoch: 25/40... Step: 32100... Loss: 3.9401... Last train batch Perplexity: 51.4219...\n",
      "Epoch: 25/40... Step: 32400... Loss: 4.1470... Last train batch Perplexity: 63.2448...\n",
      "Epoch: 25/40... Step: 32700... Loss: 3.7935... Last train batch Perplexity: 44.4129...\n",
      "Epoch: 25/40... Step: 33000... Loss: 3.7154... Last train batch Perplexity: 41.0762...\n"
     ]
    },
    {
     "output_type": "stream",
     "name": "stderr",
     "text": [
      " 62%|██████▎   | 25/40 [05:45<03:27, 13.82s/it]"
     ]
    },
    {
     "output_type": "stream",
     "name": "stdout",
     "text": [
      "Epoch: 25, Train Loss: 4.011, Valid Loss: 5.170, Train Perplexity: 56.766, Valid Perplexity: 180.336\n",
      "Epoch: 26/40... Step: 33300... Loss: 3.7464... Last train batch Perplexity: 42.3664...\n",
      "Epoch: 26/40... Step: 33600... Loss: 4.1017... Last train batch Perplexity: 60.4427...\n",
      "Epoch: 26/40... Step: 33900... Loss: 3.7105... Last train batch Perplexity: 40.8757...\n",
      "Epoch: 26/40... Step: 34200... Loss: 3.6333... Last train batch Perplexity: 37.8391...\n",
      "Epoch: 26/40... Step: 34500... Loss: 4.3329... Last train batch Perplexity: 76.1682...\n"
     ]
    },
    {
     "output_type": "stream",
     "name": "stderr",
     "text": [
      " 65%|██████▌   | 26/40 [05:58<03:13, 13.84s/it]"
     ]
    },
    {
     "output_type": "stream",
     "name": "stdout",
     "text": [
      "Epoch: 26, Train Loss: 3.989, Valid Loss: 5.180, Train Perplexity: 55.533, Valid Perplexity: 182.126\n",
      "Epoch: 27/40... Step: 34800... Loss: 3.7009... Last train batch Perplexity: 40.4819...\n",
      "Epoch: 27/40... Step: 35100... Loss: 4.1787... Last train batch Perplexity: 65.2796...\n",
      "Epoch: 27/40... Step: 35400... Loss: 4.0105... Last train batch Perplexity: 55.1742...\n",
      "Epoch: 27/40... Step: 35700... Loss: 3.4686... Last train batch Perplexity: 32.0910...\n"
     ]
    },
    {
     "output_type": "stream",
     "name": "stderr",
     "text": [
      " 68%|██████▊   | 27/40 [06:12<02:59, 13.84s/it]"
     ]
    },
    {
     "output_type": "stream",
     "name": "stdout",
     "text": [
      "Epoch: 27, Train Loss: 3.974, Valid Loss: 5.198, Train Perplexity: 54.724, Valid Perplexity: 185.583\n",
      "Epoch: 28/40... Step: 36000... Loss: 4.0603... Last train batch Perplexity: 57.9946...\n",
      "Epoch: 28/40... Step: 36300... Loss: 4.0244... Last train batch Perplexity: 55.9445...\n",
      "Epoch: 28/40... Step: 36600... Loss: 3.7475... Last train batch Perplexity: 42.4157...\n",
      "Epoch: 28/40... Step: 36900... Loss: 3.4388... Last train batch Perplexity: 31.1488...\n"
     ]
    },
    {
     "output_type": "stream",
     "name": "stderr",
     "text": [
      " 70%|███████   | 28/40 [06:26<02:45, 13.81s/it]"
     ]
    },
    {
     "output_type": "stream",
     "name": "stdout",
     "text": [
      "Epoch: 28, Train Loss: 3.949, Valid Loss: 5.208, Train Perplexity: 53.400, Valid Perplexity: 187.561\n",
      "Epoch: 29/40... Step: 37200... Loss: 3.9622... Last train batch Perplexity: 52.5717...\n",
      "Epoch: 29/40... Step: 37500... Loss: 3.8954... Last train batch Perplexity: 49.1735...\n",
      "Epoch: 29/40... Step: 37800... Loss: 3.6648... Last train batch Perplexity: 39.0472...\n",
      "Epoch: 29/40... Step: 38100... Loss: 4.1167... Last train batch Perplexity: 61.3570...\n",
      "Epoch: 29/40... Step: 38400... Loss: 3.9313... Last train batch Perplexity: 50.9737...\n"
     ]
    },
    {
     "output_type": "stream",
     "name": "stderr",
     "text": [
      " 72%|███████▎  | 29/40 [06:40<02:31, 13.78s/it]"
     ]
    },
    {
     "output_type": "stream",
     "name": "stdout",
     "text": [
      "Epoch: 29, Train Loss: 3.929, Valid Loss: 5.216, Train Perplexity: 52.316, Valid Perplexity: 189.184\n",
      "Epoch: 30/40... Step: 38700... Loss: 3.8196... Last train batch Perplexity: 45.5860...\n",
      "Epoch: 30/40... Step: 39000... Loss: 3.8311... Last train batch Perplexity: 46.1153...\n",
      "Epoch: 30/40... Step: 39300... Loss: 3.8556... Last train batch Perplexity: 47.2591...\n",
      "Epoch: 30/40... Step: 39600... Loss: 3.8992... Last train batch Perplexity: 49.3612...\n"
     ]
    },
    {
     "output_type": "stream",
     "name": "stderr",
     "text": [
      " 75%|███████▌  | 30/40 [06:53<02:17, 13.77s/it]"
     ]
    },
    {
     "output_type": "stream",
     "name": "stdout",
     "text": [
      "Epoch: 30, Train Loss: 3.914, Valid Loss: 5.233, Train Perplexity: 51.525, Valid Perplexity: 192.370\n",
      "Epoch: 31/40... Step: 39900... Loss: 3.4796... Last train batch Perplexity: 32.4482...\n",
      "Epoch: 31/40... Step: 40200... Loss: 3.9913... Last train batch Perplexity: 54.1228...\n",
      "Epoch: 31/40... Step: 40500... Loss: 3.9180... Last train batch Perplexity: 50.3003...\n",
      "Epoch: 31/40... Step: 40800... Loss: 4.0204... Last train batch Perplexity: 55.7229...\n",
      "Epoch: 31/40... Step: 41100... Loss: 3.9433... Last train batch Perplexity: 51.5893...\n"
     ]
    },
    {
     "output_type": "stream",
     "name": "stderr",
     "text": [
      " 78%|███████▊  | 31/40 [07:07<02:03, 13.75s/it]"
     ]
    },
    {
     "output_type": "stream",
     "name": "stdout",
     "text": [
      "Epoch: 31, Train Loss: 3.887, Valid Loss: 5.239, Train Perplexity: 50.214, Valid Perplexity: 193.510\n",
      "Epoch: 32/40... Step: 41400... Loss: 3.9387... Last train batch Perplexity: 51.3508...\n",
      "Epoch: 32/40... Step: 41700... Loss: 3.7669... Last train batch Perplexity: 43.2471...\n",
      "Epoch: 32/40... Step: 42000... Loss: 3.8326... Last train batch Perplexity: 46.1812...\n",
      "Epoch: 32/40... Step: 42300... Loss: 3.8330... Last train batch Perplexity: 46.2018...\n"
     ]
    },
    {
     "output_type": "stream",
     "name": "stderr",
     "text": [
      " 80%|████████  | 32/40 [07:21<01:49, 13.75s/it]"
     ]
    },
    {
     "output_type": "stream",
     "name": "stdout",
     "text": [
      "Epoch: 32, Train Loss: 3.871, Valid Loss: 5.251, Train Perplexity: 49.420, Valid Perplexity: 195.857\n",
      "Epoch: 33/40... Step: 42600... Loss: 3.9096... Last train batch Perplexity: 49.8772...\n",
      "Epoch: 33/40... Step: 42900... Loss: 3.8524... Last train batch Perplexity: 47.1050...\n",
      "Epoch: 33/40... Step: 43200... Loss: 3.6299... Last train batch Perplexity: 37.7072...\n",
      "Epoch: 33/40... Step: 43500... Loss: 3.2086... Last train batch Perplexity: 24.7457...\n"
     ]
    },
    {
     "output_type": "stream",
     "name": "stderr",
     "text": [
      " 82%|████████▎ | 33/40 [07:35<01:36, 13.73s/it]"
     ]
    },
    {
     "output_type": "stream",
     "name": "stdout",
     "text": [
      "Epoch: 33, Train Loss: 3.849, Valid Loss: 5.257, Train Perplexity: 48.325, Valid Perplexity: 197.096\n",
      "Epoch: 34/40... Step: 43800... Loss: 3.8685... Last train batch Perplexity: 47.8710...\n",
      "Epoch: 34/40... Step: 44100... Loss: 3.4652... Last train batch Perplexity: 31.9815...\n",
      "Epoch: 34/40... Step: 44400... Loss: 3.7788... Last train batch Perplexity: 43.7645...\n",
      "Epoch: 34/40... Step: 44700... Loss: 3.7246... Last train batch Perplexity: 41.4526...\n",
      "Epoch: 34/40... Step: 45000... Loss: 3.1162... Last train batch Perplexity: 22.5614...\n"
     ]
    },
    {
     "output_type": "stream",
     "name": "stderr",
     "text": [
      " 85%|████████▌ | 34/40 [07:48<01:22, 13.74s/it]"
     ]
    },
    {
     "output_type": "stream",
     "name": "stdout",
     "text": [
      "Epoch: 34, Train Loss: 3.833, Valid Loss: 5.270, Train Perplexity: 47.540, Valid Perplexity: 199.711\n",
      "Epoch: 35/40... Step: 45300... Loss: 3.8934... Last train batch Perplexity: 49.0790...\n",
      "Epoch: 35/40... Step: 45600... Loss: 3.5046... Last train batch Perplexity: 33.2683...\n",
      "Epoch: 35/40... Step: 45900... Loss: 3.6153... Last train batch Perplexity: 37.1623...\n",
      "Epoch: 35/40... Step: 46200... Loss: 3.3783... Last train batch Perplexity: 29.3200...\n"
     ]
    },
    {
     "output_type": "stream",
     "name": "stderr",
     "text": [
      " 88%|████████▊ | 35/40 [08:02<01:08, 13.77s/it]"
     ]
    },
    {
     "output_type": "stream",
     "name": "stdout",
     "text": [
      "Epoch: 35, Train Loss: 3.813, Valid Loss: 5.277, Train Perplexity: 46.656, Valid Perplexity: 201.255\n",
      "Epoch: 36/40... Step: 46500... Loss: 3.7139... Last train batch Perplexity: 41.0149...\n",
      "Epoch: 36/40... Step: 46800... Loss: 3.6994... Last train batch Perplexity: 40.4239...\n",
      "Epoch: 36/40... Step: 47100... Loss: 3.7680... Last train batch Perplexity: 43.2918...\n",
      "Epoch: 36/40... Step: 47400... Loss: 3.8450... Last train batch Perplexity: 46.7583...\n",
      "Epoch: 36/40... Step: 47700... Loss: 3.6482... Last train batch Perplexity: 38.4044...\n"
     ]
    },
    {
     "output_type": "stream",
     "name": "stderr",
     "text": [
      " 90%|█████████ | 36/40 [08:16<00:55, 13.81s/it]"
     ]
    },
    {
     "output_type": "stream",
     "name": "stdout",
     "text": [
      "Epoch: 36, Train Loss: 3.796, Valid Loss: 5.289, Train Perplexity: 45.812, Valid Perplexity: 203.855\n",
      "Epoch: 37/40... Step: 48000... Loss: 3.8134... Last train batch Perplexity: 45.3051...\n",
      "Epoch: 37/40... Step: 48300... Loss: 3.5875... Last train batch Perplexity: 36.1438...\n",
      "Epoch: 37/40... Step: 48600... Loss: 3.4608... Last train batch Perplexity: 31.8416...\n",
      "Epoch: 37/40... Step: 48900... Loss: 3.7770... Last train batch Perplexity: 43.6840...\n"
     ]
    },
    {
     "output_type": "stream",
     "name": "stderr",
     "text": [
      " 92%|█████████▎| 37/40 [08:30<00:41, 13.83s/it]"
     ]
    },
    {
     "output_type": "stream",
     "name": "stdout",
     "text": [
      "Epoch: 37, Train Loss: 3.786, Valid Loss: 5.306, Train Perplexity: 45.376, Valid Perplexity: 207.405\n",
      "Epoch: 38/40... Step: 49200... Loss: 3.4351... Last train batch Perplexity: 31.0349...\n",
      "Epoch: 38/40... Step: 49500... Loss: 3.5781... Last train batch Perplexity: 35.8037...\n",
      "Epoch: 38/40... Step: 49800... Loss: 3.8421... Last train batch Perplexity: 46.6251...\n",
      "Epoch: 38/40... Step: 50100... Loss: 3.8354... Last train batch Perplexity: 46.3097...\n",
      "Epoch: 38/40... Step: 50400... Loss: 3.7498... Last train batch Perplexity: 42.5132...\n"
     ]
    },
    {
     "output_type": "stream",
     "name": "stderr",
     "text": [
      " 95%|█████████▌| 38/40 [08:44<00:27, 13.80s/it]"
     ]
    },
    {
     "output_type": "stream",
     "name": "stdout",
     "text": [
      "Epoch: 38, Train Loss: 3.765, Valid Loss: 5.312, Train Perplexity: 44.469, Valid Perplexity: 208.617\n",
      "Epoch: 39/40... Step: 50700... Loss: 3.9321... Last train batch Perplexity: 51.0134...\n",
      "Epoch: 39/40... Step: 51000... Loss: 3.3172... Last train batch Perplexity: 27.5835...\n",
      "Epoch: 39/40... Step: 51300... Loss: 3.6649... Last train batch Perplexity: 39.0534...\n",
      "Epoch: 39/40... Step: 51600... Loss: 3.5773... Last train batch Perplexity: 35.7764...\n"
     ]
    },
    {
     "output_type": "stream",
     "name": "stderr",
     "text": [
      " 98%|█████████▊| 39/40 [08:57<00:13, 13.77s/it]"
     ]
    },
    {
     "output_type": "stream",
     "name": "stdout",
     "text": [
      "Epoch: 39, Train Loss: 3.752, Valid Loss: 5.328, Train Perplexity: 43.877, Valid Perplexity: 211.925\n",
      "Epoch: 40/40... Step: 51900... Loss: 3.8364... Last train batch Perplexity: 46.3574...\n",
      "Epoch: 40/40... Step: 52200... Loss: 3.5471... Last train batch Perplexity: 34.7115...\n",
      "Epoch: 40/40... Step: 52500... Loss: 3.3140... Last train batch Perplexity: 27.4955...\n",
      "Epoch: 40/40... Step: 52800... Loss: 3.3708... Last train batch Perplexity: 29.1027...\n"
     ]
    },
    {
     "output_type": "stream",
     "name": "stderr",
     "text": [
      "100%|██████████| 40/40 [09:11<00:00, 13.79s/it]"
     ]
    },
    {
     "output_type": "stream",
     "name": "stdout",
     "text": [
      "Epoch: 40, Train Loss: 3.738, Valid Loss: 5.336, Train Perplexity: 43.269, Valid Perplexity: 213.793\n"
     ]
    },
    {
     "output_type": "stream",
     "name": "stderr",
     "text": [
      "\n"
     ]
    }
   ]
  },
  {
   "cell_type": "code",
   "source": [
    "plot_losses(no_dropout[0], no_dropout[1], learning_rate= learning_rate, dropout= dropout_p)"
   ],
   "metadata": {
    "colab": {
     "base_uri": "https://localhost:8080/",
     "height": 564
    },
    "id": "cpwvKyu1kQK2",
    "outputId": "33dbe872-db6e-4bfe-82e3-2db1440090ba"
   },
   "execution_count": null,
   "outputs": [
    {
     "output_type": "display_data",
     "data": {
      "text/plain": [
       "<Figure size 1000x600 with 1 Axes>"
      ],
      "image/png": "[encoded data removed]"
     },
     "metadata": {}
    }
   ]
  },
  {
   "cell_type": "code",
   "source": [
    "plot_losses(no_dropout[2], no_dropout[3], learning_rate= learning_rate, dropout= dropout_p,loss_or_preplexity = \"Perplexity\")"
   ],
   "metadata": {
    "colab": {
     "base_uri": "https://localhost:8080/",
     "height": 564
    },
    "id": "I70Uxfk5kfwd",
    "outputId": "79482e33-4e72-40a1-aed4-26b85aa8eb75"
   },
   "execution_count": null,
   "outputs": [
    {
     "output_type": "display_data",
     "data": {
      "text/plain": [
       "<Figure size 1000x600 with 1 Axes>"
      ],
      "image/png": "[encoded data removed]"
     },
     "metadata": {}
    }
   ]
  },
  {
   "cell_type": "markdown",
   "source": [
    "יש לי באג ענק. הבאג הוא שהדאטה הוא אחד ארוך ואני צריך לחלק אותו לבאצ'ים. הקטע הוא שבאראןאן יש קונטקס שנמשך איתך קדימה, ולכן הבאצ'ים השונים צריכים לרוץ על תתי קטעים מהדאטה הענק, כלומר, צריך לחלק את הדאטה ל20 חלקים, ולכל אחד להגדיר סקוונס לנגט' כדי שהקונטקס יישמר"
   ],
   "metadata": {
    "id": "j9jJZxwLFU8C"
   }
  },
  {
   "cell_type": "code",
   "source": [
    "# prompt: plot both on same plot\n",
    "\n",
    "import matplotlib.pyplot as plt\n",
    "\n",
    "def plot_losses(train_losses, val_losses, learning_rate, dropout, loss_or_preplexity = \"Loss\", model_type = \"LSTM\"):\n",
    "    plt.figure(figsize=(10, 6))\n",
    "    plt.plot(train_losses, label='Training ' + loss_or_preplexity, marker='o')\n",
    "    plt.plot(val_losses, label='Validation ' + loss_or_preplexity, marker='o')\n",
    "    plt.xlabel('Epoch')\n",
    "    plt.ylabel(loss_or_preplexity)\n",
    "    plt.title(f'{model_type}: Epoch-Level {loss_or_preplexity}, Learning Rate: {learning_rate}, Dropout: {dropout}')\n",
    "    plt.legend()\n",
    "    plt.grid()\n",
    "    plt.show()\n",
    "\n",
    "# Assuming you have the data from the two runs\n",
    "# # Replace with your actual variable names\n",
    "# plot_losses(per_epoch_train_losses, per_epoch_valid_losses, learning_rate=learning_rate, dropout=dropout_p)\n",
    "# plot_losses(no_dropout[0], no_dropout[1], learning_rate=learning_rate, dropout=0)\n",
    "\n",
    "# # If you want them in a single plot:\n",
    "# plt.figure(figsize=(10, 6))\n",
    "# plt.plot(per_epoch_train_losses, label='Training Loss (with dropout)', marker='o')\n",
    "# plt.plot(per_epoch_valid_losses, label='Validation Loss (with dropout)', marker='o')\n",
    "# plt.plot(no_dropout[0], label='Training Loss (no dropout)', marker='x')\n",
    "# plt.plot(no_dropout[1], label='Validation Loss (no dropout)', marker='x')\n",
    "# plt.xlabel('Epoch')\n",
    "# plt.ylabel('Loss')\n",
    "# plt.title('Training and Validation Loss with and without Dropout')\n",
    "# plt.legend()\n",
    "# plt.grid()\n",
    "# plt.show()\n",
    "\n",
    "# Similarly, for perplexity:\n",
    "plt.figure(figsize=(10, 6))\n",
    "plt.plot(per_epoch_train_perplexities, label='Training Perplexity (with dropout)', marker='o')\n",
    "plt.plot(per_epoch_valid_perplexities, label='Validation Perplexity (with dropout)', marker='o')\n",
    "plt.plot(no_dropout[2], label='Training Perplexity (no dropout)', marker='x')\n",
    "plt.plot(no_dropout[3], label='Validation Perplexity (no dropout)', marker='x')\n",
    "plt.xlabel('Epoch')\n",
    "plt.ylabel('Perplexity')\n",
    "plt.title('Training and Validation Perplexity with and without Dropout')\n",
    "plt.legend()\n",
    "plt.grid()\n",
    "plt.show()"
   ],
   "metadata": {
    "id": "grEJRm66FTDU",
    "colab": {
     "base_uri": "https://localhost:8080/",
     "height": 564
    },
    "outputId": "dbc70e81-d32e-41e1-927b-3f95c30a4807"
   },
   "execution_count": null,
   "outputs": [
    {
     "output_type": "display_data",
     "data": {
      "text/plain": [
       "<Figure size 1000x600 with 1 Axes>"
      ],
      "image/png": "[encoded data removed]"
     },
     "metadata": {}
    }
   ]
  },
  {
   "cell_type": "code",
   "source": [
    "device = torch.device(\"cuda\" if torch.cuda.is_available() else \"cpu\")\n",
    "dropout_p = 0\n",
    "model_name = \"GRU_no_dropout\"\n",
    "gru = hw2LSTM(batch_size,seq_length, hidden_dim, n_layers, vocab_size, embedding_dim, dropout_p,device,rnn_type = \"GRU\")\n",
    "Gru_no_dropout = train(model= gru, train_x= encoded_train,train_y=train_labels,val_x = encoded_valid, val_y = valid_labels,batch_size= batch_size,learning_rate= learning_rate, n_epoches= n_epoches, clip= clip, validate_and_print_every= print_every,model_name=model_name)"
   ],
   "metadata": {
    "colab": {
     "base_uri": "https://localhost:8080/"
    },
    "id": "3wSRe3fxKR6h",
    "outputId": "75a2971d-136c-425c-d502-1c67e2ff5601"
   },
   "execution_count": null,
   "outputs": [
    {
     "output_type": "stream",
     "name": "stderr",
     "text": [
      "\r  0%|          | 0/40 [00:00<?, ?it/s]"
     ]
    },
    {
     "output_type": "stream",
     "name": "stdout",
     "text": [
      "Epoch: 1/40... Step: 300... Loss: 6.0194... Last train batch Perplexity: 411.3298...\n",
      "Epoch: 1/40... Step: 600... Loss: 5.8758... Last train batch Perplexity: 356.3141...\n",
      "Epoch: 1/40... Step: 900... Loss: 5.6922... Last train batch Perplexity: 296.5342...\n",
      "Epoch: 1/40... Step: 1200... Loss: 4.9673... Last train batch Perplexity: 143.6346...\n"
     ]
    },
    {
     "output_type": "stream",
     "name": "stderr",
     "text": [
      "  2%|▎         | 1/40 [00:13<08:43, 13.42s/it]"
     ]
    },
    {
     "output_type": "stream",
     "name": "stdout",
     "text": [
      "Epoch: 01, Train Loss: 5.436, Valid Loss: 5.491, Train Perplexity: 233.611, Valid Perplexity: 245.840\n",
      "Epoch: 2/40... Step: 1500... Loss: 5.3078... Last train batch Perplexity: 201.8994...\n",
      "Epoch: 2/40... Step: 1800... Loss: 5.2421... Last train batch Perplexity: 189.0585...\n",
      "Epoch: 2/40... Step: 2100... Loss: 5.0327... Last train batch Perplexity: 153.3426...\n",
      "Epoch: 2/40... Step: 2400... Loss: 4.9165... Last train batch Perplexity: 136.5234...\n"
     ]
    },
    {
     "output_type": "stream",
     "name": "stderr",
     "text": [
      "  5%|▌         | 2/40 [00:27<08:39, 13.67s/it]"
     ]
    },
    {
     "output_type": "stream",
     "name": "stdout",
     "text": [
      "Epoch: 02, Train Loss: 5.091, Valid Loss: 5.244, Train Perplexity: 166.019, Valid Perplexity: 192.406\n",
      "Epoch: 3/40... Step: 2700... Loss: 5.0607... Last train batch Perplexity: 157.6991...\n",
      "Epoch: 3/40... Step: 3000... Loss: 5.2218... Last train batch Perplexity: 185.2760...\n",
      "Epoch: 3/40... Step: 3300... Loss: 5.0390... Last train batch Perplexity: 154.3213...\n",
      "Epoch: 3/40... Step: 3600... Loss: 4.9517... Last train batch Perplexity: 141.4169...\n",
      "Epoch: 3/40... Step: 3900... Loss: 5.0919... Last train batch Perplexity: 162.7033...\n"
     ]
    },
    {
     "output_type": "stream",
     "name": "stderr",
     "text": [
      "  8%|▊         | 3/40 [00:40<08:21, 13.55s/it]"
     ]
    },
    {
     "output_type": "stream",
     "name": "stdout",
     "text": [
      "Epoch: 03, Train Loss: 4.884, Valid Loss: 5.124, Train Perplexity: 135.155, Valid Perplexity: 170.809\n",
      "Epoch: 4/40... Step: 4200... Loss: 4.7851... Last train batch Perplexity: 119.7115...\n",
      "Epoch: 4/40... Step: 4500... Loss: 4.8477... Last train batch Perplexity: 127.4503...\n",
      "Epoch: 4/40... Step: 4800... Loss: 4.6735... Last train batch Perplexity: 107.0701...\n",
      "Epoch: 4/40... Step: 5100... Loss: 5.0130... Last train batch Perplexity: 150.3601...\n"
     ]
    },
    {
     "output_type": "stream",
     "name": "stderr",
     "text": [
      " 10%|█         | 4/40 [00:53<07:59, 13.33s/it]"
     ]
    },
    {
     "output_type": "stream",
     "name": "stdout",
     "text": [
      "Epoch: 04, Train Loss: 4.731, Valid Loss: 5.050, Train Perplexity: 116.173, Valid Perplexity: 158.872\n",
      "Epoch: 5/40... Step: 5400... Loss: 4.5566... Last train batch Perplexity: 95.2571...\n",
      "Epoch: 5/40... Step: 5700... Loss: 4.7899... Last train batch Perplexity: 120.2852...\n",
      "Epoch: 5/40... Step: 6000... Loss: 4.5921... Last train batch Perplexity: 98.7052...\n",
      "Epoch: 5/40... Step: 6300... Loss: 4.3551... Last train batch Perplexity: 77.8760...\n",
      "Epoch: 5/40... Step: 6600... Loss: 4.7458... Last train batch Perplexity: 115.1016...\n"
     ]
    },
    {
     "output_type": "stream",
     "name": "stderr",
     "text": [
      " 12%|█▎        | 5/40 [01:06<07:41, 13.18s/it]"
     ]
    },
    {
     "output_type": "stream",
     "name": "stdout",
     "text": [
      "Epoch: 05, Train Loss: 4.611, Valid Loss: 5.006, Train Perplexity: 103.151, Valid Perplexity: 152.177\n",
      "Epoch: 6/40... Step: 6900... Loss: 4.7591... Last train batch Perplexity: 116.6412...\n",
      "Epoch: 6/40... Step: 7200... Loss: 4.2240... Last train batch Perplexity: 68.3041...\n",
      "Epoch: 6/40... Step: 7500... Loss: 4.8489... Last train batch Perplexity: 127.6030...\n",
      "Epoch: 6/40... Step: 7800... Loss: 4.5843... Last train batch Perplexity: 97.9330...\n"
     ]
    },
    {
     "output_type": "stream",
     "name": "stderr",
     "text": [
      " 15%|█▌        | 6/40 [01:19<07:24, 13.08s/it]"
     ]
    },
    {
     "output_type": "stream",
     "name": "stdout",
     "text": [
      "Epoch: 06, Train Loss: 4.510, Valid Loss: 4.979, Train Perplexity: 93.373, Valid Perplexity: 148.357\n",
      "Epoch: 7/40... Step: 8100... Loss: 4.6648... Last train batch Perplexity: 106.1419...\n",
      "Epoch: 7/40... Step: 8400... Loss: 4.4468... Last train batch Perplexity: 85.3527...\n",
      "Epoch: 7/40... Step: 8700... Loss: 4.2453... Last train batch Perplexity: 69.7732...\n",
      "Epoch: 7/40... Step: 9000... Loss: 4.3419... Last train batch Perplexity: 76.8508...\n"
     ]
    },
    {
     "output_type": "stream",
     "name": "stderr",
     "text": [
      " 18%|█▊        | 7/40 [01:32<07:10, 13.04s/it]"
     ]
    },
    {
     "output_type": "stream",
     "name": "stdout",
     "text": [
      "Epoch: 07, Train Loss: 4.426, Valid Loss: 4.969, Train Perplexity: 85.970, Valid Perplexity: 146.932\n",
      "Epoch: 8/40... Step: 9300... Loss: 4.5680... Last train batch Perplexity: 96.3549...\n",
      "Epoch: 8/40... Step: 9600... Loss: 4.1640... Last train batch Perplexity: 64.3267...\n",
      "Epoch: 8/40... Step: 9900... Loss: 4.5112... Last train batch Perplexity: 91.0346...\n",
      "Epoch: 8/40... Step: 10200... Loss: 4.6399... Last train batch Perplexity: 103.5292...\n",
      "Epoch: 8/40... Step: 10500... Loss: 4.1868... Last train batch Perplexity: 65.8125...\n"
     ]
    },
    {
     "output_type": "stream",
     "name": "stderr",
     "text": [
      " 20%|██        | 8/40 [01:45<06:55, 12.99s/it]"
     ]
    },
    {
     "output_type": "stream",
     "name": "stdout",
     "text": [
      "Epoch: 08, Train Loss: 4.356, Valid Loss: 4.970, Train Perplexity: 80.248, Valid Perplexity: 147.292\n",
      "Epoch: 9/40... Step: 10800... Loss: 4.5037... Last train batch Perplexity: 90.3541...\n",
      "Epoch: 9/40... Step: 11100... Loss: 4.2149... Last train batch Perplexity: 67.6869...\n",
      "Epoch: 9/40... Step: 11400... Loss: 4.3358... Last train batch Perplexity: 76.3826...\n",
      "Epoch: 9/40... Step: 11700... Loss: 4.0294... Last train batch Perplexity: 56.2275...\n"
     ]
    },
    {
     "output_type": "stream",
     "name": "stderr",
     "text": [
      " 22%|██▎       | 9/40 [01:58<06:41, 12.96s/it]"
     ]
    },
    {
     "output_type": "stream",
     "name": "stdout",
     "text": [
      "Epoch: 09, Train Loss: 4.296, Valid Loss: 4.980, Train Perplexity: 75.640, Valid Perplexity: 148.787\n",
      "Epoch: 10/40... Step: 12000... Loss: 4.2170... Last train batch Perplexity: 67.8298...\n",
      "Epoch: 10/40... Step: 12300... Loss: 4.0665... Last train batch Perplexity: 58.3542...\n",
      "Epoch: 10/40... Step: 12600... Loss: 4.4412... Last train batch Perplexity: 84.8750...\n",
      "Epoch: 10/40... Step: 12900... Loss: 4.6269... Last train batch Perplexity: 102.1974...\n",
      "Epoch: 10/40... Step: 13200... Loss: 4.1438... Last train batch Perplexity: 63.0392...\n"
     ]
    },
    {
     "output_type": "stream",
     "name": "stderr",
     "text": [
      " 25%|██▌       | 10/40 [02:12<06:40, 13.36s/it]"
     ]
    },
    {
     "output_type": "stream",
     "name": "stdout",
     "text": [
      "Epoch: 10, Train Loss: 4.243, Valid Loss: 4.993, Train Perplexity: 71.780, Valid Perplexity: 150.848\n",
      "Epoch: 11/40... Step: 13500... Loss: 4.4067... Last train batch Perplexity: 82.0004...\n",
      "Epoch: 11/40... Step: 13800... Loss: 4.2575... Last train batch Perplexity: 70.6305...\n",
      "Epoch: 11/40... Step: 14100... Loss: 3.9947... Last train batch Perplexity: 54.3114...\n",
      "Epoch: 11/40... Step: 14400... Loss: 4.0760... Last train batch Perplexity: 58.9069...\n"
     ]
    },
    {
     "output_type": "stream",
     "name": "stderr",
     "text": [
      " 28%|██▊       | 11/40 [02:26<06:30, 13.46s/it]"
     ]
    },
    {
     "output_type": "stream",
     "name": "stdout",
     "text": [
      "Epoch: 11, Train Loss: 4.195, Valid Loss: 5.009, Train Perplexity: 68.504, Valid Perplexity: 153.369\n",
      "Epoch: 12/40... Step: 14700... Loss: 3.9818... Last train batch Perplexity: 53.6111...\n",
      "Epoch: 12/40... Step: 15000... Loss: 3.9465... Last train batch Perplexity: 51.7530...\n",
      "Epoch: 12/40... Step: 15300... Loss: 4.3642... Last train batch Perplexity: 78.5833...\n",
      "Epoch: 12/40... Step: 15600... Loss: 4.3851... Last train batch Perplexity: 80.2485...\n",
      "Epoch: 12/40... Step: 15900... Loss: 4.2430... Last train batch Perplexity: 69.6151...\n"
     ]
    },
    {
     "output_type": "stream",
     "name": "stderr",
     "text": [
      " 30%|███       | 12/40 [02:38<06:11, 13.26s/it]"
     ]
    },
    {
     "output_type": "stream",
     "name": "stdout",
     "text": [
      "Epoch: 12, Train Loss: 4.154, Valid Loss: 5.026, Train Perplexity: 65.818, Valid Perplexity: 156.108\n",
      "Epoch: 13/40... Step: 16200... Loss: 4.1460... Last train batch Perplexity: 63.1831...\n",
      "Epoch: 13/40... Step: 16500... Loss: 4.0429... Last train batch Perplexity: 56.9903...\n",
      "Epoch: 13/40... Step: 16800... Loss: 4.1055... Last train batch Perplexity: 60.6740...\n",
      "Epoch: 13/40... Step: 17100... Loss: 4.2559... Last train batch Perplexity: 70.5218...\n"
     ]
    },
    {
     "output_type": "stream",
     "name": "stderr",
     "text": [
      " 32%|███▎      | 13/40 [02:51<05:54, 13.11s/it]"
     ]
    },
    {
     "output_type": "stream",
     "name": "stdout",
     "text": [
      "Epoch: 13, Train Loss: 4.117, Valid Loss: 5.043, Train Perplexity: 63.421, Valid Perplexity: 158.822\n",
      "Epoch: 14/40... Step: 17400... Loss: 4.3237... Last train batch Perplexity: 75.4652...\n",
      "Epoch: 14/40... Step: 17700... Loss: 4.2651... Last train batch Perplexity: 71.1706...\n",
      "Epoch: 14/40... Step: 18000... Loss: 3.8536... Last train batch Perplexity: 47.1643...\n",
      "Epoch: 14/40... Step: 18300... Loss: 3.9256... Last train batch Perplexity: 50.6858...\n"
     ]
    },
    {
     "output_type": "stream",
     "name": "stderr",
     "text": [
      " 35%|███▌      | 14/40 [03:04<05:38, 13.02s/it]"
     ]
    },
    {
     "output_type": "stream",
     "name": "stdout",
     "text": [
      "Epoch: 14, Train Loss: 4.084, Valid Loss: 5.058, Train Perplexity: 61.448, Valid Perplexity: 161.242\n",
      "Epoch: 15/40... Step: 18600... Loss: 4.1735... Last train batch Perplexity: 64.9448...\n",
      "Epoch: 15/40... Step: 18900... Loss: 3.9871... Last train batch Perplexity: 53.9003...\n",
      "Epoch: 15/40... Step: 19200... Loss: 4.0668... Last train batch Perplexity: 58.3721...\n",
      "Epoch: 15/40... Step: 19500... Loss: 3.9519... Last train batch Perplexity: 52.0344...\n",
      "Epoch: 15/40... Step: 19800... Loss: 3.8131... Last train batch Perplexity: 45.2890...\n"
     ]
    },
    {
     "output_type": "stream",
     "name": "stderr",
     "text": [
      " 38%|███▊      | 15/40 [03:17<05:23, 12.96s/it]"
     ]
    },
    {
     "output_type": "stream",
     "name": "stdout",
     "text": [
      "Epoch: 15, Train Loss: 4.055, Valid Loss: 5.079, Train Perplexity: 59.728, Valid Perplexity: 164.815\n",
      "Epoch: 16/40... Step: 20100... Loss: 4.2698... Last train batch Perplexity: 71.5095...\n",
      "Epoch: 16/40... Step: 20400... Loss: 4.3164... Last train batch Perplexity: 74.9215...\n",
      "Epoch: 16/40... Step: 20700... Loss: 4.0792... Last train batch Perplexity: 59.0965...\n",
      "Epoch: 16/40... Step: 21000... Loss: 3.6096... Last train batch Perplexity: 36.9518...\n"
     ]
    },
    {
     "output_type": "stream",
     "name": "stderr",
     "text": [
      " 40%|████      | 16/40 [03:30<05:09, 12.90s/it]"
     ]
    },
    {
     "output_type": "stream",
     "name": "stdout",
     "text": [
      "Epoch: 16, Train Loss: 4.027, Valid Loss: 5.090, Train Perplexity: 58.083, Valid Perplexity: 166.594\n",
      "Epoch: 17/40... Step: 21300... Loss: 4.0723... Last train batch Perplexity: 58.6924...\n",
      "Epoch: 17/40... Step: 21600... Loss: 3.7050... Last train batch Perplexity: 40.6519...\n",
      "Epoch: 17/40... Step: 21900... Loss: 3.5450... Last train batch Perplexity: 34.6398...\n",
      "Epoch: 17/40... Step: 22200... Loss: 4.1822... Last train batch Perplexity: 65.5121...\n",
      "Epoch: 17/40... Step: 22500... Loss: 3.6526... Last train batch Perplexity: 38.5739...\n"
     ]
    },
    {
     "output_type": "stream",
     "name": "stderr",
     "text": [
      " 42%|████▎     | 17/40 [03:42<04:56, 12.87s/it]"
     ]
    },
    {
     "output_type": "stream",
     "name": "stdout",
     "text": [
      "Epoch: 17, Train Loss: 3.998, Valid Loss: 5.108, Train Perplexity: 56.423, Valid Perplexity: 169.594\n",
      "Epoch: 18/40... Step: 22800... Loss: 3.9257... Last train batch Perplexity: 50.6898...\n",
      "Epoch: 18/40... Step: 23100... Loss: 4.3209... Last train batch Perplexity: 75.2595...\n",
      "Epoch: 18/40... Step: 23400... Loss: 4.1806... Last train batch Perplexity: 65.4060...\n",
      "Epoch: 18/40... Step: 23700... Loss: 4.0738... Last train batch Perplexity: 58.7785...\n"
     ]
    },
    {
     "output_type": "stream",
     "name": "stderr",
     "text": [
      " 45%|████▌     | 18/40 [03:55<04:42, 12.85s/it]"
     ]
    },
    {
     "output_type": "stream",
     "name": "stdout",
     "text": [
      "Epoch: 18, Train Loss: 3.973, Valid Loss: 5.120, Train Perplexity: 55.052, Valid Perplexity: 171.810\n",
      "Epoch: 19/40... Step: 24000... Loss: 3.8736... Last train batch Perplexity: 48.1130...\n",
      "Epoch: 19/40... Step: 24300... Loss: 4.0453... Last train batch Perplexity: 57.1283...\n",
      "Epoch: 19/40... Step: 24600... Loss: 4.0133... Last train batch Perplexity: 55.3288...\n",
      "Epoch: 19/40... Step: 24900... Loss: 4.2616... Last train batch Perplexity: 70.9260...\n",
      "Epoch: 19/40... Step: 25200... Loss: 4.1398... Last train batch Perplexity: 62.7895...\n"
     ]
    },
    {
     "output_type": "stream",
     "name": "stderr",
     "text": [
      " 48%|████▊     | 19/40 [04:08<04:30, 12.89s/it]"
     ]
    },
    {
     "output_type": "stream",
     "name": "stdout",
     "text": [
      "Epoch: 19, Train Loss: 3.950, Valid Loss: 5.133, Train Perplexity: 53.793, Valid Perplexity: 174.145\n",
      "Epoch: 20/40... Step: 25500... Loss: 3.8847... Last train batch Perplexity: 48.6512...\n",
      "Epoch: 20/40... Step: 25800... Loss: 4.0158... Last train batch Perplexity: 55.4702...\n",
      "Epoch: 20/40... Step: 26100... Loss: 3.8971... Last train batch Perplexity: 49.2594...\n",
      "Epoch: 20/40... Step: 26400... Loss: 3.8661... Last train batch Perplexity: 47.7572...\n"
     ]
    },
    {
     "output_type": "stream",
     "name": "stderr",
     "text": [
      " 50%|█████     | 20/40 [04:21<04:17, 12.86s/it]"
     ]
    },
    {
     "output_type": "stream",
     "name": "stdout",
     "text": [
      "Epoch: 20, Train Loss: 3.925, Valid Loss: 5.141, Train Perplexity: 52.494, Valid Perplexity: 175.792\n",
      "Epoch: 21/40... Step: 26700... Loss: 4.1293... Last train batch Perplexity: 62.1341...\n",
      "Epoch: 21/40... Step: 27000... Loss: 3.7639... Last train batch Perplexity: 43.1148...\n",
      "Epoch: 21/40... Step: 27300... Loss: 3.2231... Last train batch Perplexity: 25.1064...\n",
      "Epoch: 21/40... Step: 27600... Loss: 3.6908... Last train batch Perplexity: 40.0762...\n"
     ]
    },
    {
     "output_type": "stream",
     "name": "stderr",
     "text": [
      " 52%|█████▎    | 21/40 [04:34<04:04, 12.85s/it]"
     ]
    },
    {
     "output_type": "stream",
     "name": "stdout",
     "text": [
      "Epoch: 21, Train Loss: 3.900, Valid Loss: 5.147, Train Perplexity: 51.163, Valid Perplexity: 176.700\n",
      "Epoch: 22/40... Step: 27900... Loss: 3.7601... Last train batch Perplexity: 42.9524...\n",
      "Epoch: 22/40... Step: 28200... Loss: 4.0373... Last train batch Perplexity: 56.6744...\n",
      "Epoch: 22/40... Step: 28500... Loss: 4.0857... Last train batch Perplexity: 59.4830...\n",
      "Epoch: 22/40... Step: 28800... Loss: 4.1333... Last train batch Perplexity: 62.3812...\n",
      "Epoch: 22/40... Step: 29100... Loss: 3.8586... Last train batch Perplexity: 47.3983...\n"
     ]
    },
    {
     "output_type": "stream",
     "name": "stderr",
     "text": [
      " 55%|█████▌    | 22/40 [04:47<03:51, 12.84s/it]"
     ]
    },
    {
     "output_type": "stream",
     "name": "stdout",
     "text": [
      "Epoch: 22, Train Loss: 3.884, Valid Loss: 5.163, Train Perplexity: 50.378, Valid Perplexity: 179.548\n",
      "Epoch: 23/40... Step: 29400... Loss: 3.9561... Last train batch Perplexity: 52.2545...\n",
      "Epoch: 23/40... Step: 29700... Loss: 4.1230... Last train batch Perplexity: 61.7421...\n",
      "Epoch: 23/40... Step: 30000... Loss: 3.8880... Last train batch Perplexity: 48.8140...\n",
      "Epoch: 23/40... Step: 30300... Loss: 3.9520... Last train batch Perplexity: 52.0411...\n"
     ]
    },
    {
     "output_type": "stream",
     "name": "stderr",
     "text": [
      " 57%|█████▊    | 23/40 [04:59<03:38, 12.84s/it]"
     ]
    },
    {
     "output_type": "stream",
     "name": "stdout",
     "text": [
      "Epoch: 23, Train Loss: 3.864, Valid Loss: 5.172, Train Perplexity: 49.344, Valid Perplexity: 181.172\n",
      "Epoch: 24/40... Step: 30600... Loss: 3.5362... Last train batch Perplexity: 34.3361...\n",
      "Epoch: 24/40... Step: 30900... Loss: 3.6892... Last train batch Perplexity: 40.0128...\n",
      "Epoch: 24/40... Step: 31200... Loss: 3.9610... Last train batch Perplexity: 52.5088...\n",
      "Epoch: 24/40... Step: 31500... Loss: 4.2264... Last train batch Perplexity: 68.4699...\n",
      "Epoch: 24/40... Step: 31800... Loss: 3.7338... Last train batch Perplexity: 41.8380...\n"
     ]
    },
    {
     "output_type": "stream",
     "name": "stderr",
     "text": [
      " 60%|██████    | 24/40 [05:12<03:25, 12.84s/it]"
     ]
    },
    {
     "output_type": "stream",
     "name": "stdout",
     "text": [
      "Epoch: 24, Train Loss: 3.846, Valid Loss: 5.185, Train Perplexity: 48.494, Valid Perplexity: 183.567\n",
      "Epoch: 25/40... Step: 32100... Loss: 3.7869... Last train batch Perplexity: 44.1175...\n",
      "Epoch: 25/40... Step: 32400... Loss: 4.0331... Last train batch Perplexity: 56.4350...\n",
      "Epoch: 25/40... Step: 32700... Loss: 3.6928... Last train batch Perplexity: 40.1581...\n",
      "Epoch: 25/40... Step: 33000... Loss: 3.6975... Last train batch Perplexity: 40.3462...\n"
     ]
    },
    {
     "output_type": "stream",
     "name": "stderr",
     "text": [
      " 62%|██████▎   | 25/40 [05:25<03:12, 12.83s/it]"
     ]
    },
    {
     "output_type": "stream",
     "name": "stdout",
     "text": [
      "Epoch: 25, Train Loss: 3.821, Valid Loss: 5.191, Train Perplexity: 47.286, Valid Perplexity: 184.865\n",
      "Epoch: 26/40... Step: 33300... Loss: 3.7000... Last train batch Perplexity: 40.4483...\n",
      "Epoch: 26/40... Step: 33600... Loss: 3.8545... Last train batch Perplexity: 47.2067...\n",
      "Epoch: 26/40... Step: 33900... Loss: 3.6553... Last train batch Perplexity: 38.6808...\n",
      "Epoch: 26/40... Step: 34200... Loss: 3.5155... Last train batch Perplexity: 33.6312...\n",
      "Epoch: 26/40... Step: 34500... Loss: 4.1325... Last train batch Perplexity: 62.3361...\n"
     ]
    },
    {
     "output_type": "stream",
     "name": "stderr",
     "text": [
      " 65%|██████▌   | 26/40 [05:38<03:01, 12.93s/it]"
     ]
    },
    {
     "output_type": "stream",
     "name": "stdout",
     "text": [
      "Epoch: 26, Train Loss: 3.804, Valid Loss: 5.200, Train Perplexity: 46.450, Valid Perplexity: 186.550\n",
      "Epoch: 27/40... Step: 34800... Loss: 3.5151... Last train batch Perplexity: 33.6188...\n",
      "Epoch: 27/40... Step: 35100... Loss: 4.0113... Last train batch Perplexity: 55.2168...\n",
      "Epoch: 27/40... Step: 35400... Loss: 3.9286... Last train batch Perplexity: 50.8355...\n",
      "Epoch: 27/40... Step: 35700... Loss: 3.3860... Last train batch Perplexity: 29.5471...\n"
     ]
    },
    {
     "output_type": "stream",
     "name": "stderr",
     "text": [
      " 68%|██████▊   | 27/40 [05:51<02:47, 12.90s/it]"
     ]
    },
    {
     "output_type": "stream",
     "name": "stdout",
     "text": [
      "Epoch: 27, Train Loss: 3.793, Valid Loss: 5.215, Train Perplexity: 45.965, Valid Perplexity: 189.432\n",
      "Epoch: 28/40... Step: 36000... Loss: 4.0614... Last train batch Perplexity: 58.0540...\n",
      "Epoch: 28/40... Step: 36300... Loss: 3.8662... Last train batch Perplexity: 47.7611...\n",
      "Epoch: 28/40... Step: 36600... Loss: 3.6649... Last train batch Perplexity: 39.0541...\n",
      "Epoch: 28/40... Step: 36900... Loss: 3.3264... Last train batch Perplexity: 27.8383...\n"
     ]
    },
    {
     "output_type": "stream",
     "name": "stderr",
     "text": [
      " 70%|███████   | 28/40 [06:04<02:34, 12.88s/it]"
     ]
    },
    {
     "output_type": "stream",
     "name": "stdout",
     "text": [
      "Epoch: 28, Train Loss: 3.779, Valid Loss: 5.226, Train Perplexity: 45.330, Valid Perplexity: 191.434\n",
      "Epoch: 29/40... Step: 37200... Loss: 3.8443... Last train batch Perplexity: 46.7253...\n",
      "Epoch: 29/40... Step: 37500... Loss: 3.7191... Last train batch Perplexity: 41.2273...\n",
      "Epoch: 29/40... Step: 37800... Loss: 3.7072... Last train batch Perplexity: 40.7408...\n",
      "Epoch: 29/40... Step: 38100... Loss: 4.0204... Last train batch Perplexity: 55.7261...\n",
      "Epoch: 29/40... Step: 38400... Loss: 3.9325... Last train batch Perplexity: 51.0344...\n"
     ]
    },
    {
     "output_type": "stream",
     "name": "stderr",
     "text": [
      " 72%|███████▎  | 29/40 [06:17<02:21, 12.87s/it]"
     ]
    },
    {
     "output_type": "stream",
     "name": "stdout",
     "text": [
      "Epoch: 29, Train Loss: 3.758, Valid Loss: 5.233, Train Perplexity: 44.353, Valid Perplexity: 192.701\n",
      "Epoch: 30/40... Step: 38700... Loss: 3.7814... Last train batch Perplexity: 43.8783...\n",
      "Epoch: 30/40... Step: 39000... Loss: 3.7085... Last train batch Perplexity: 40.7920...\n",
      "Epoch: 30/40... Step: 39300... Loss: 3.8483... Last train batch Perplexity: 46.9154...\n",
      "Epoch: 30/40... Step: 39600... Loss: 3.8358... Last train batch Perplexity: 46.3286...\n"
     ]
    },
    {
     "output_type": "stream",
     "name": "stderr",
     "text": [
      " 75%|███████▌  | 30/40 [06:30<02:08, 12.86s/it]"
     ]
    },
    {
     "output_type": "stream",
     "name": "stdout",
     "text": [
      "Epoch: 30, Train Loss: 3.743, Valid Loss: 5.242, Train Perplexity: 43.681, Valid Perplexity: 194.416\n",
      "Epoch: 31/40... Step: 39900... Loss: 3.4317... Last train batch Perplexity: 30.9279...\n",
      "Epoch: 31/40... Step: 40200... Loss: 3.7429... Last train batch Perplexity: 42.2204...\n",
      "Epoch: 31/40... Step: 40500... Loss: 3.9003... Last train batch Perplexity: 49.4189...\n",
      "Epoch: 31/40... Step: 40800... Loss: 3.9380... Last train batch Perplexity: 51.3155...\n",
      "Epoch: 31/40... Step: 41100... Loss: 3.8669... Last train batch Perplexity: 47.7962...\n"
     ]
    },
    {
     "output_type": "stream",
     "name": "stderr",
     "text": [
      " 78%|███████▊  | 31/40 [06:42<01:55, 12.86s/it]"
     ]
    },
    {
     "output_type": "stream",
     "name": "stdout",
     "text": [
      "Epoch: 31, Train Loss: 3.731, Valid Loss: 5.246, Train Perplexity: 43.178, Valid Perplexity: 195.415\n",
      "Epoch: 32/40... Step: 41400... Loss: 3.8976... Last train batch Perplexity: 49.2864...\n",
      "Epoch: 32/40... Step: 41700... Loss: 3.6271... Last train batch Perplexity: 37.6026...\n",
      "Epoch: 32/40... Step: 42000... Loss: 3.8235... Last train batch Perplexity: 45.7643...\n",
      "Epoch: 32/40... Step: 42300... Loss: 3.7495... Last train batch Perplexity: 42.4980...\n"
     ]
    },
    {
     "output_type": "stream",
     "name": "stderr",
     "text": [
      " 80%|████████  | 32/40 [06:55<01:42, 12.85s/it]"
     ]
    },
    {
     "output_type": "stream",
     "name": "stdout",
     "text": [
      "Epoch: 32, Train Loss: 3.712, Valid Loss: 5.252, Train Perplexity: 42.340, Valid Perplexity: 196.794\n",
      "Epoch: 33/40... Step: 42600... Loss: 3.8390... Last train batch Perplexity: 46.4794...\n",
      "Epoch: 33/40... Step: 42900... Loss: 3.7867... Last train batch Perplexity: 44.1109...\n",
      "Epoch: 33/40... Step: 43200... Loss: 3.5440... Last train batch Perplexity: 34.6058...\n",
      "Epoch: 33/40... Step: 43500... Loss: 3.1519... Last train batch Perplexity: 23.3814...\n"
     ]
    },
    {
     "output_type": "stream",
     "name": "stderr",
     "text": [
      " 82%|████████▎ | 33/40 [07:08<01:29, 12.85s/it]"
     ]
    },
    {
     "output_type": "stream",
     "name": "stdout",
     "text": [
      "Epoch: 33, Train Loss: 3.698, Valid Loss: 5.264, Train Perplexity: 41.751, Valid Perplexity: 198.965\n",
      "Epoch: 34/40... Step: 43800... Loss: 3.7515... Last train batch Perplexity: 42.5843...\n",
      "Epoch: 34/40... Step: 44100... Loss: 3.4387... Last train batch Perplexity: 31.1451...\n",
      "Epoch: 34/40... Step: 44400... Loss: 3.6952... Last train batch Perplexity: 40.2541...\n",
      "Epoch: 34/40... Step: 44700... Loss: 3.5826... Last train batch Perplexity: 35.9680...\n",
      "Epoch: 34/40... Step: 45000... Loss: 3.0386... Last train batch Perplexity: 20.8753...\n"
     ]
    },
    {
     "output_type": "stream",
     "name": "stderr",
     "text": [
      " 85%|████████▌ | 34/40 [07:21<01:17, 12.84s/it]"
     ]
    },
    {
     "output_type": "stream",
     "name": "stdout",
     "text": [
      "Epoch: 34, Train Loss: 3.682, Valid Loss: 5.262, Train Perplexity: 41.095, Valid Perplexity: 198.458\n",
      "Epoch: 35/40... Step: 45300... Loss: 3.8829... Last train batch Perplexity: 48.5626...\n",
      "Epoch: 35/40... Step: 45600... Loss: 3.5089... Last train batch Perplexity: 33.4125...\n",
      "Epoch: 35/40... Step: 45900... Loss: 3.4477... Last train batch Perplexity: 31.4285...\n",
      "Epoch: 35/40... Step: 46200... Loss: 3.3098... Last train batch Perplexity: 27.3807...\n"
     ]
    },
    {
     "output_type": "stream",
     "name": "stderr",
     "text": [
      " 88%|████████▊ | 35/40 [07:34<01:04, 12.84s/it]"
     ]
    },
    {
     "output_type": "stream",
     "name": "stdout",
     "text": [
      "Epoch: 35, Train Loss: 3.673, Valid Loss: 5.272, Train Perplexity: 40.695, Valid Perplexity: 200.458\n",
      "Epoch: 36/40... Step: 46500... Loss: 3.7645... Last train batch Perplexity: 43.1439...\n",
      "Epoch: 36/40... Step: 46800... Loss: 3.6407... Last train batch Perplexity: 38.1203...\n",
      "Epoch: 36/40... Step: 47100... Loss: 3.6981... Last train batch Perplexity: 40.3704...\n",
      "Epoch: 36/40... Step: 47400... Loss: 3.8516... Last train batch Perplexity: 47.0705...\n",
      "Epoch: 36/40... Step: 47700... Loss: 3.5385... Last train batch Perplexity: 34.4142...\n"
     ]
    },
    {
     "output_type": "stream",
     "name": "stderr",
     "text": [
      " 90%|█████████ | 36/40 [07:47<00:51, 12.84s/it]"
     ]
    },
    {
     "output_type": "stream",
     "name": "stdout",
     "text": [
      "Epoch: 36, Train Loss: 3.657, Valid Loss: 5.281, Train Perplexity: 40.040, Valid Perplexity: 202.300\n",
      "Epoch: 37/40... Step: 48000... Loss: 3.7734... Last train batch Perplexity: 43.5288...\n",
      "Epoch: 37/40... Step: 48300... Loss: 3.6099... Last train batch Perplexity: 36.9612...\n",
      "Epoch: 37/40... Step: 48600... Loss: 3.5360... Last train batch Perplexity: 34.3303...\n",
      "Epoch: 37/40... Step: 48900... Loss: 3.7318... Last train batch Perplexity: 41.7527...\n"
     ]
    },
    {
     "output_type": "stream",
     "name": "stderr",
     "text": [
      " 92%|█████████▎| 37/40 [08:00<00:38, 12.85s/it]"
     ]
    },
    {
     "output_type": "stream",
     "name": "stdout",
     "text": [
      "Epoch: 37, Train Loss: 3.647, Valid Loss: 5.286, Train Perplexity: 39.636, Valid Perplexity: 203.532\n",
      "Epoch: 38/40... Step: 49200... Loss: 3.4273... Last train batch Perplexity: 30.7939...\n",
      "Epoch: 38/40... Step: 49500... Loss: 3.5566... Last train batch Perplexity: 35.0427...\n",
      "Epoch: 38/40... Step: 49800... Loss: 3.7845... Last train batch Perplexity: 44.0132...\n",
      "Epoch: 38/40... Step: 50100... Loss: 3.8061... Last train batch Perplexity: 44.9756...\n",
      "Epoch: 38/40... Step: 50400... Loss: 3.7825... Last train batch Perplexity: 43.9241...\n"
     ]
    },
    {
     "output_type": "stream",
     "name": "stderr",
     "text": [
      " 95%|█████████▌| 38/40 [08:12<00:25, 12.85s/it]"
     ]
    },
    {
     "output_type": "stream",
     "name": "stdout",
     "text": [
      "Epoch: 38, Train Loss: 3.636, Valid Loss: 5.297, Train Perplexity: 39.208, Valid Perplexity: 205.815\n",
      "Epoch: 39/40... Step: 50700... Loss: 3.8353... Last train batch Perplexity: 46.3068...\n",
      "Epoch: 39/40... Step: 51000... Loss: 3.3368... Last train batch Perplexity: 28.1281...\n",
      "Epoch: 39/40... Step: 51300... Loss: 3.5792... Last train batch Perplexity: 35.8455...\n",
      "Epoch: 39/40... Step: 51600... Loss: 3.5854... Last train batch Perplexity: 36.0689...\n"
     ]
    },
    {
     "output_type": "stream",
     "name": "stderr",
     "text": [
      " 98%|█████████▊| 39/40 [08:25<00:12, 12.86s/it]"
     ]
    },
    {
     "output_type": "stream",
     "name": "stdout",
     "text": [
      "Epoch: 39, Train Loss: 3.625, Valid Loss: 5.299, Train Perplexity: 38.766, Valid Perplexity: 206.295\n",
      "Epoch: 40/40... Step: 51900... Loss: 3.8023... Last train batch Perplexity: 44.8057...\n",
      "Epoch: 40/40... Step: 52200... Loss: 3.5085... Last train batch Perplexity: 33.3992...\n",
      "Epoch: 40/40... Step: 52500... Loss: 3.4001... Last train batch Perplexity: 29.9663...\n",
      "Epoch: 40/40... Step: 52800... Loss: 3.3680... Last train batch Perplexity: 29.0207...\n"
     ]
    },
    {
     "output_type": "stream",
     "name": "stderr",
     "text": [
      "100%|██████████| 40/40 [08:38<00:00, 12.97s/it]"
     ]
    },
    {
     "output_type": "stream",
     "name": "stdout",
     "text": [
      "Epoch: 40, Train Loss: 3.618, Valid Loss: 5.311, Train Perplexity: 38.488, Valid Perplexity: 208.748\n"
     ]
    },
    {
     "output_type": "stream",
     "name": "stderr",
     "text": [
      "\n"
     ]
    }
   ]
  },
  {
   "cell_type": "code",
   "source": [
    "dropout_p = 0.3\n",
    "model_name = \"GRU_dropout_0.3\"\n",
    "gru = hw2LSTM(batch_size,seq_length, hidden_dim, n_layers, vocab_size, embedding_dim, dropout_p,device,rnn_type = \"GRU\")\n",
    "Gru_dropout = train(model= gru, train_x= encoded_train,train_y=train_labels,val_x = encoded_valid, val_y = valid_labels,batch_size= batch_size,learning_rate= learning_rate, n_epoches= n_epoches, clip= clip, validate_and_print_every= print_every,model_name=model_name)"
   ],
   "metadata": {
    "colab": {
     "base_uri": "https://localhost:8080/"
    },
    "id": "KpArLl5DKcbT",
    "outputId": "dadad66c-a7ce-48e1-bc29-dbe75343045c"
   },
   "execution_count": null,
   "outputs": [
    {
     "output_type": "stream",
     "name": "stderr",
     "text": [
      "\r  0%|          | 0/40 [00:00<?, ?it/s]"
     ]
    },
    {
     "output_type": "stream",
     "name": "stdout",
     "text": [
      "Epoch: 1/40... Step: 300... Loss: 6.0733... Last train batch Perplexity: 434.0897...\n",
      "Epoch: 1/40... Step: 600... Loss: 6.0196... Last train batch Perplexity: 411.4277...\n",
      "Epoch: 1/40... Step: 900... Loss: 5.8355... Last train batch Perplexity: 342.2413...\n",
      "Epoch: 1/40... Step: 1200... Loss: 5.1497... Last train batch Perplexity: 172.3790...\n"
     ]
    },
    {
     "output_type": "stream",
     "name": "stderr",
     "text": [
      "  2%|▎         | 1/40 [00:13<08:39, 13.33s/it]"
     ]
    },
    {
     "output_type": "stream",
     "name": "stdout",
     "text": [
      "Epoch: 01, Train Loss: 5.562, Valid Loss: 5.593, Train Perplexity: 264.844, Valid Perplexity: 272.497\n",
      "Epoch: 2/40... Step: 1500... Loss: 5.4991... Last train batch Perplexity: 244.4685...\n",
      "Epoch: 2/40... Step: 1800... Loss: 5.4097... Last train batch Perplexity: 223.5614...\n",
      "Epoch: 2/40... Step: 2100... Loss: 5.3045... Last train batch Perplexity: 201.2410...\n",
      "Epoch: 2/40... Step: 2400... Loss: 5.1741... Last train batch Perplexity: 176.6441...\n"
     ]
    },
    {
     "output_type": "stream",
     "name": "stderr",
     "text": [
      "  5%|▌         | 2/40 [00:26<08:26, 13.34s/it]"
     ]
    },
    {
     "output_type": "stream",
     "name": "stdout",
     "text": [
      "Epoch: 02, Train Loss: 5.274, Valid Loss: 5.358, Train Perplexity: 198.780, Valid Perplexity: 215.651\n",
      "Epoch: 3/40... Step: 2700... Loss: 5.3369... Last train batch Perplexity: 207.8578...\n",
      "Epoch: 3/40... Step: 3000... Loss: 5.5062... Last train batch Perplexity: 246.2234...\n",
      "Epoch: 3/40... Step: 3300... Loss: 5.3533... Last train batch Perplexity: 211.3106...\n",
      "Epoch: 3/40... Step: 3600... Loss: 5.3003... Last train batch Perplexity: 200.3891...\n",
      "Epoch: 3/40... Step: 3900... Loss: 5.4262... Last train batch Perplexity: 227.2791...\n"
     ]
    },
    {
     "output_type": "stream",
     "name": "stderr",
     "text": [
      "  8%|▊         | 3/40 [00:39<08:12, 13.31s/it]"
     ]
    },
    {
     "output_type": "stream",
     "name": "stdout",
     "text": [
      "Epoch: 03, Train Loss: 5.119, Valid Loss: 5.246, Train Perplexity: 170.448, Valid Perplexity: 192.872\n",
      "Epoch: 4/40... Step: 4200... Loss: 5.1300... Last train batch Perplexity: 169.0121...\n",
      "Epoch: 4/40... Step: 4500... Loss: 5.1606... Last train batch Perplexity: 174.2762...\n",
      "Epoch: 4/40... Step: 4800... Loss: 5.0782... Last train batch Perplexity: 160.4847...\n",
      "Epoch: 4/40... Step: 5100... Loss: 5.3771... Last train batch Perplexity: 216.3974...\n"
     ]
    },
    {
     "output_type": "stream",
     "name": "stderr",
     "text": [
      " 10%|█         | 4/40 [00:53<07:57, 13.27s/it]"
     ]
    },
    {
     "output_type": "stream",
     "name": "stdout",
     "text": [
      "Epoch: 04, Train Loss: 4.998, Valid Loss: 5.161, Train Perplexity: 151.175, Valid Perplexity: 177.337\n",
      "Epoch: 5/40... Step: 5400... Loss: 4.9637... Last train batch Perplexity: 143.1236...\n",
      "Epoch: 5/40... Step: 5700... Loss: 5.2028... Last train batch Perplexity: 181.7895...\n",
      "Epoch: 5/40... Step: 6000... Loss: 4.9236... Last train batch Perplexity: 137.4991...\n",
      "Epoch: 5/40... Step: 6300... Loss: 4.7877... Last train batch Perplexity: 120.0192...\n",
      "Epoch: 5/40... Step: 6600... Loss: 5.2334... Last train batch Perplexity: 187.4239...\n"
     ]
    },
    {
     "output_type": "stream",
     "name": "stderr",
     "text": [
      " 12%|█▎        | 5/40 [01:06<07:42, 13.22s/it]"
     ]
    },
    {
     "output_type": "stream",
     "name": "stdout",
     "text": [
      "Epoch: 05, Train Loss: 4.905, Valid Loss: 5.097, Train Perplexity: 137.759, Valid Perplexity: 166.326\n",
      "Epoch: 6/40... Step: 6900... Loss: 5.2300... Last train batch Perplexity: 186.7943...\n",
      "Epoch: 6/40... Step: 7200... Loss: 4.6480... Last train batch Perplexity: 104.3754...\n",
      "Epoch: 6/40... Step: 7500... Loss: 5.3357... Last train batch Perplexity: 207.6202...\n",
      "Epoch: 6/40... Step: 7800... Loss: 4.9791... Last train batch Perplexity: 145.3419...\n"
     ]
    },
    {
     "output_type": "stream",
     "name": "stderr",
     "text": [
      " 15%|█▌        | 6/40 [01:19<07:28, 13.18s/it]"
     ]
    },
    {
     "output_type": "stream",
     "name": "stdout",
     "text": [
      "Epoch: 06, Train Loss: 4.835, Valid Loss: 5.057, Train Perplexity: 128.563, Valid Perplexity: 159.891\n",
      "Epoch: 7/40... Step: 8100... Loss: 5.0932... Last train batch Perplexity: 162.9152...\n",
      "Epoch: 7/40... Step: 8400... Loss: 4.9575... Last train batch Perplexity: 142.2423...\n",
      "Epoch: 7/40... Step: 8700... Loss: 4.7759... Last train batch Perplexity: 118.6179...\n",
      "Epoch: 7/40... Step: 9000... Loss: 4.8127... Last train batch Perplexity: 123.0666...\n"
     ]
    },
    {
     "output_type": "stream",
     "name": "stderr",
     "text": [
      " 18%|█▊        | 7/40 [01:32<07:12, 13.12s/it]"
     ]
    },
    {
     "output_type": "stream",
     "name": "stdout",
     "text": [
      "Epoch: 07, Train Loss: 4.777, Valid Loss: 5.025, Train Perplexity: 121.363, Valid Perplexity: 155.005\n",
      "Epoch: 8/40... Step: 9300... Loss: 5.0827... Last train batch Perplexity: 161.2058...\n",
      "Epoch: 8/40... Step: 9600... Loss: 4.7067... Last train batch Perplexity: 110.6829...\n",
      "Epoch: 8/40... Step: 9900... Loss: 5.0618... Last train batch Perplexity: 157.8692...\n",
      "Epoch: 8/40... Step: 10200... Loss: 5.1988... Last train batch Perplexity: 181.0543...\n",
      "Epoch: 8/40... Step: 10500... Loss: 4.7077... Last train batch Perplexity: 110.7983...\n"
     ]
    },
    {
     "output_type": "stream",
     "name": "stderr",
     "text": [
      " 20%|██        | 8/40 [01:45<06:58, 13.08s/it]"
     ]
    },
    {
     "output_type": "stream",
     "name": "stdout",
     "text": [
      "Epoch: 08, Train Loss: 4.723, Valid Loss: 4.998, Train Perplexity: 114.977, Valid Perplexity: 150.825\n",
      "Epoch: 9/40... Step: 10800... Loss: 5.0348... Last train batch Perplexity: 153.6741...\n",
      "Epoch: 9/40... Step: 11100... Loss: 4.7189... Last train batch Perplexity: 112.0494...\n",
      "Epoch: 9/40... Step: 11400... Loss: 4.9688... Last train batch Perplexity: 143.8558...\n",
      "Epoch: 9/40... Step: 11700... Loss: 4.5625... Last train batch Perplexity: 95.8198...\n"
     ]
    },
    {
     "output_type": "stream",
     "name": "stderr",
     "text": [
      " 22%|██▎       | 9/40 [01:58<06:44, 13.06s/it]"
     ]
    },
    {
     "output_type": "stream",
     "name": "stdout",
     "text": [
      "Epoch: 09, Train Loss: 4.675, Valid Loss: 4.972, Train Perplexity: 109.564, Valid Perplexity: 147.118\n",
      "Epoch: 10/40... Step: 12000... Loss: 4.7917... Last train batch Perplexity: 120.5097...\n",
      "Epoch: 10/40... Step: 12300... Loss: 4.7364... Last train batch Perplexity: 114.0193...\n",
      "Epoch: 10/40... Step: 12600... Loss: 5.0748... Last train batch Perplexity: 159.9460...\n",
      "Epoch: 10/40... Step: 12900... Loss: 5.2451... Last train batch Perplexity: 189.6438...\n",
      "Epoch: 10/40... Step: 13200... Loss: 4.7420... Last train batch Perplexity: 114.6626...\n"
     ]
    },
    {
     "output_type": "stream",
     "name": "stderr",
     "text": [
      " 25%|██▌       | 10/40 [02:11<06:30, 13.03s/it]"
     ]
    },
    {
     "output_type": "stream",
     "name": "stdout",
     "text": [
      "Epoch: 10, Train Loss: 4.634, Valid Loss: 4.956, Train Perplexity: 105.228, Valid Perplexity: 144.709\n",
      "Epoch: 11/40... Step: 13500... Loss: 5.0580... Last train batch Perplexity: 157.2760...\n",
      "Epoch: 11/40... Step: 13800... Loss: 4.8734... Last train batch Perplexity: 130.7693...\n",
      "Epoch: 11/40... Step: 14100... Loss: 4.5559... Last train batch Perplexity: 95.1893...\n",
      "Epoch: 11/40... Step: 14400... Loss: 4.6045... Last train batch Perplexity: 99.9300...\n"
     ]
    },
    {
     "output_type": "stream",
     "name": "stderr",
     "text": [
      " 28%|██▊       | 11/40 [02:24<06:17, 13.03s/it]"
     ]
    },
    {
     "output_type": "stream",
     "name": "stdout",
     "text": [
      "Epoch: 11, Train Loss: 4.598, Valid Loss: 4.943, Train Perplexity: 101.526, Valid Perplexity: 142.920\n",
      "Epoch: 12/40... Step: 14700... Loss: 4.6513... Last train batch Perplexity: 104.7221...\n",
      "Epoch: 12/40... Step: 15000... Loss: 4.5040... Last train batch Perplexity: 90.3752...\n",
      "Epoch: 12/40... Step: 15300... Loss: 4.9796... Last train batch Perplexity: 145.4198...\n",
      "Epoch: 12/40... Step: 15600... Loss: 5.0764... Last train batch Perplexity: 160.1970...\n",
      "Epoch: 12/40... Step: 15900... Loss: 4.9523... Last train batch Perplexity: 141.4956...\n"
     ]
    },
    {
     "output_type": "stream",
     "name": "stderr",
     "text": [
      " 30%|███       | 12/40 [02:37<06:04, 13.02s/it]"
     ]
    },
    {
     "output_type": "stream",
     "name": "stdout",
     "text": [
      "Epoch: 12, Train Loss: 4.564, Valid Loss: 4.926, Train Perplexity: 98.108, Valid Perplexity: 140.541\n",
      "Epoch: 13/40... Step: 16200... Loss: 4.7983... Last train batch Perplexity: 121.3074...\n",
      "Epoch: 13/40... Step: 16500... Loss: 4.7398... Last train batch Perplexity: 114.4161...\n",
      "Epoch: 13/40... Step: 16800... Loss: 4.6755... Last train batch Perplexity: 107.2888...\n",
      "Epoch: 13/40... Step: 17100... Loss: 4.9145... Last train batch Perplexity: 136.2529...\n"
     ]
    },
    {
     "output_type": "stream",
     "name": "stderr",
     "text": [
      " 32%|███▎      | 13/40 [02:50<05:51, 13.01s/it]"
     ]
    },
    {
     "output_type": "stream",
     "name": "stdout",
     "text": [
      "Epoch: 13, Train Loss: 4.536, Valid Loss: 4.916, Train Perplexity: 95.396, Valid Perplexity: 139.111\n",
      "Epoch: 14/40... Step: 17400... Loss: 4.9812... Last train batch Perplexity: 145.6530...\n",
      "Epoch: 14/40... Step: 17700... Loss: 5.0216... Last train batch Perplexity: 151.6466...\n",
      "Epoch: 14/40... Step: 18000... Loss: 4.6598... Last train batch Perplexity: 105.6133...\n",
      "Epoch: 14/40... Step: 18300... Loss: 4.6325... Last train batch Perplexity: 102.7679...\n"
     ]
    },
    {
     "output_type": "stream",
     "name": "stderr",
     "text": [
      " 35%|███▌      | 14/40 [03:03<05:37, 13.00s/it]"
     ]
    },
    {
     "output_type": "stream",
     "name": "stdout",
     "text": [
      "Epoch: 14, Train Loss: 4.508, Valid Loss: 4.909, Train Perplexity: 92.816, Valid Perplexity: 138.295\n",
      "Epoch: 15/40... Step: 18600... Loss: 4.8846... Last train batch Perplexity: 132.2400...\n",
      "Epoch: 15/40... Step: 18900... Loss: 4.6457... Last train batch Perplexity: 104.1316...\n",
      "Epoch: 15/40... Step: 19200... Loss: 4.6671... Last train batch Perplexity: 106.3861...\n",
      "Epoch: 15/40... Step: 19500... Loss: 4.6038... Last train batch Perplexity: 99.8621...\n",
      "Epoch: 15/40... Step: 19800... Loss: 4.4414... Last train batch Perplexity: 84.8932...\n"
     ]
    },
    {
     "output_type": "stream",
     "name": "stderr",
     "text": [
      " 38%|███▊      | 15/40 [03:16<05:25, 13.00s/it]"
     ]
    },
    {
     "output_type": "stream",
     "name": "stdout",
     "text": [
      "Epoch: 15, Train Loss: 4.484, Valid Loss: 4.903, Train Perplexity: 90.616, Valid Perplexity: 137.488\n",
      "Epoch: 16/40... Step: 20100... Loss: 4.9654... Last train batch Perplexity: 143.3643...\n",
      "Epoch: 16/40... Step: 20400... Loss: 5.0601... Last train batch Perplexity: 157.6079...\n",
      "Epoch: 16/40... Step: 20700... Loss: 4.7833... Last train batch Perplexity: 119.5015...\n",
      "Epoch: 16/40... Step: 21000... Loss: 4.4375... Last train batch Perplexity: 84.5625...\n"
     ]
    },
    {
     "output_type": "stream",
     "name": "stderr",
     "text": [
      " 40%|████      | 16/40 [03:29<05:11, 13.00s/it]"
     ]
    },
    {
     "output_type": "stream",
     "name": "stdout",
     "text": [
      "Epoch: 16, Train Loss: 4.460, Valid Loss: 4.896, Train Perplexity: 88.439, Valid Perplexity: 136.466\n",
      "Epoch: 17/40... Step: 21300... Loss: 4.7396... Last train batch Perplexity: 114.3853...\n",
      "Epoch: 17/40... Step: 21600... Loss: 4.3556... Last train batch Perplexity: 77.9156...\n",
      "Epoch: 17/40... Step: 21900... Loss: 4.1985... Last train batch Perplexity: 66.5881...\n",
      "Epoch: 17/40... Step: 22200... Loss: 4.9327... Last train batch Perplexity: 138.7494...\n",
      "Epoch: 17/40... Step: 22500... Loss: 4.3094... Last train batch Perplexity: 74.3967...\n"
     ]
    },
    {
     "output_type": "stream",
     "name": "stderr",
     "text": [
      " 42%|████▎     | 17/40 [03:42<04:58, 12.99s/it]"
     ]
    },
    {
     "output_type": "stream",
     "name": "stdout",
     "text": [
      "Epoch: 17, Train Loss: 4.440, Valid Loss: 4.891, Train Perplexity: 86.724, Valid Perplexity: 135.847\n",
      "Epoch: 18/40... Step: 22800... Loss: 4.6242... Last train batch Perplexity: 101.9202...\n",
      "Epoch: 18/40... Step: 23100... Loss: 5.0197... Last train batch Perplexity: 151.3712...\n",
      "Epoch: 18/40... Step: 23400... Loss: 4.8571... Last train batch Perplexity: 128.6534...\n",
      "Epoch: 18/40... Step: 23700... Loss: 4.9278... Last train batch Perplexity: 138.0690...\n"
     ]
    },
    {
     "output_type": "stream",
     "name": "stderr",
     "text": [
      " 45%|████▌     | 18/40 [03:55<04:45, 12.99s/it]"
     ]
    },
    {
     "output_type": "stream",
     "name": "stdout",
     "text": [
      "Epoch: 18, Train Loss: 4.419, Valid Loss: 4.885, Train Perplexity: 84.874, Valid Perplexity: 134.971\n",
      "Epoch: 19/40... Step: 24000... Loss: 4.5870... Last train batch Perplexity: 98.1957...\n",
      "Epoch: 19/40... Step: 24300... Loss: 4.7349... Last train batch Perplexity: 113.8548...\n",
      "Epoch: 19/40... Step: 24600... Loss: 4.6870... Last train batch Perplexity: 108.5283...\n",
      "Epoch: 19/40... Step: 24900... Loss: 4.9406... Last train batch Perplexity: 139.8535...\n",
      "Epoch: 19/40... Step: 25200... Loss: 4.9006... Last train batch Perplexity: 134.3738...\n"
     ]
    },
    {
     "output_type": "stream",
     "name": "stderr",
     "text": [
      " 48%|████▊     | 19/40 [04:08<04:32, 13.00s/it]"
     ]
    },
    {
     "output_type": "stream",
     "name": "stdout",
     "text": [
      "Epoch: 19, Train Loss: 4.397, Valid Loss: 4.879, Train Perplexity: 83.085, Valid Perplexity: 134.260\n",
      "Epoch: 20/40... Step: 25500... Loss: 4.5564... Last train batch Perplexity: 95.2368...\n",
      "Epoch: 20/40... Step: 25800... Loss: 4.8305... Last train batch Perplexity: 125.2695...\n",
      "Epoch: 20/40... Step: 26100... Loss: 4.6318... Last train batch Perplexity: 102.6981...\n",
      "Epoch: 20/40... Step: 26400... Loss: 4.5409... Last train batch Perplexity: 93.7758...\n"
     ]
    },
    {
     "output_type": "stream",
     "name": "stderr",
     "text": [
      " 50%|█████     | 20/40 [04:21<04:19, 12.99s/it]"
     ]
    },
    {
     "output_type": "stream",
     "name": "stdout",
     "text": [
      "Epoch: 20, Train Loss: 4.381, Valid Loss: 4.877, Train Perplexity: 81.747, Valid Perplexity: 134.041\n",
      "Epoch: 21/40... Step: 26700... Loss: 4.7968... Last train batch Perplexity: 121.1189...\n",
      "Epoch: 21/40... Step: 27000... Loss: 4.4908... Last train batch Perplexity: 89.1892...\n",
      "Epoch: 21/40... Step: 27300... Loss: 3.8180... Last train batch Perplexity: 45.5151...\n",
      "Epoch: 21/40... Step: 27600... Loss: 4.4508... Last train batch Perplexity: 85.6918...\n"
     ]
    },
    {
     "output_type": "stream",
     "name": "stderr",
     "text": [
      " 52%|█████▎    | 21/40 [04:34<04:06, 12.99s/it]"
     ]
    },
    {
     "output_type": "stream",
     "name": "stdout",
     "text": [
      "Epoch: 21, Train Loss: 4.363, Valid Loss: 4.874, Train Perplexity: 80.265, Valid Perplexity: 133.755\n",
      "Epoch: 22/40... Step: 27900... Loss: 4.5331... Last train batch Perplexity: 93.0441...\n",
      "Epoch: 22/40... Step: 28200... Loss: 4.6013... Last train batch Perplexity: 99.6119...\n",
      "Epoch: 22/40... Step: 28500... Loss: 4.7406... Last train batch Perplexity: 114.5041...\n",
      "Epoch: 22/40... Step: 28800... Loss: 4.9231... Last train batch Perplexity: 137.4296...\n",
      "Epoch: 22/40... Step: 29100... Loss: 4.6240... Last train batch Perplexity: 101.9051...\n"
     ]
    },
    {
     "output_type": "stream",
     "name": "stderr",
     "text": [
      " 55%|█████▌    | 22/40 [04:47<03:53, 12.99s/it]"
     ]
    },
    {
     "output_type": "stream",
     "name": "stdout",
     "text": [
      "Epoch: 22, Train Loss: 4.345, Valid Loss: 4.870, Train Perplexity: 78.849, Valid Perplexity: 133.172\n",
      "Epoch: 23/40... Step: 29400... Loss: 4.7330... Last train batch Perplexity: 113.6370...\n",
      "Epoch: 23/40... Step: 29700... Loss: 4.8753... Last train batch Perplexity: 131.0098...\n",
      "Epoch: 23/40... Step: 30000... Loss: 4.5803... Last train batch Perplexity: 97.5449...\n",
      "Epoch: 23/40... Step: 30300... Loss: 4.7813... Last train batch Perplexity: 119.2592...\n"
     ]
    },
    {
     "output_type": "stream",
     "name": "stderr",
     "text": [
      " 57%|█████▊    | 23/40 [05:00<03:40, 12.99s/it]"
     ]
    },
    {
     "output_type": "stream",
     "name": "stdout",
     "text": [
      "Epoch: 23, Train Loss: 4.330, Valid Loss: 4.869, Train Perplexity: 77.698, Valid Perplexity: 132.947\n",
      "Epoch: 24/40... Step: 30600... Loss: 4.3959... Last train batch Perplexity: 81.1195...\n",
      "Epoch: 24/40... Step: 30900... Loss: 4.4752... Last train batch Perplexity: 87.8153...\n",
      "Epoch: 24/40... Step: 31200... Loss: 4.6030... Last train batch Perplexity: 99.7787...\n",
      "Epoch: 24/40... Step: 31500... Loss: 4.8202... Last train batch Perplexity: 123.9876...\n",
      "Epoch: 24/40... Step: 31800... Loss: 4.4824... Last train batch Perplexity: 88.4472...\n"
     ]
    },
    {
     "output_type": "stream",
     "name": "stderr",
     "text": [
      " 60%|██████    | 24/40 [05:13<03:27, 12.99s/it]"
     ]
    },
    {
     "output_type": "stream",
     "name": "stdout",
     "text": [
      "Epoch: 24, Train Loss: 4.317, Valid Loss: 4.868, Train Perplexity: 76.642, Valid Perplexity: 132.825\n",
      "Epoch: 25/40... Step: 32100... Loss: 4.5263... Last train batch Perplexity: 92.4198...\n",
      "Epoch: 25/40... Step: 32400... Loss: 4.9379... Last train batch Perplexity: 139.4723...\n",
      "Epoch: 25/40... Step: 32700... Loss: 4.4039... Last train batch Perplexity: 81.7658...\n",
      "Epoch: 25/40... Step: 33000... Loss: 4.3722... Last train batch Perplexity: 79.2163...\n"
     ]
    },
    {
     "output_type": "stream",
     "name": "stderr",
     "text": [
      " 62%|██████▎   | 25/40 [05:26<03:14, 12.99s/it]"
     ]
    },
    {
     "output_type": "stream",
     "name": "stdout",
     "text": [
      "Epoch: 25, Train Loss: 4.301, Valid Loss: 4.863, Train Perplexity: 75.436, Valid Perplexity: 132.316\n",
      "Epoch: 26/40... Step: 33300... Loss: 4.3710... Last train batch Perplexity: 79.1203...\n",
      "Epoch: 26/40... Step: 33600... Loss: 4.7182... Last train batch Perplexity: 111.9682...\n",
      "Epoch: 26/40... Step: 33900... Loss: 4.3717... Last train batch Perplexity: 79.1745...\n",
      "Epoch: 26/40... Step: 34200... Loss: 4.3261... Last train batch Perplexity: 75.6456...\n",
      "Epoch: 26/40... Step: 34500... Loss: 4.9198... Last train batch Perplexity: 136.9758...\n"
     ]
    },
    {
     "output_type": "stream",
     "name": "stderr",
     "text": [
      " 65%|██████▌   | 26/40 [05:39<03:01, 12.97s/it]"
     ]
    },
    {
     "output_type": "stream",
     "name": "stdout",
     "text": [
      "Epoch: 26, Train Loss: 4.292, Valid Loss: 4.869, Train Perplexity: 74.734, Valid Perplexity: 133.106\n",
      "Epoch: 27/40... Step: 34800... Loss: 4.3007... Last train batch Perplexity: 73.7526...\n",
      "Epoch: 27/40... Step: 35100... Loss: 4.8216... Last train batch Perplexity: 124.1674...\n",
      "Epoch: 27/40... Step: 35400... Loss: 4.6127... Last train batch Perplexity: 100.7548...\n",
      "Epoch: 27/40... Step: 35700... Loss: 4.1509... Last train batch Perplexity: 63.4907...\n"
     ]
    },
    {
     "output_type": "stream",
     "name": "stderr",
     "text": [
      " 68%|██████▊   | 27/40 [05:52<02:48, 12.96s/it]"
     ]
    },
    {
     "output_type": "stream",
     "name": "stdout",
     "text": [
      "Epoch: 27, Train Loss: 4.279, Valid Loss: 4.868, Train Perplexity: 73.800, Valid Perplexity: 132.988\n",
      "Epoch: 28/40... Step: 36000... Loss: 4.7643... Last train batch Perplexity: 117.2540...\n",
      "Epoch: 28/40... Step: 36300... Loss: 4.6797... Last train batch Perplexity: 107.7356...\n",
      "Epoch: 28/40... Step: 36600... Loss: 4.2992... Last train batch Perplexity: 73.6415...\n",
      "Epoch: 28/40... Step: 36900... Loss: 4.0535... Last train batch Perplexity: 57.6001...\n"
     ]
    },
    {
     "output_type": "stream",
     "name": "stderr",
     "text": [
      " 70%|███████   | 28/40 [06:05<02:35, 12.96s/it]"
     ]
    },
    {
     "output_type": "stream",
     "name": "stdout",
     "text": [
      "Epoch: 28, Train Loss: 4.263, Valid Loss: 4.863, Train Perplexity: 72.658, Valid Perplexity: 132.382\n",
      "Epoch: 29/40... Step: 37200... Loss: 4.6371... Last train batch Perplexity: 103.2450...\n",
      "Epoch: 29/40... Step: 37500... Loss: 4.7276... Last train batch Perplexity: 113.0257...\n",
      "Epoch: 29/40... Step: 37800... Loss: 4.2851... Last train batch Perplexity: 72.6072...\n",
      "Epoch: 29/40... Step: 38100... Loss: 4.7787... Last train batch Perplexity: 118.9440...\n",
      "Epoch: 29/40... Step: 38400... Loss: 4.5518... Last train batch Perplexity: 94.8071...\n"
     ]
    },
    {
     "output_type": "stream",
     "name": "stderr",
     "text": [
      " 72%|███████▎  | 29/40 [06:18<02:22, 12.98s/it]"
     ]
    },
    {
     "output_type": "stream",
     "name": "stdout",
     "text": [
      "Epoch: 29, Train Loss: 4.252, Valid Loss: 4.862, Train Perplexity: 71.838, Valid Perplexity: 132.302\n",
      "Epoch: 30/40... Step: 38700... Loss: 4.4941... Last train batch Perplexity: 89.4870...\n",
      "Epoch: 30/40... Step: 39000... Loss: 4.5239... Last train batch Perplexity: 92.1976...\n",
      "Epoch: 30/40... Step: 39300... Loss: 4.5686... Last train batch Perplexity: 96.4077...\n",
      "Epoch: 30/40... Step: 39600... Loss: 4.5552... Last train batch Perplexity: 95.1286...\n"
     ]
    },
    {
     "output_type": "stream",
     "name": "stderr",
     "text": [
      " 75%|███████▌  | 30/40 [06:31<02:09, 12.97s/it]"
     ]
    },
    {
     "output_type": "stream",
     "name": "stdout",
     "text": [
      "Epoch: 30, Train Loss: 4.243, Valid Loss: 4.865, Train Perplexity: 71.174, Valid Perplexity: 132.562\n",
      "Epoch: 31/40... Step: 39900... Loss: 4.2308... Last train batch Perplexity: 68.7708...\n",
      "Epoch: 31/40... Step: 40200... Loss: 4.6583... Last train batch Perplexity: 105.4532...\n",
      "Epoch: 31/40... Step: 40500... Loss: 4.6397... Last train batch Perplexity: 103.5158...\n",
      "Epoch: 31/40... Step: 40800... Loss: 4.7207... Last train batch Perplexity: 112.2474...\n",
      "Epoch: 31/40... Step: 41100... Loss: 4.5774... Last train batch Perplexity: 97.2589...\n"
     ]
    },
    {
     "output_type": "stream",
     "name": "stderr",
     "text": [
      " 78%|███████▊  | 31/40 [06:44<01:56, 12.98s/it]"
     ]
    },
    {
     "output_type": "stream",
     "name": "stdout",
     "text": [
      "Epoch: 31, Train Loss: 4.231, Valid Loss: 4.863, Train Perplexity: 70.336, Valid Perplexity: 132.449\n",
      "Epoch: 32/40... Step: 41400... Loss: 4.6845... Last train batch Perplexity: 108.2546...\n",
      "Epoch: 32/40... Step: 41700... Loss: 4.5410... Last train batch Perplexity: 93.7846...\n",
      "Epoch: 32/40... Step: 42000... Loss: 4.6422... Last train batch Perplexity: 103.7715...\n",
      "Epoch: 32/40... Step: 42300... Loss: 4.5218... Last train batch Perplexity: 91.9966...\n"
     ]
    },
    {
     "output_type": "stream",
     "name": "stderr",
     "text": [
      " 80%|████████  | 32/40 [06:57<01:44, 13.01s/it]"
     ]
    },
    {
     "output_type": "stream",
     "name": "stdout",
     "text": [
      "Epoch: 32, Train Loss: 4.224, Valid Loss: 4.867, Train Perplexity: 69.802, Valid Perplexity: 132.954\n",
      "Epoch: 33/40... Step: 42600... Loss: 4.6377... Last train batch Perplexity: 103.3053...\n",
      "Epoch: 33/40... Step: 42900... Loss: 4.5402... Last train batch Perplexity: 93.7052...\n",
      "Epoch: 33/40... Step: 43200... Loss: 4.3513... Last train batch Perplexity: 77.5830...\n",
      "Epoch: 33/40... Step: 43500... Loss: 3.9200... Last train batch Perplexity: 50.4000...\n"
     ]
    },
    {
     "output_type": "stream",
     "name": "stderr",
     "text": [
      " 82%|████████▎ | 33/40 [07:10<01:31, 13.02s/it]"
     ]
    },
    {
     "output_type": "stream",
     "name": "stdout",
     "text": [
      "Epoch: 33, Train Loss: 4.212, Valid Loss: 4.868, Train Perplexity: 68.978, Valid Perplexity: 133.006\n",
      "Epoch: 34/40... Step: 43800... Loss: 4.6519... Last train batch Perplexity: 104.7883...\n",
      "Epoch: 34/40... Step: 44100... Loss: 4.1506... Last train batch Perplexity: 63.4689...\n",
      "Epoch: 34/40... Step: 44400... Loss: 4.4994... Last train batch Perplexity: 89.9591...\n",
      "Epoch: 34/40... Step: 44700... Loss: 4.3403... Last train batch Perplexity: 76.7275...\n",
      "Epoch: 34/40... Step: 45000... Loss: 3.9597... Last train batch Perplexity: 52.4418...\n"
     ]
    },
    {
     "output_type": "stream",
     "name": "stderr",
     "text": [
      " 85%|████████▌ | 34/40 [07:23<01:18, 13.06s/it]"
     ]
    },
    {
     "output_type": "stream",
     "name": "stdout",
     "text": [
      "Epoch: 34, Train Loss: 4.202, Valid Loss: 4.867, Train Perplexity: 68.264, Valid Perplexity: 132.964\n",
      "Epoch: 35/40... Step: 45300... Loss: 4.6490... Last train batch Perplexity: 104.4761...\n",
      "Epoch: 35/40... Step: 45600... Loss: 4.1576... Last train batch Perplexity: 63.9195...\n",
      "Epoch: 35/40... Step: 45900... Loss: 4.4160... Last train batch Perplexity: 82.7673...\n",
      "Epoch: 35/40... Step: 46200... Loss: 4.2078... Last train batch Perplexity: 67.2095...\n"
     ]
    },
    {
     "output_type": "stream",
     "name": "stderr",
     "text": [
      " 88%|████████▊ | 35/40 [07:36<01:05, 13.11s/it]"
     ]
    },
    {
     "output_type": "stream",
     "name": "stdout",
     "text": [
      "Epoch: 35, Train Loss: 4.194, Valid Loss: 4.869, Train Perplexity: 67.785, Valid Perplexity: 133.242\n",
      "Epoch: 36/40... Step: 46500... Loss: 4.5230... Last train batch Perplexity: 92.1117...\n",
      "Epoch: 36/40... Step: 46800... Loss: 4.5592... Last train batch Perplexity: 95.5074...\n",
      "Epoch: 36/40... Step: 47100... Loss: 4.5098... Last train batch Perplexity: 90.9002...\n",
      "Epoch: 36/40... Step: 47400... Loss: 4.5792... Last train batch Perplexity: 97.4361...\n",
      "Epoch: 36/40... Step: 47700... Loss: 4.4230... Last train batch Perplexity: 83.3457...\n"
     ]
    },
    {
     "output_type": "stream",
     "name": "stderr",
     "text": [
      " 90%|█████████ | 36/40 [07:49<00:52, 13.17s/it]"
     ]
    },
    {
     "output_type": "stream",
     "name": "stdout",
     "text": [
      "Epoch: 36, Train Loss: 4.184, Valid Loss: 4.865, Train Perplexity: 67.065, Valid Perplexity: 132.658\n",
      "Epoch: 37/40... Step: 48000... Loss: 4.5836... Last train batch Perplexity: 97.8614...\n",
      "Epoch: 37/40... Step: 48300... Loss: 4.4062... Last train batch Perplexity: 81.9610...\n",
      "Epoch: 37/40... Step: 48600... Loss: 4.2195... Last train batch Perplexity: 67.9996...\n",
      "Epoch: 37/40... Step: 48900... Loss: 4.5516... Last train batch Perplexity: 94.7870...\n"
     ]
    },
    {
     "output_type": "stream",
     "name": "stderr",
     "text": [
      " 92%|█████████▎| 37/40 [08:03<00:39, 13.19s/it]"
     ]
    },
    {
     "output_type": "stream",
     "name": "stdout",
     "text": [
      "Epoch: 37, Train Loss: 4.178, Valid Loss: 4.866, Train Perplexity: 66.652, Valid Perplexity: 132.807\n",
      "Epoch: 38/40... Step: 49200... Loss: 4.1233... Last train batch Perplexity: 61.7650...\n",
      "Epoch: 38/40... Step: 49500... Loss: 4.4542... Last train batch Perplexity: 85.9916...\n",
      "Epoch: 38/40... Step: 49800... Loss: 4.5637... Last train batch Perplexity: 95.9389...\n",
      "Epoch: 38/40... Step: 50100... Loss: 4.5112... Last train batch Perplexity: 91.0297...\n",
      "Epoch: 38/40... Step: 50400... Loss: 4.6516... Last train batch Perplexity: 104.7530...\n"
     ]
    },
    {
     "output_type": "stream",
     "name": "stderr",
     "text": [
      " 95%|█████████▌| 38/40 [08:16<00:26, 13.20s/it]"
     ]
    },
    {
     "output_type": "stream",
     "name": "stdout",
     "text": [
      "Epoch: 38, Train Loss: 4.169, Valid Loss: 4.867, Train Perplexity: 66.094, Valid Perplexity: 133.010\n",
      "Epoch: 39/40... Step: 50700... Loss: 4.7696... Last train batch Perplexity: 117.8707...\n",
      "Epoch: 39/40... Step: 51000... Loss: 4.0865... Last train batch Perplexity: 59.5304...\n",
      "Epoch: 39/40... Step: 51300... Loss: 4.3493... Last train batch Perplexity: 77.4243...\n",
      "Epoch: 39/40... Step: 51600... Loss: 4.4018... Last train batch Perplexity: 81.5941...\n"
     ]
    },
    {
     "output_type": "stream",
     "name": "stderr",
     "text": [
      " 98%|█████████▊| 39/40 [08:29<00:13, 13.20s/it]"
     ]
    },
    {
     "output_type": "stream",
     "name": "stdout",
     "text": [
      "Epoch: 39, Train Loss: 4.160, Valid Loss: 4.865, Train Perplexity: 65.450, Valid Perplexity: 132.815\n",
      "Epoch: 40/40... Step: 51900... Loss: 4.5716... Last train batch Perplexity: 96.7004...\n",
      "Epoch: 40/40... Step: 52200... Loss: 4.2038... Last train batch Perplexity: 66.9398...\n",
      "Epoch: 40/40... Step: 52500... Loss: 4.1099... Last train batch Perplexity: 60.9430...\n",
      "Epoch: 40/40... Step: 52800... Loss: 4.2236... Last train batch Perplexity: 68.2791...\n"
     ]
    },
    {
     "output_type": "stream",
     "name": "stderr",
     "text": [
      "100%|██████████| 40/40 [08:42<00:00, 13.07s/it]"
     ]
    },
    {
     "output_type": "stream",
     "name": "stdout",
     "text": [
      "Epoch: 40, Train Loss: 4.151, Valid Loss: 4.866, Train Perplexity: 64.922, Valid Perplexity: 132.872\n"
     ]
    },
    {
     "output_type": "stream",
     "name": "stderr",
     "text": [
      "\n"
     ]
    }
   ]
  },
  {
   "cell_type": "code",
   "source": [
    "# Similarly, for perplexity:\n",
    "import matplotlib.pyplot as plt\n",
    "plt.figure(figsize=(10, 6))\n",
    "plt.plot(Gru_dropout[2], label='Training Perplexity (with dropout)', marker='o')\n",
    "plt.plot(Gru_dropout[3], label='Validation Perplexity (with dropout)', marker='o')\n",
    "plt.plot(Gru_no_dropout[2], label='Training Perplexity (no dropout)', marker='x')\n",
    "plt.plot(Gru_no_dropout[3], label='Validation Perplexity (no dropout)', marker='x')\n",
    "plt.xlabel('Epoch')\n",
    "plt.ylabel('Perplexity')\n",
    "plt.title('GRU: Training and Validation Perplexity with and without Dropout')\n",
    "plt.legend()\n",
    "plt.grid()\n",
    "plt.show()"
   ],
   "metadata": {
    "colab": {
     "base_uri": "https://localhost:8080/",
     "height": 564
    },
    "id": "tYCR6QAwKj2L",
    "outputId": "ac681b03-5b9e-47c6-994a-2474451232d4"
   },
   "execution_count": null,
   "outputs": [
    {
     "output_type": "display_data",
     "data": {
      "text/plain": [
       "<Figure size 1000x600 with 1 Axes>"
      ],
      "image/png": "[encoded data removed]"
     },
     "metadata": {}
    }
   ]
  },
  {
   "cell_type": "code",
   "source": [],
   "metadata": {
    "id": "UQvfDFXjysF3"
   },
   "execution_count": null,
   "outputs": []
  },
  {
   "cell_type": "code",
   "source": [
    "from google.colab import drive\n",
    "drive.mount('/content/drive')"
   ],
   "metadata": {
    "colab": {
     "base_uri": "https://localhost:8080/"
    },
    "id": "EkJs8b2nyyCn",
    "outputId": "12cd58ba-2bc7-4388-e82a-36ed0ae28a89"
   },
   "execution_count": null,
   "outputs": [
    {
     "output_type": "stream",
     "name": "stdout",
     "text": [
      "Mounted at /content/drive\n"
     ]
    }
   ]
  },
  {
   "cell_type": "code",
   "source": [
    "# prompt: save lists to drive\n",
    "\n",
    "import pickle\n",
    "\n",
    "# Assuming 'encoded_train', 'train_labels', 'encoded_valid', 'valid_labels', 'word2int' are defined in your existing code.\n",
    "\n",
    "# Create a dictionary to store the lists\n",
    "data_to_save = {\n",
    "    'lstm_train_losses_dropout': per_epoch_train_losses,\n",
    "    'lstm_valid_losses_dropout': per_epoch_valid_losses,\n",
    "    'lstm_train_perplexities_dropout': per_epoch_train_perplexities,\n",
    "    'lstm_valid_perplexities_dropout': per_epoch_valid_perplexities,\n",
    "    'lstm_train_losses_no_dropout': no_dropout[0],\n",
    "    'lstm_valid_losses_no_dropout': no_dropout[1],\n",
    "    'lstm_train_perplexities_no_dropout': no_dropout[2],\n",
    "    'lstm_valid_perplexities_no_dropout': no_dropout[3],\n",
    "    'gru_train_losses_dropout': Gru_dropout[0],\n",
    "    'gru_valid_losses_dropout': Gru_dropout[1],\n",
    "    'gru_train_perplexities_dropout': Gru_dropout[2],\n",
    "    'gru_valid_perplexities_dropout': Gru_dropout[3],\n",
    "    'gru_train_losses_no_dropout': Gru_no_dropout[0],\n",
    "    'gru_valid_losses_no_dropout': Gru_no_dropout[1],\n",
    "    'gru_train_perplexities_no_dropout': Gru_no_dropout[2],\n",
    "    'gru_valid_perplexities_no_dropout': Gru_no_dropout[3],\n",
    "}\n",
    "\n",
    "# Specify the file path in Google Drive\n",
    "file_path = '/content/drive/My Drive/language_model_data.pkl'\n",
    "\n",
    "# Save the dictionary to a pickle file\n",
    "with open(file_path, 'wb') as file:\n",
    "    pickle.dump(data_to_save, file)\n",
    "\n",
    "print(f\"Data saved to {file_path}\")\n",
    "\n",
    "\n",
    "# Example of how to load the data later\n",
    "# with open(file_path, 'rb') as file:\n",
    "#     loaded_data = pickle.load(file)\n",
    "\n",
    "# encoded_train = loaded_data['encoded_train']\n",
    "# # ... load other variables"
   ],
   "metadata": {
    "colab": {
     "base_uri": "https://localhost:8080/"
    },
    "id": "5XwHS3RHgqrz",
    "outputId": "1b6e4f30-086a-424b-9c12-d6577e0762eb"
   },
   "execution_count": null,
   "outputs": [
    {
     "output_type": "stream",
     "name": "stdout",
     "text": [
      "Data saved to /content/drive/My Drive/language_model_data.pkl\n"
     ]
    }
   ]
  },
  {
   "cell_type": "code",
   "source": [
    "# prompt: load models and evaluate on test data\n",
    "# load like this:\n",
    "# checkpoint_path = \"Perplexity_Comparasion_RNN/models/checkpoints/LSTM_dropout_0.3/best_validation_model.pt\"\n",
    "# model = hw2LSTM(batch_size, seq_length, hidden_dim, n_layers, vocab_size, embedding_dim, dropout_p, device, rnn_type=\"LSTM\", checkpoint=checkpoint_path)\n",
    "# model.eval()  # Set the model to evaluation mode\n",
    "# for each model\n",
    "\n",
    "def evaluate(val_x, val_y, model, batch_size, device):\n",
    "    valid_losses = []\n",
    "    valid_perplexities_avarage = []\n",
    "    val_dataset = SequenceDataset(torch.from_numpy(val_x), torch.from_numpy(val_y), model.seq_length, batch_size)\n",
    "    val_loader = DataLoader(val_dataset, batch_size=batch_size, shuffle=False, drop_last=True)\n",
    "    criterion = nn.CrossEntropyLoss()\n",
    "    criterion = criterion.to(device)\n",
    "    model.eval()\n",
    "    val_h = init_hidden(model,batch_size,model.n_layers,model.hidden_dim)\n",
    "    # Iterate throught validation data\n",
    "    for inputs, labels in val_loader:\n",
    "        # if inputs.shape[0] != batch_size or labels.shape[0] != batch_size:\n",
    "        #     continue\n",
    "        if model.rnn_type == \"LSTM\":\n",
    "          val_h = tuple([each.detach() for each in val_h])\n",
    "        elif model.rnn_type == \"GRU\":\n",
    "          val_h = val_h.detach()\n",
    "        inputs, labels = inputs.to(device), labels.to(device)\n",
    "        out, val_h = model(inputs, val_h)\n",
    "        labels = labels.view(-1)\n",
    "        val_loss = criterion(out, labels)\n",
    "        valid_losses.append(val_loss.item())\n",
    "\n",
    "        valid_perplexity = torch.exp(val_loss).item()\n",
    "        valid_perplexities_avarage.append(valid_perplexity)\n",
    "\n",
    "    # valid_losses.append(valid_loss/len(val_loader))\n",
    "    avarage_valid_loss = sum(valid_losses)/len(valid_losses)\n",
    "    average_valid_perplexity = sum(valid_perplexities_avarage)/len(valid_perplexities_avarage)\n",
    "    return average_valid_perplexity\n",
    "\n",
    "import torch\n",
    "\n",
    "checkpoint_paths = {\n",
    "    \"LSTM_dropout_0.3\": \"/content/drive/MyDrive/Deep Learning/models/checkpoints/LSTM_dropout_0.3/best_validation_model.pt\",\n",
    "    \"LSTM_no_dropout\": \"/content/drive/MyDrive/Deep Learning/models/checkpoints/LSTM_no_dropout/best_validation_model.pt\",  # Replace with the actual path\n",
    "    \"GRU_dropout_0.3\": \"/content/drive/MyDrive/Deep Learning/models/checkpoints/GRU_dropout_0.3/best_validation_model.pt\",    # Replace with the actual path\n",
    "    \"GRU_no_dropout\": \"/content/drive/MyDrive/Deep Learning/models/checkpoints/GRU_no_dropout/best_validation_model.pt\"      # Replace with the actual path\n",
    "}\n",
    "\n",
    "# Assuming hw2LSTM, batch_size, seq_length, hidden_dim, n_layers, vocab_size, embedding_dim, dropout_p, and device are defined\n",
    "\n",
    "device = torch.device(\"cuda\" if torch.cuda.is_available() else \"cpu\")\n",
    "\n",
    "for model_name, checkpoint_path in checkpoint_paths.items():\n",
    "    print(f\"Evaluating model: {model_name}\")\n",
    "    try:\n",
    "        if \"LSTM\" in model_name:\n",
    "          rnn_type = \"LSTM\"\n",
    "          dropout_p = 0.3 if \"dropout\" in model_name else 0\n",
    "        else: #GRU\n",
    "          rnn_type = \"GRU\"\n",
    "          dropout_p = 0.3 if \"dropout\" in model_name else 0\n",
    "        model = hw2LSTM(batch_size, seq_length, hidden_dim, n_layers, vocab_size, embedding_dim, dropout_p, device, rnn_type=rnn_type, checkpoint=checkpoint_path)\n",
    "        model.eval()  # Set the model to evaluation mode\n",
    "\n",
    "        perplexity = evaluate(encoded_test, test_labels, model, batch_size, device)\n",
    "        print(f\"Perplexity of {model_name}: {perplexity}\")\n",
    "        print(\"Evaluation complete.\")\n",
    "\n",
    "    except FileNotFoundError:\n",
    "        print(f\"Error: Checkpoint file not found for {model_name} at {checkpoint_path}\")\n",
    "    except Exception as e:\n",
    "        print(f\"An error occurred during evaluation of {model_name}: {e}\")"
   ],
   "metadata": {
    "id": "qlZ54497imM_"
   },
   "execution_count": null,
   "outputs": []
  }
 ]
}
